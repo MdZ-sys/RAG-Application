{
  "cells": [
    {
      "cell_type": "markdown",
      "id": "025f3e20-aec9-491c-8c90-234aed406a25",
      "metadata": {
        "id": "025f3e20-aec9-491c-8c90-234aed406a25"
      },
      "source": [
        "# RAG Application"
      ]
    },
    {
      "cell_type": "code",
      "source": [
        "!pip install -qqq llama-index llama-hub langchain==0.1.2 openai accelerate==0.21.0 bitsandbytes==0.40.2 transformers sentence_transformers==2.2.2 InstructorEmbedding chromadb"
      ],
      "metadata": {
        "id": "F8XBoiRQ9zQb"
      },
      "id": "F8XBoiRQ9zQb",
      "execution_count": 1,
      "outputs": []
    },
    {
      "cell_type": "code",
      "source": [
        "!pip install llama-index-llms-huggingface"
      ],
      "metadata": {
        "colab": {
          "base_uri": "https://localhost:8080/"
        },
        "id": "ehnmbzxqKqGg",
        "outputId": "f9428328-7160-4357-821f-eae41d1be90d"
      },
      "id": "ehnmbzxqKqGg",
      "execution_count": 2,
      "outputs": [
        {
          "output_type": "stream",
          "name": "stdout",
          "text": [
            "Requirement already satisfied: llama-index-llms-huggingface in /usr/local/lib/python3.10/dist-packages (0.2.0)\n",
            "Requirement already satisfied: huggingface-hub<0.24.0,>=0.23.0 in /usr/local/lib/python3.10/dist-packages (from llama-index-llms-huggingface) (0.23.0)\n",
            "Requirement already satisfied: llama-index-core<0.11.0,>=0.10.1 in /usr/local/lib/python3.10/dist-packages (from llama-index-llms-huggingface) (0.10.36)\n",
            "Requirement already satisfied: text-generation<0.8.0,>=0.7.0 in /usr/local/lib/python3.10/dist-packages (from llama-index-llms-huggingface) (0.7.0)\n",
            "Requirement already satisfied: torch<3.0.0,>=2.1.2 in /usr/local/lib/python3.10/dist-packages (from llama-index-llms-huggingface) (2.2.1+cu121)\n",
            "Requirement already satisfied: transformers[torch]<5.0.0,>=4.37.0 in /usr/local/lib/python3.10/dist-packages (from llama-index-llms-huggingface) (4.40.2)\n",
            "Requirement already satisfied: filelock in /usr/local/lib/python3.10/dist-packages (from huggingface-hub<0.24.0,>=0.23.0->llama-index-llms-huggingface) (3.14.0)\n",
            "Requirement already satisfied: fsspec>=2023.5.0 in /usr/local/lib/python3.10/dist-packages (from huggingface-hub<0.24.0,>=0.23.0->llama-index-llms-huggingface) (2023.6.0)\n",
            "Requirement already satisfied: packaging>=20.9 in /usr/local/lib/python3.10/dist-packages (from huggingface-hub<0.24.0,>=0.23.0->llama-index-llms-huggingface) (23.2)\n",
            "Requirement already satisfied: pyyaml>=5.1 in /usr/local/lib/python3.10/dist-packages (from huggingface-hub<0.24.0,>=0.23.0->llama-index-llms-huggingface) (6.0.1)\n",
            "Requirement already satisfied: requests in /usr/local/lib/python3.10/dist-packages (from huggingface-hub<0.24.0,>=0.23.0->llama-index-llms-huggingface) (2.31.0)\n",
            "Requirement already satisfied: tqdm>=4.42.1 in /usr/local/lib/python3.10/dist-packages (from huggingface-hub<0.24.0,>=0.23.0->llama-index-llms-huggingface) (4.66.4)\n",
            "Requirement already satisfied: typing-extensions>=3.7.4.3 in /usr/local/lib/python3.10/dist-packages (from huggingface-hub<0.24.0,>=0.23.0->llama-index-llms-huggingface) (4.11.0)\n",
            "Requirement already satisfied: SQLAlchemy[asyncio]>=1.4.49 in /usr/local/lib/python3.10/dist-packages (from llama-index-core<0.11.0,>=0.10.1->llama-index-llms-huggingface) (2.0.30)\n",
            "Requirement already satisfied: aiohttp<4.0.0,>=3.8.6 in /usr/local/lib/python3.10/dist-packages (from llama-index-core<0.11.0,>=0.10.1->llama-index-llms-huggingface) (3.9.5)\n",
            "Requirement already satisfied: dataclasses-json in /usr/local/lib/python3.10/dist-packages (from llama-index-core<0.11.0,>=0.10.1->llama-index-llms-huggingface) (0.6.6)\n",
            "Requirement already satisfied: deprecated>=1.2.9.3 in /usr/local/lib/python3.10/dist-packages (from llama-index-core<0.11.0,>=0.10.1->llama-index-llms-huggingface) (1.2.14)\n",
            "Requirement already satisfied: dirtyjson<2.0.0,>=1.0.8 in /usr/local/lib/python3.10/dist-packages (from llama-index-core<0.11.0,>=0.10.1->llama-index-llms-huggingface) (1.0.8)\n",
            "Requirement already satisfied: httpx in /usr/local/lib/python3.10/dist-packages (from llama-index-core<0.11.0,>=0.10.1->llama-index-llms-huggingface) (0.27.0)\n",
            "Requirement already satisfied: llamaindex-py-client<0.2.0,>=0.1.18 in /usr/local/lib/python3.10/dist-packages (from llama-index-core<0.11.0,>=0.10.1->llama-index-llms-huggingface) (0.1.19)\n",
            "Requirement already satisfied: nest-asyncio<2.0.0,>=1.5.8 in /usr/local/lib/python3.10/dist-packages (from llama-index-core<0.11.0,>=0.10.1->llama-index-llms-huggingface) (1.6.0)\n",
            "Requirement already satisfied: networkx>=3.0 in /usr/local/lib/python3.10/dist-packages (from llama-index-core<0.11.0,>=0.10.1->llama-index-llms-huggingface) (3.3)\n",
            "Requirement already satisfied: nltk<4.0.0,>=3.8.1 in /usr/local/lib/python3.10/dist-packages (from llama-index-core<0.11.0,>=0.10.1->llama-index-llms-huggingface) (3.8.1)\n",
            "Requirement already satisfied: numpy in /usr/local/lib/python3.10/dist-packages (from llama-index-core<0.11.0,>=0.10.1->llama-index-llms-huggingface) (1.25.2)\n",
            "Requirement already satisfied: openai>=1.1.0 in /usr/local/lib/python3.10/dist-packages (from llama-index-core<0.11.0,>=0.10.1->llama-index-llms-huggingface) (1.30.1)\n",
            "Requirement already satisfied: pandas in /usr/local/lib/python3.10/dist-packages (from llama-index-core<0.11.0,>=0.10.1->llama-index-llms-huggingface) (2.0.3)\n",
            "Requirement already satisfied: pillow>=9.0.0 in /usr/local/lib/python3.10/dist-packages (from llama-index-core<0.11.0,>=0.10.1->llama-index-llms-huggingface) (9.4.0)\n",
            "Requirement already satisfied: tenacity<9.0.0,>=8.2.0 in /usr/local/lib/python3.10/dist-packages (from llama-index-core<0.11.0,>=0.10.1->llama-index-llms-huggingface) (8.3.0)\n",
            "Requirement already satisfied: tiktoken>=0.3.3 in /usr/local/lib/python3.10/dist-packages (from llama-index-core<0.11.0,>=0.10.1->llama-index-llms-huggingface) (0.7.0)\n",
            "Requirement already satisfied: typing-inspect>=0.8.0 in /usr/local/lib/python3.10/dist-packages (from llama-index-core<0.11.0,>=0.10.1->llama-index-llms-huggingface) (0.9.0)\n",
            "Requirement already satisfied: wrapt in /usr/local/lib/python3.10/dist-packages (from llama-index-core<0.11.0,>=0.10.1->llama-index-llms-huggingface) (1.14.1)\n",
            "Requirement already satisfied: pydantic<3,>2 in /usr/local/lib/python3.10/dist-packages (from text-generation<0.8.0,>=0.7.0->llama-index-llms-huggingface) (2.7.1)\n",
            "Requirement already satisfied: sympy in /usr/local/lib/python3.10/dist-packages (from torch<3.0.0,>=2.1.2->llama-index-llms-huggingface) (1.12)\n",
            "Requirement already satisfied: jinja2 in /usr/local/lib/python3.10/dist-packages (from torch<3.0.0,>=2.1.2->llama-index-llms-huggingface) (3.1.4)\n",
            "Requirement already satisfied: nvidia-cuda-nvrtc-cu12==12.1.105 in /usr/local/lib/python3.10/dist-packages (from torch<3.0.0,>=2.1.2->llama-index-llms-huggingface) (12.1.105)\n",
            "Requirement already satisfied: nvidia-cuda-runtime-cu12==12.1.105 in /usr/local/lib/python3.10/dist-packages (from torch<3.0.0,>=2.1.2->llama-index-llms-huggingface) (12.1.105)\n",
            "Requirement already satisfied: nvidia-cuda-cupti-cu12==12.1.105 in /usr/local/lib/python3.10/dist-packages (from torch<3.0.0,>=2.1.2->llama-index-llms-huggingface) (12.1.105)\n",
            "Requirement already satisfied: nvidia-cudnn-cu12==8.9.2.26 in /usr/local/lib/python3.10/dist-packages (from torch<3.0.0,>=2.1.2->llama-index-llms-huggingface) (8.9.2.26)\n",
            "Requirement already satisfied: nvidia-cublas-cu12==12.1.3.1 in /usr/local/lib/python3.10/dist-packages (from torch<3.0.0,>=2.1.2->llama-index-llms-huggingface) (12.1.3.1)\n",
            "Requirement already satisfied: nvidia-cufft-cu12==11.0.2.54 in /usr/local/lib/python3.10/dist-packages (from torch<3.0.0,>=2.1.2->llama-index-llms-huggingface) (11.0.2.54)\n",
            "Requirement already satisfied: nvidia-curand-cu12==10.3.2.106 in /usr/local/lib/python3.10/dist-packages (from torch<3.0.0,>=2.1.2->llama-index-llms-huggingface) (10.3.2.106)\n",
            "Requirement already satisfied: nvidia-cusolver-cu12==11.4.5.107 in /usr/local/lib/python3.10/dist-packages (from torch<3.0.0,>=2.1.2->llama-index-llms-huggingface) (11.4.5.107)\n",
            "Requirement already satisfied: nvidia-cusparse-cu12==12.1.0.106 in /usr/local/lib/python3.10/dist-packages (from torch<3.0.0,>=2.1.2->llama-index-llms-huggingface) (12.1.0.106)\n",
            "Requirement already satisfied: nvidia-nccl-cu12==2.19.3 in /usr/local/lib/python3.10/dist-packages (from torch<3.0.0,>=2.1.2->llama-index-llms-huggingface) (2.19.3)\n",
            "Requirement already satisfied: nvidia-nvtx-cu12==12.1.105 in /usr/local/lib/python3.10/dist-packages (from torch<3.0.0,>=2.1.2->llama-index-llms-huggingface) (12.1.105)\n",
            "Requirement already satisfied: triton==2.2.0 in /usr/local/lib/python3.10/dist-packages (from torch<3.0.0,>=2.1.2->llama-index-llms-huggingface) (2.2.0)\n",
            "Requirement already satisfied: nvidia-nvjitlink-cu12 in /usr/local/lib/python3.10/dist-packages (from nvidia-cusolver-cu12==11.4.5.107->torch<3.0.0,>=2.1.2->llama-index-llms-huggingface) (12.4.127)\n",
            "Requirement already satisfied: regex!=2019.12.17 in /usr/local/lib/python3.10/dist-packages (from transformers[torch]<5.0.0,>=4.37.0->llama-index-llms-huggingface) (2023.12.25)\n",
            "Requirement already satisfied: tokenizers<0.20,>=0.19 in /usr/local/lib/python3.10/dist-packages (from transformers[torch]<5.0.0,>=4.37.0->llama-index-llms-huggingface) (0.19.1)\n",
            "Requirement already satisfied: safetensors>=0.4.1 in /usr/local/lib/python3.10/dist-packages (from transformers[torch]<5.0.0,>=4.37.0->llama-index-llms-huggingface) (0.4.3)\n",
            "Requirement already satisfied: accelerate>=0.21.0 in /usr/local/lib/python3.10/dist-packages (from transformers[torch]<5.0.0,>=4.37.0->llama-index-llms-huggingface) (0.21.0)\n",
            "Requirement already satisfied: psutil in /usr/local/lib/python3.10/dist-packages (from accelerate>=0.21.0->transformers[torch]<5.0.0,>=4.37.0->llama-index-llms-huggingface) (5.9.5)\n",
            "Requirement already satisfied: aiosignal>=1.1.2 in /usr/local/lib/python3.10/dist-packages (from aiohttp<4.0.0,>=3.8.6->llama-index-core<0.11.0,>=0.10.1->llama-index-llms-huggingface) (1.3.1)\n",
            "Requirement already satisfied: attrs>=17.3.0 in /usr/local/lib/python3.10/dist-packages (from aiohttp<4.0.0,>=3.8.6->llama-index-core<0.11.0,>=0.10.1->llama-index-llms-huggingface) (23.2.0)\n",
            "Requirement already satisfied: frozenlist>=1.1.1 in /usr/local/lib/python3.10/dist-packages (from aiohttp<4.0.0,>=3.8.6->llama-index-core<0.11.0,>=0.10.1->llama-index-llms-huggingface) (1.4.1)\n",
            "Requirement already satisfied: multidict<7.0,>=4.5 in /usr/local/lib/python3.10/dist-packages (from aiohttp<4.0.0,>=3.8.6->llama-index-core<0.11.0,>=0.10.1->llama-index-llms-huggingface) (6.0.5)\n",
            "Requirement already satisfied: yarl<2.0,>=1.0 in /usr/local/lib/python3.10/dist-packages (from aiohttp<4.0.0,>=3.8.6->llama-index-core<0.11.0,>=0.10.1->llama-index-llms-huggingface) (1.9.4)\n",
            "Requirement already satisfied: async-timeout<5.0,>=4.0 in /usr/local/lib/python3.10/dist-packages (from aiohttp<4.0.0,>=3.8.6->llama-index-core<0.11.0,>=0.10.1->llama-index-llms-huggingface) (4.0.3)\n",
            "Requirement already satisfied: anyio in /usr/local/lib/python3.10/dist-packages (from httpx->llama-index-core<0.11.0,>=0.10.1->llama-index-llms-huggingface) (3.7.1)\n",
            "Requirement already satisfied: certifi in /usr/local/lib/python3.10/dist-packages (from httpx->llama-index-core<0.11.0,>=0.10.1->llama-index-llms-huggingface) (2024.2.2)\n",
            "Requirement already satisfied: httpcore==1.* in /usr/local/lib/python3.10/dist-packages (from httpx->llama-index-core<0.11.0,>=0.10.1->llama-index-llms-huggingface) (1.0.5)\n",
            "Requirement already satisfied: idna in /usr/local/lib/python3.10/dist-packages (from httpx->llama-index-core<0.11.0,>=0.10.1->llama-index-llms-huggingface) (3.7)\n",
            "Requirement already satisfied: sniffio in /usr/local/lib/python3.10/dist-packages (from httpx->llama-index-core<0.11.0,>=0.10.1->llama-index-llms-huggingface) (1.3.1)\n",
            "Requirement already satisfied: h11<0.15,>=0.13 in /usr/local/lib/python3.10/dist-packages (from httpcore==1.*->httpx->llama-index-core<0.11.0,>=0.10.1->llama-index-llms-huggingface) (0.14.0)\n",
            "Requirement already satisfied: click in /usr/local/lib/python3.10/dist-packages (from nltk<4.0.0,>=3.8.1->llama-index-core<0.11.0,>=0.10.1->llama-index-llms-huggingface) (8.1.7)\n",
            "Requirement already satisfied: joblib in /usr/local/lib/python3.10/dist-packages (from nltk<4.0.0,>=3.8.1->llama-index-core<0.11.0,>=0.10.1->llama-index-llms-huggingface) (1.4.2)\n",
            "Requirement already satisfied: distro<2,>=1.7.0 in /usr/lib/python3/dist-packages (from openai>=1.1.0->llama-index-core<0.11.0,>=0.10.1->llama-index-llms-huggingface) (1.7.0)\n",
            "Requirement already satisfied: annotated-types>=0.4.0 in /usr/local/lib/python3.10/dist-packages (from pydantic<3,>2->text-generation<0.8.0,>=0.7.0->llama-index-llms-huggingface) (0.6.0)\n",
            "Requirement already satisfied: pydantic-core==2.18.2 in /usr/local/lib/python3.10/dist-packages (from pydantic<3,>2->text-generation<0.8.0,>=0.7.0->llama-index-llms-huggingface) (2.18.2)\n",
            "Requirement already satisfied: charset-normalizer<4,>=2 in /usr/local/lib/python3.10/dist-packages (from requests->huggingface-hub<0.24.0,>=0.23.0->llama-index-llms-huggingface) (3.3.2)\n",
            "Requirement already satisfied: urllib3<3,>=1.21.1 in /usr/local/lib/python3.10/dist-packages (from requests->huggingface-hub<0.24.0,>=0.23.0->llama-index-llms-huggingface) (2.0.7)\n",
            "Requirement already satisfied: greenlet!=0.4.17 in /usr/local/lib/python3.10/dist-packages (from SQLAlchemy[asyncio]>=1.4.49->llama-index-core<0.11.0,>=0.10.1->llama-index-llms-huggingface) (3.0.3)\n",
            "Requirement already satisfied: mypy-extensions>=0.3.0 in /usr/local/lib/python3.10/dist-packages (from typing-inspect>=0.8.0->llama-index-core<0.11.0,>=0.10.1->llama-index-llms-huggingface) (1.0.0)\n",
            "Requirement already satisfied: marshmallow<4.0.0,>=3.18.0 in /usr/local/lib/python3.10/dist-packages (from dataclasses-json->llama-index-core<0.11.0,>=0.10.1->llama-index-llms-huggingface) (3.21.2)\n",
            "Requirement already satisfied: MarkupSafe>=2.0 in /usr/local/lib/python3.10/dist-packages (from jinja2->torch<3.0.0,>=2.1.2->llama-index-llms-huggingface) (2.1.5)\n",
            "Requirement already satisfied: python-dateutil>=2.8.2 in /usr/local/lib/python3.10/dist-packages (from pandas->llama-index-core<0.11.0,>=0.10.1->llama-index-llms-huggingface) (2.8.2)\n",
            "Requirement already satisfied: pytz>=2020.1 in /usr/local/lib/python3.10/dist-packages (from pandas->llama-index-core<0.11.0,>=0.10.1->llama-index-llms-huggingface) (2023.4)\n",
            "Requirement already satisfied: tzdata>=2022.1 in /usr/local/lib/python3.10/dist-packages (from pandas->llama-index-core<0.11.0,>=0.10.1->llama-index-llms-huggingface) (2024.1)\n",
            "Requirement already satisfied: mpmath>=0.19 in /usr/local/lib/python3.10/dist-packages (from sympy->torch<3.0.0,>=2.1.2->llama-index-llms-huggingface) (1.3.0)\n",
            "Requirement already satisfied: exceptiongroup in /usr/local/lib/python3.10/dist-packages (from anyio->httpx->llama-index-core<0.11.0,>=0.10.1->llama-index-llms-huggingface) (1.2.1)\n",
            "Requirement already satisfied: six>=1.5 in /usr/local/lib/python3.10/dist-packages (from python-dateutil>=2.8.2->pandas->llama-index-core<0.11.0,>=0.10.1->llama-index-llms-huggingface) (1.16.0)\n"
          ]
        }
      ]
    },
    {
      "cell_type": "code",
      "source": [
        "!pip install llama-index-vector-stores-chroma"
      ],
      "metadata": {
        "colab": {
          "base_uri": "https://localhost:8080/"
        },
        "id": "kmJqTLSxMG97",
        "outputId": "ac64d0e8-0631-46ca-a36e-529f0f61d61e"
      },
      "id": "kmJqTLSxMG97",
      "execution_count": 3,
      "outputs": [
        {
          "output_type": "stream",
          "name": "stdout",
          "text": [
            "Requirement already satisfied: llama-index-vector-stores-chroma in /usr/local/lib/python3.10/dist-packages (0.1.8)\n",
            "Requirement already satisfied: chromadb<0.6.0,>=0.4.0 in /usr/local/lib/python3.10/dist-packages (from llama-index-vector-stores-chroma) (0.5.0)\n",
            "Requirement already satisfied: llama-index-core<0.11.0,>=0.10.1 in /usr/local/lib/python3.10/dist-packages (from llama-index-vector-stores-chroma) (0.10.36)\n",
            "Requirement already satisfied: build>=1.0.3 in /usr/local/lib/python3.10/dist-packages (from chromadb<0.6.0,>=0.4.0->llama-index-vector-stores-chroma) (1.2.1)\n",
            "Requirement already satisfied: requests>=2.28 in /usr/local/lib/python3.10/dist-packages (from chromadb<0.6.0,>=0.4.0->llama-index-vector-stores-chroma) (2.31.0)\n",
            "Requirement already satisfied: pydantic>=1.9 in /usr/local/lib/python3.10/dist-packages (from chromadb<0.6.0,>=0.4.0->llama-index-vector-stores-chroma) (2.7.1)\n",
            "Requirement already satisfied: chroma-hnswlib==0.7.3 in /usr/local/lib/python3.10/dist-packages (from chromadb<0.6.0,>=0.4.0->llama-index-vector-stores-chroma) (0.7.3)\n",
            "Requirement already satisfied: fastapi>=0.95.2 in /usr/local/lib/python3.10/dist-packages (from chromadb<0.6.0,>=0.4.0->llama-index-vector-stores-chroma) (0.111.0)\n",
            "Requirement already satisfied: uvicorn[standard]>=0.18.3 in /usr/local/lib/python3.10/dist-packages (from chromadb<0.6.0,>=0.4.0->llama-index-vector-stores-chroma) (0.29.0)\n",
            "Requirement already satisfied: numpy>=1.22.5 in /usr/local/lib/python3.10/dist-packages (from chromadb<0.6.0,>=0.4.0->llama-index-vector-stores-chroma) (1.25.2)\n",
            "Requirement already satisfied: posthog>=2.4.0 in /usr/local/lib/python3.10/dist-packages (from chromadb<0.6.0,>=0.4.0->llama-index-vector-stores-chroma) (3.5.0)\n",
            "Requirement already satisfied: typing-extensions>=4.5.0 in /usr/local/lib/python3.10/dist-packages (from chromadb<0.6.0,>=0.4.0->llama-index-vector-stores-chroma) (4.11.0)\n",
            "Requirement already satisfied: onnxruntime>=1.14.1 in /usr/local/lib/python3.10/dist-packages (from chromadb<0.6.0,>=0.4.0->llama-index-vector-stores-chroma) (1.18.0)\n",
            "Requirement already satisfied: opentelemetry-api>=1.2.0 in /usr/local/lib/python3.10/dist-packages (from chromadb<0.6.0,>=0.4.0->llama-index-vector-stores-chroma) (1.24.0)\n",
            "Requirement already satisfied: opentelemetry-exporter-otlp-proto-grpc>=1.2.0 in /usr/local/lib/python3.10/dist-packages (from chromadb<0.6.0,>=0.4.0->llama-index-vector-stores-chroma) (1.24.0)\n",
            "Requirement already satisfied: opentelemetry-instrumentation-fastapi>=0.41b0 in /usr/local/lib/python3.10/dist-packages (from chromadb<0.6.0,>=0.4.0->llama-index-vector-stores-chroma) (0.45b0)\n",
            "Requirement already satisfied: opentelemetry-sdk>=1.2.0 in /usr/local/lib/python3.10/dist-packages (from chromadb<0.6.0,>=0.4.0->llama-index-vector-stores-chroma) (1.24.0)\n",
            "Requirement already satisfied: tokenizers>=0.13.2 in /usr/local/lib/python3.10/dist-packages (from chromadb<0.6.0,>=0.4.0->llama-index-vector-stores-chroma) (0.19.1)\n",
            "Requirement already satisfied: pypika>=0.48.9 in /usr/local/lib/python3.10/dist-packages (from chromadb<0.6.0,>=0.4.0->llama-index-vector-stores-chroma) (0.48.9)\n",
            "Requirement already satisfied: tqdm>=4.65.0 in /usr/local/lib/python3.10/dist-packages (from chromadb<0.6.0,>=0.4.0->llama-index-vector-stores-chroma) (4.66.4)\n",
            "Requirement already satisfied: overrides>=7.3.1 in /usr/local/lib/python3.10/dist-packages (from chromadb<0.6.0,>=0.4.0->llama-index-vector-stores-chroma) (7.7.0)\n",
            "Requirement already satisfied: importlib-resources in /usr/local/lib/python3.10/dist-packages (from chromadb<0.6.0,>=0.4.0->llama-index-vector-stores-chroma) (6.4.0)\n",
            "Requirement already satisfied: grpcio>=1.58.0 in /usr/local/lib/python3.10/dist-packages (from chromadb<0.6.0,>=0.4.0->llama-index-vector-stores-chroma) (1.63.0)\n",
            "Requirement already satisfied: bcrypt>=4.0.1 in /usr/local/lib/python3.10/dist-packages (from chromadb<0.6.0,>=0.4.0->llama-index-vector-stores-chroma) (4.1.3)\n",
            "Requirement already satisfied: typer>=0.9.0 in /usr/local/lib/python3.10/dist-packages (from chromadb<0.6.0,>=0.4.0->llama-index-vector-stores-chroma) (0.12.3)\n",
            "Requirement already satisfied: kubernetes>=28.1.0 in /usr/local/lib/python3.10/dist-packages (from chromadb<0.6.0,>=0.4.0->llama-index-vector-stores-chroma) (29.0.0)\n",
            "Requirement already satisfied: tenacity>=8.2.3 in /usr/local/lib/python3.10/dist-packages (from chromadb<0.6.0,>=0.4.0->llama-index-vector-stores-chroma) (8.3.0)\n",
            "Requirement already satisfied: PyYAML>=6.0.0 in /usr/local/lib/python3.10/dist-packages (from chromadb<0.6.0,>=0.4.0->llama-index-vector-stores-chroma) (6.0.1)\n",
            "Requirement already satisfied: mmh3>=4.0.1 in /usr/local/lib/python3.10/dist-packages (from chromadb<0.6.0,>=0.4.0->llama-index-vector-stores-chroma) (4.1.0)\n",
            "Requirement already satisfied: orjson>=3.9.12 in /usr/local/lib/python3.10/dist-packages (from chromadb<0.6.0,>=0.4.0->llama-index-vector-stores-chroma) (3.10.3)\n",
            "Requirement already satisfied: SQLAlchemy[asyncio]>=1.4.49 in /usr/local/lib/python3.10/dist-packages (from llama-index-core<0.11.0,>=0.10.1->llama-index-vector-stores-chroma) (2.0.30)\n",
            "Requirement already satisfied: aiohttp<4.0.0,>=3.8.6 in /usr/local/lib/python3.10/dist-packages (from llama-index-core<0.11.0,>=0.10.1->llama-index-vector-stores-chroma) (3.9.5)\n",
            "Requirement already satisfied: dataclasses-json in /usr/local/lib/python3.10/dist-packages (from llama-index-core<0.11.0,>=0.10.1->llama-index-vector-stores-chroma) (0.6.6)\n",
            "Requirement already satisfied: deprecated>=1.2.9.3 in /usr/local/lib/python3.10/dist-packages (from llama-index-core<0.11.0,>=0.10.1->llama-index-vector-stores-chroma) (1.2.14)\n",
            "Requirement already satisfied: dirtyjson<2.0.0,>=1.0.8 in /usr/local/lib/python3.10/dist-packages (from llama-index-core<0.11.0,>=0.10.1->llama-index-vector-stores-chroma) (1.0.8)\n",
            "Requirement already satisfied: fsspec>=2023.5.0 in /usr/local/lib/python3.10/dist-packages (from llama-index-core<0.11.0,>=0.10.1->llama-index-vector-stores-chroma) (2023.6.0)\n",
            "Requirement already satisfied: httpx in /usr/local/lib/python3.10/dist-packages (from llama-index-core<0.11.0,>=0.10.1->llama-index-vector-stores-chroma) (0.27.0)\n",
            "Requirement already satisfied: llamaindex-py-client<0.2.0,>=0.1.18 in /usr/local/lib/python3.10/dist-packages (from llama-index-core<0.11.0,>=0.10.1->llama-index-vector-stores-chroma) (0.1.19)\n",
            "Requirement already satisfied: nest-asyncio<2.0.0,>=1.5.8 in /usr/local/lib/python3.10/dist-packages (from llama-index-core<0.11.0,>=0.10.1->llama-index-vector-stores-chroma) (1.6.0)\n",
            "Requirement already satisfied: networkx>=3.0 in /usr/local/lib/python3.10/dist-packages (from llama-index-core<0.11.0,>=0.10.1->llama-index-vector-stores-chroma) (3.3)\n",
            "Requirement already satisfied: nltk<4.0.0,>=3.8.1 in /usr/local/lib/python3.10/dist-packages (from llama-index-core<0.11.0,>=0.10.1->llama-index-vector-stores-chroma) (3.8.1)\n",
            "Requirement already satisfied: openai>=1.1.0 in /usr/local/lib/python3.10/dist-packages (from llama-index-core<0.11.0,>=0.10.1->llama-index-vector-stores-chroma) (1.30.1)\n",
            "Requirement already satisfied: pandas in /usr/local/lib/python3.10/dist-packages (from llama-index-core<0.11.0,>=0.10.1->llama-index-vector-stores-chroma) (2.0.3)\n",
            "Requirement already satisfied: pillow>=9.0.0 in /usr/local/lib/python3.10/dist-packages (from llama-index-core<0.11.0,>=0.10.1->llama-index-vector-stores-chroma) (9.4.0)\n",
            "Requirement already satisfied: tiktoken>=0.3.3 in /usr/local/lib/python3.10/dist-packages (from llama-index-core<0.11.0,>=0.10.1->llama-index-vector-stores-chroma) (0.7.0)\n",
            "Requirement already satisfied: typing-inspect>=0.8.0 in /usr/local/lib/python3.10/dist-packages (from llama-index-core<0.11.0,>=0.10.1->llama-index-vector-stores-chroma) (0.9.0)\n",
            "Requirement already satisfied: wrapt in /usr/local/lib/python3.10/dist-packages (from llama-index-core<0.11.0,>=0.10.1->llama-index-vector-stores-chroma) (1.14.1)\n",
            "Requirement already satisfied: aiosignal>=1.1.2 in /usr/local/lib/python3.10/dist-packages (from aiohttp<4.0.0,>=3.8.6->llama-index-core<0.11.0,>=0.10.1->llama-index-vector-stores-chroma) (1.3.1)\n",
            "Requirement already satisfied: attrs>=17.3.0 in /usr/local/lib/python3.10/dist-packages (from aiohttp<4.0.0,>=3.8.6->llama-index-core<0.11.0,>=0.10.1->llama-index-vector-stores-chroma) (23.2.0)\n",
            "Requirement already satisfied: frozenlist>=1.1.1 in /usr/local/lib/python3.10/dist-packages (from aiohttp<4.0.0,>=3.8.6->llama-index-core<0.11.0,>=0.10.1->llama-index-vector-stores-chroma) (1.4.1)\n",
            "Requirement already satisfied: multidict<7.0,>=4.5 in /usr/local/lib/python3.10/dist-packages (from aiohttp<4.0.0,>=3.8.6->llama-index-core<0.11.0,>=0.10.1->llama-index-vector-stores-chroma) (6.0.5)\n",
            "Requirement already satisfied: yarl<2.0,>=1.0 in /usr/local/lib/python3.10/dist-packages (from aiohttp<4.0.0,>=3.8.6->llama-index-core<0.11.0,>=0.10.1->llama-index-vector-stores-chroma) (1.9.4)\n",
            "Requirement already satisfied: async-timeout<5.0,>=4.0 in /usr/local/lib/python3.10/dist-packages (from aiohttp<4.0.0,>=3.8.6->llama-index-core<0.11.0,>=0.10.1->llama-index-vector-stores-chroma) (4.0.3)\n",
            "Requirement already satisfied: packaging>=19.1 in /usr/local/lib/python3.10/dist-packages (from build>=1.0.3->chromadb<0.6.0,>=0.4.0->llama-index-vector-stores-chroma) (23.2)\n",
            "Requirement already satisfied: pyproject_hooks in /usr/local/lib/python3.10/dist-packages (from build>=1.0.3->chromadb<0.6.0,>=0.4.0->llama-index-vector-stores-chroma) (1.1.0)\n",
            "Requirement already satisfied: tomli>=1.1.0 in /usr/local/lib/python3.10/dist-packages (from build>=1.0.3->chromadb<0.6.0,>=0.4.0->llama-index-vector-stores-chroma) (2.0.1)\n",
            "Requirement already satisfied: starlette<0.38.0,>=0.37.2 in /usr/local/lib/python3.10/dist-packages (from fastapi>=0.95.2->chromadb<0.6.0,>=0.4.0->llama-index-vector-stores-chroma) (0.37.2)\n",
            "Requirement already satisfied: fastapi-cli>=0.0.2 in /usr/local/lib/python3.10/dist-packages (from fastapi>=0.95.2->chromadb<0.6.0,>=0.4.0->llama-index-vector-stores-chroma) (0.0.4)\n",
            "Requirement already satisfied: jinja2>=2.11.2 in /usr/local/lib/python3.10/dist-packages (from fastapi>=0.95.2->chromadb<0.6.0,>=0.4.0->llama-index-vector-stores-chroma) (3.1.4)\n",
            "Requirement already satisfied: python-multipart>=0.0.7 in /usr/local/lib/python3.10/dist-packages (from fastapi>=0.95.2->chromadb<0.6.0,>=0.4.0->llama-index-vector-stores-chroma) (0.0.9)\n",
            "Requirement already satisfied: ujson!=4.0.2,!=4.1.0,!=4.2.0,!=4.3.0,!=5.0.0,!=5.1.0,>=4.0.1 in /usr/local/lib/python3.10/dist-packages (from fastapi>=0.95.2->chromadb<0.6.0,>=0.4.0->llama-index-vector-stores-chroma) (5.10.0)\n",
            "Requirement already satisfied: email_validator>=2.0.0 in /usr/local/lib/python3.10/dist-packages (from fastapi>=0.95.2->chromadb<0.6.0,>=0.4.0->llama-index-vector-stores-chroma) (2.1.1)\n",
            "Requirement already satisfied: anyio in /usr/local/lib/python3.10/dist-packages (from httpx->llama-index-core<0.11.0,>=0.10.1->llama-index-vector-stores-chroma) (3.7.1)\n",
            "Requirement already satisfied: certifi in /usr/local/lib/python3.10/dist-packages (from httpx->llama-index-core<0.11.0,>=0.10.1->llama-index-vector-stores-chroma) (2024.2.2)\n",
            "Requirement already satisfied: httpcore==1.* in /usr/local/lib/python3.10/dist-packages (from httpx->llama-index-core<0.11.0,>=0.10.1->llama-index-vector-stores-chroma) (1.0.5)\n",
            "Requirement already satisfied: idna in /usr/local/lib/python3.10/dist-packages (from httpx->llama-index-core<0.11.0,>=0.10.1->llama-index-vector-stores-chroma) (3.7)\n",
            "Requirement already satisfied: sniffio in /usr/local/lib/python3.10/dist-packages (from httpx->llama-index-core<0.11.0,>=0.10.1->llama-index-vector-stores-chroma) (1.3.1)\n",
            "Requirement already satisfied: h11<0.15,>=0.13 in /usr/local/lib/python3.10/dist-packages (from httpcore==1.*->httpx->llama-index-core<0.11.0,>=0.10.1->llama-index-vector-stores-chroma) (0.14.0)\n",
            "Requirement already satisfied: six>=1.9.0 in /usr/local/lib/python3.10/dist-packages (from kubernetes>=28.1.0->chromadb<0.6.0,>=0.4.0->llama-index-vector-stores-chroma) (1.16.0)\n",
            "Requirement already satisfied: python-dateutil>=2.5.3 in /usr/local/lib/python3.10/dist-packages (from kubernetes>=28.1.0->chromadb<0.6.0,>=0.4.0->llama-index-vector-stores-chroma) (2.8.2)\n",
            "Requirement already satisfied: google-auth>=1.0.1 in /usr/local/lib/python3.10/dist-packages (from kubernetes>=28.1.0->chromadb<0.6.0,>=0.4.0->llama-index-vector-stores-chroma) (2.27.0)\n",
            "Requirement already satisfied: websocket-client!=0.40.0,!=0.41.*,!=0.42.*,>=0.32.0 in /usr/local/lib/python3.10/dist-packages (from kubernetes>=28.1.0->chromadb<0.6.0,>=0.4.0->llama-index-vector-stores-chroma) (1.8.0)\n",
            "Requirement already satisfied: requests-oauthlib in /usr/local/lib/python3.10/dist-packages (from kubernetes>=28.1.0->chromadb<0.6.0,>=0.4.0->llama-index-vector-stores-chroma) (1.3.1)\n",
            "Requirement already satisfied: oauthlib>=3.2.2 in /usr/local/lib/python3.10/dist-packages (from kubernetes>=28.1.0->chromadb<0.6.0,>=0.4.0->llama-index-vector-stores-chroma) (3.2.2)\n",
            "Requirement already satisfied: urllib3>=1.24.2 in /usr/local/lib/python3.10/dist-packages (from kubernetes>=28.1.0->chromadb<0.6.0,>=0.4.0->llama-index-vector-stores-chroma) (2.0.7)\n",
            "Requirement already satisfied: click in /usr/local/lib/python3.10/dist-packages (from nltk<4.0.0,>=3.8.1->llama-index-core<0.11.0,>=0.10.1->llama-index-vector-stores-chroma) (8.1.7)\n",
            "Requirement already satisfied: joblib in /usr/local/lib/python3.10/dist-packages (from nltk<4.0.0,>=3.8.1->llama-index-core<0.11.0,>=0.10.1->llama-index-vector-stores-chroma) (1.4.2)\n",
            "Requirement already satisfied: regex>=2021.8.3 in /usr/local/lib/python3.10/dist-packages (from nltk<4.0.0,>=3.8.1->llama-index-core<0.11.0,>=0.10.1->llama-index-vector-stores-chroma) (2023.12.25)\n",
            "Requirement already satisfied: coloredlogs in /usr/local/lib/python3.10/dist-packages (from onnxruntime>=1.14.1->chromadb<0.6.0,>=0.4.0->llama-index-vector-stores-chroma) (15.0.1)\n",
            "Requirement already satisfied: flatbuffers in /usr/local/lib/python3.10/dist-packages (from onnxruntime>=1.14.1->chromadb<0.6.0,>=0.4.0->llama-index-vector-stores-chroma) (24.3.25)\n",
            "Requirement already satisfied: protobuf in /usr/local/lib/python3.10/dist-packages (from onnxruntime>=1.14.1->chromadb<0.6.0,>=0.4.0->llama-index-vector-stores-chroma) (3.20.3)\n",
            "Requirement already satisfied: sympy in /usr/local/lib/python3.10/dist-packages (from onnxruntime>=1.14.1->chromadb<0.6.0,>=0.4.0->llama-index-vector-stores-chroma) (1.12)\n",
            "Requirement already satisfied: distro<2,>=1.7.0 in /usr/lib/python3/dist-packages (from openai>=1.1.0->llama-index-core<0.11.0,>=0.10.1->llama-index-vector-stores-chroma) (1.7.0)\n",
            "Requirement already satisfied: importlib-metadata<=7.0,>=6.0 in /usr/local/lib/python3.10/dist-packages (from opentelemetry-api>=1.2.0->chromadb<0.6.0,>=0.4.0->llama-index-vector-stores-chroma) (7.0.0)\n",
            "Requirement already satisfied: googleapis-common-protos~=1.52 in /usr/local/lib/python3.10/dist-packages (from opentelemetry-exporter-otlp-proto-grpc>=1.2.0->chromadb<0.6.0,>=0.4.0->llama-index-vector-stores-chroma) (1.63.0)\n",
            "Requirement already satisfied: opentelemetry-exporter-otlp-proto-common==1.24.0 in /usr/local/lib/python3.10/dist-packages (from opentelemetry-exporter-otlp-proto-grpc>=1.2.0->chromadb<0.6.0,>=0.4.0->llama-index-vector-stores-chroma) (1.24.0)\n",
            "Requirement already satisfied: opentelemetry-proto==1.24.0 in /usr/local/lib/python3.10/dist-packages (from opentelemetry-exporter-otlp-proto-grpc>=1.2.0->chromadb<0.6.0,>=0.4.0->llama-index-vector-stores-chroma) (1.24.0)\n",
            "Requirement already satisfied: opentelemetry-instrumentation-asgi==0.45b0 in /usr/local/lib/python3.10/dist-packages (from opentelemetry-instrumentation-fastapi>=0.41b0->chromadb<0.6.0,>=0.4.0->llama-index-vector-stores-chroma) (0.45b0)\n",
            "Requirement already satisfied: opentelemetry-instrumentation==0.45b0 in /usr/local/lib/python3.10/dist-packages (from opentelemetry-instrumentation-fastapi>=0.41b0->chromadb<0.6.0,>=0.4.0->llama-index-vector-stores-chroma) (0.45b0)\n",
            "Requirement already satisfied: opentelemetry-semantic-conventions==0.45b0 in /usr/local/lib/python3.10/dist-packages (from opentelemetry-instrumentation-fastapi>=0.41b0->chromadb<0.6.0,>=0.4.0->llama-index-vector-stores-chroma) (0.45b0)\n",
            "Requirement already satisfied: opentelemetry-util-http==0.45b0 in /usr/local/lib/python3.10/dist-packages (from opentelemetry-instrumentation-fastapi>=0.41b0->chromadb<0.6.0,>=0.4.0->llama-index-vector-stores-chroma) (0.45b0)\n",
            "Requirement already satisfied: setuptools>=16.0 in /usr/local/lib/python3.10/dist-packages (from opentelemetry-instrumentation==0.45b0->opentelemetry-instrumentation-fastapi>=0.41b0->chromadb<0.6.0,>=0.4.0->llama-index-vector-stores-chroma) (67.7.2)\n",
            "Requirement already satisfied: asgiref~=3.0 in /usr/local/lib/python3.10/dist-packages (from opentelemetry-instrumentation-asgi==0.45b0->opentelemetry-instrumentation-fastapi>=0.41b0->chromadb<0.6.0,>=0.4.0->llama-index-vector-stores-chroma) (3.8.1)\n",
            "Requirement already satisfied: monotonic>=1.5 in /usr/local/lib/python3.10/dist-packages (from posthog>=2.4.0->chromadb<0.6.0,>=0.4.0->llama-index-vector-stores-chroma) (1.6)\n",
            "Requirement already satisfied: backoff>=1.10.0 in /usr/local/lib/python3.10/dist-packages (from posthog>=2.4.0->chromadb<0.6.0,>=0.4.0->llama-index-vector-stores-chroma) (2.2.1)\n",
            "Requirement already satisfied: annotated-types>=0.4.0 in /usr/local/lib/python3.10/dist-packages (from pydantic>=1.9->chromadb<0.6.0,>=0.4.0->llama-index-vector-stores-chroma) (0.6.0)\n",
            "Requirement already satisfied: pydantic-core==2.18.2 in /usr/local/lib/python3.10/dist-packages (from pydantic>=1.9->chromadb<0.6.0,>=0.4.0->llama-index-vector-stores-chroma) (2.18.2)\n",
            "Requirement already satisfied: charset-normalizer<4,>=2 in /usr/local/lib/python3.10/dist-packages (from requests>=2.28->chromadb<0.6.0,>=0.4.0->llama-index-vector-stores-chroma) (3.3.2)\n",
            "Requirement already satisfied: greenlet!=0.4.17 in /usr/local/lib/python3.10/dist-packages (from SQLAlchemy[asyncio]>=1.4.49->llama-index-core<0.11.0,>=0.10.1->llama-index-vector-stores-chroma) (3.0.3)\n",
            "Requirement already satisfied: huggingface-hub<1.0,>=0.16.4 in /usr/local/lib/python3.10/dist-packages (from tokenizers>=0.13.2->chromadb<0.6.0,>=0.4.0->llama-index-vector-stores-chroma) (0.23.0)\n",
            "Requirement already satisfied: shellingham>=1.3.0 in /usr/local/lib/python3.10/dist-packages (from typer>=0.9.0->chromadb<0.6.0,>=0.4.0->llama-index-vector-stores-chroma) (1.5.4)\n",
            "Requirement already satisfied: rich>=10.11.0 in /usr/local/lib/python3.10/dist-packages (from typer>=0.9.0->chromadb<0.6.0,>=0.4.0->llama-index-vector-stores-chroma) (13.7.1)\n",
            "Requirement already satisfied: mypy-extensions>=0.3.0 in /usr/local/lib/python3.10/dist-packages (from typing-inspect>=0.8.0->llama-index-core<0.11.0,>=0.10.1->llama-index-vector-stores-chroma) (1.0.0)\n",
            "Requirement already satisfied: httptools>=0.5.0 in /usr/local/lib/python3.10/dist-packages (from uvicorn[standard]>=0.18.3->chromadb<0.6.0,>=0.4.0->llama-index-vector-stores-chroma) (0.6.1)\n",
            "Requirement already satisfied: python-dotenv>=0.13 in /usr/local/lib/python3.10/dist-packages (from uvicorn[standard]>=0.18.3->chromadb<0.6.0,>=0.4.0->llama-index-vector-stores-chroma) (1.0.1)\n",
            "Requirement already satisfied: uvloop!=0.15.0,!=0.15.1,>=0.14.0 in /usr/local/lib/python3.10/dist-packages (from uvicorn[standard]>=0.18.3->chromadb<0.6.0,>=0.4.0->llama-index-vector-stores-chroma) (0.19.0)\n",
            "Requirement already satisfied: watchfiles>=0.13 in /usr/local/lib/python3.10/dist-packages (from uvicorn[standard]>=0.18.3->chromadb<0.6.0,>=0.4.0->llama-index-vector-stores-chroma) (0.21.0)\n",
            "Requirement already satisfied: websockets>=10.4 in /usr/local/lib/python3.10/dist-packages (from uvicorn[standard]>=0.18.3->chromadb<0.6.0,>=0.4.0->llama-index-vector-stores-chroma) (12.0)\n",
            "Requirement already satisfied: marshmallow<4.0.0,>=3.18.0 in /usr/local/lib/python3.10/dist-packages (from dataclasses-json->llama-index-core<0.11.0,>=0.10.1->llama-index-vector-stores-chroma) (3.21.2)\n",
            "Requirement already satisfied: pytz>=2020.1 in /usr/local/lib/python3.10/dist-packages (from pandas->llama-index-core<0.11.0,>=0.10.1->llama-index-vector-stores-chroma) (2023.4)\n",
            "Requirement already satisfied: tzdata>=2022.1 in /usr/local/lib/python3.10/dist-packages (from pandas->llama-index-core<0.11.0,>=0.10.1->llama-index-vector-stores-chroma) (2024.1)\n",
            "Requirement already satisfied: exceptiongroup in /usr/local/lib/python3.10/dist-packages (from anyio->httpx->llama-index-core<0.11.0,>=0.10.1->llama-index-vector-stores-chroma) (1.2.1)\n",
            "Requirement already satisfied: dnspython>=2.0.0 in /usr/local/lib/python3.10/dist-packages (from email_validator>=2.0.0->fastapi>=0.95.2->chromadb<0.6.0,>=0.4.0->llama-index-vector-stores-chroma) (2.6.1)\n",
            "Requirement already satisfied: cachetools<6.0,>=2.0.0 in /usr/local/lib/python3.10/dist-packages (from google-auth>=1.0.1->kubernetes>=28.1.0->chromadb<0.6.0,>=0.4.0->llama-index-vector-stores-chroma) (5.3.3)\n",
            "Requirement already satisfied: pyasn1-modules>=0.2.1 in /usr/local/lib/python3.10/dist-packages (from google-auth>=1.0.1->kubernetes>=28.1.0->chromadb<0.6.0,>=0.4.0->llama-index-vector-stores-chroma) (0.4.0)\n",
            "Requirement already satisfied: rsa<5,>=3.1.4 in /usr/local/lib/python3.10/dist-packages (from google-auth>=1.0.1->kubernetes>=28.1.0->chromadb<0.6.0,>=0.4.0->llama-index-vector-stores-chroma) (4.9)\n",
            "Requirement already satisfied: filelock in /usr/local/lib/python3.10/dist-packages (from huggingface-hub<1.0,>=0.16.4->tokenizers>=0.13.2->chromadb<0.6.0,>=0.4.0->llama-index-vector-stores-chroma) (3.14.0)\n",
            "Requirement already satisfied: zipp>=0.5 in /usr/local/lib/python3.10/dist-packages (from importlib-metadata<=7.0,>=6.0->opentelemetry-api>=1.2.0->chromadb<0.6.0,>=0.4.0->llama-index-vector-stores-chroma) (3.18.1)\n",
            "Requirement already satisfied: MarkupSafe>=2.0 in /usr/local/lib/python3.10/dist-packages (from jinja2>=2.11.2->fastapi>=0.95.2->chromadb<0.6.0,>=0.4.0->llama-index-vector-stores-chroma) (2.1.5)\n",
            "Requirement already satisfied: markdown-it-py>=2.2.0 in /usr/local/lib/python3.10/dist-packages (from rich>=10.11.0->typer>=0.9.0->chromadb<0.6.0,>=0.4.0->llama-index-vector-stores-chroma) (3.0.0)\n",
            "Requirement already satisfied: pygments<3.0.0,>=2.13.0 in /usr/local/lib/python3.10/dist-packages (from rich>=10.11.0->typer>=0.9.0->chromadb<0.6.0,>=0.4.0->llama-index-vector-stores-chroma) (2.16.1)\n",
            "Requirement already satisfied: humanfriendly>=9.1 in /usr/local/lib/python3.10/dist-packages (from coloredlogs->onnxruntime>=1.14.1->chromadb<0.6.0,>=0.4.0->llama-index-vector-stores-chroma) (10.0)\n",
            "Requirement already satisfied: mpmath>=0.19 in /usr/local/lib/python3.10/dist-packages (from sympy->onnxruntime>=1.14.1->chromadb<0.6.0,>=0.4.0->llama-index-vector-stores-chroma) (1.3.0)\n",
            "Requirement already satisfied: mdurl~=0.1 in /usr/local/lib/python3.10/dist-packages (from markdown-it-py>=2.2.0->rich>=10.11.0->typer>=0.9.0->chromadb<0.6.0,>=0.4.0->llama-index-vector-stores-chroma) (0.1.2)\n",
            "Requirement already satisfied: pyasn1<0.7.0,>=0.4.6 in /usr/local/lib/python3.10/dist-packages (from pyasn1-modules>=0.2.1->google-auth>=1.0.1->kubernetes>=28.1.0->chromadb<0.6.0,>=0.4.0->llama-index-vector-stores-chroma) (0.6.0)\n"
          ]
        }
      ]
    },
    {
      "cell_type": "code",
      "source": [
        "!pip install llama-index-embeddings-langchain"
      ],
      "metadata": {
        "colab": {
          "base_uri": "https://localhost:8080/"
        },
        "id": "QUZMUU95Nkgh",
        "outputId": "172d25a0-055c-418e-efe4-0177a6cc116d"
      },
      "id": "QUZMUU95Nkgh",
      "execution_count": 4,
      "outputs": [
        {
          "output_type": "stream",
          "name": "stdout",
          "text": [
            "Requirement already satisfied: llama-index-embeddings-langchain in /usr/local/lib/python3.10/dist-packages (0.1.2)\n",
            "Requirement already satisfied: llama-index-core<0.11.0,>=0.10.1 in /usr/local/lib/python3.10/dist-packages (from llama-index-embeddings-langchain) (0.10.36)\n",
            "Requirement already satisfied: PyYAML>=6.0.1 in /usr/local/lib/python3.10/dist-packages (from llama-index-core<0.11.0,>=0.10.1->llama-index-embeddings-langchain) (6.0.1)\n",
            "Requirement already satisfied: SQLAlchemy[asyncio]>=1.4.49 in /usr/local/lib/python3.10/dist-packages (from llama-index-core<0.11.0,>=0.10.1->llama-index-embeddings-langchain) (2.0.30)\n",
            "Requirement already satisfied: aiohttp<4.0.0,>=3.8.6 in /usr/local/lib/python3.10/dist-packages (from llama-index-core<0.11.0,>=0.10.1->llama-index-embeddings-langchain) (3.9.5)\n",
            "Requirement already satisfied: dataclasses-json in /usr/local/lib/python3.10/dist-packages (from llama-index-core<0.11.0,>=0.10.1->llama-index-embeddings-langchain) (0.6.6)\n",
            "Requirement already satisfied: deprecated>=1.2.9.3 in /usr/local/lib/python3.10/dist-packages (from llama-index-core<0.11.0,>=0.10.1->llama-index-embeddings-langchain) (1.2.14)\n",
            "Requirement already satisfied: dirtyjson<2.0.0,>=1.0.8 in /usr/local/lib/python3.10/dist-packages (from llama-index-core<0.11.0,>=0.10.1->llama-index-embeddings-langchain) (1.0.8)\n",
            "Requirement already satisfied: fsspec>=2023.5.0 in /usr/local/lib/python3.10/dist-packages (from llama-index-core<0.11.0,>=0.10.1->llama-index-embeddings-langchain) (2023.6.0)\n",
            "Requirement already satisfied: httpx in /usr/local/lib/python3.10/dist-packages (from llama-index-core<0.11.0,>=0.10.1->llama-index-embeddings-langchain) (0.27.0)\n",
            "Requirement already satisfied: llamaindex-py-client<0.2.0,>=0.1.18 in /usr/local/lib/python3.10/dist-packages (from llama-index-core<0.11.0,>=0.10.1->llama-index-embeddings-langchain) (0.1.19)\n",
            "Requirement already satisfied: nest-asyncio<2.0.0,>=1.5.8 in /usr/local/lib/python3.10/dist-packages (from llama-index-core<0.11.0,>=0.10.1->llama-index-embeddings-langchain) (1.6.0)\n",
            "Requirement already satisfied: networkx>=3.0 in /usr/local/lib/python3.10/dist-packages (from llama-index-core<0.11.0,>=0.10.1->llama-index-embeddings-langchain) (3.3)\n",
            "Requirement already satisfied: nltk<4.0.0,>=3.8.1 in /usr/local/lib/python3.10/dist-packages (from llama-index-core<0.11.0,>=0.10.1->llama-index-embeddings-langchain) (3.8.1)\n",
            "Requirement already satisfied: numpy in /usr/local/lib/python3.10/dist-packages (from llama-index-core<0.11.0,>=0.10.1->llama-index-embeddings-langchain) (1.25.2)\n",
            "Requirement already satisfied: openai>=1.1.0 in /usr/local/lib/python3.10/dist-packages (from llama-index-core<0.11.0,>=0.10.1->llama-index-embeddings-langchain) (1.30.1)\n",
            "Requirement already satisfied: pandas in /usr/local/lib/python3.10/dist-packages (from llama-index-core<0.11.0,>=0.10.1->llama-index-embeddings-langchain) (2.0.3)\n",
            "Requirement already satisfied: pillow>=9.0.0 in /usr/local/lib/python3.10/dist-packages (from llama-index-core<0.11.0,>=0.10.1->llama-index-embeddings-langchain) (9.4.0)\n",
            "Requirement already satisfied: requests>=2.31.0 in /usr/local/lib/python3.10/dist-packages (from llama-index-core<0.11.0,>=0.10.1->llama-index-embeddings-langchain) (2.31.0)\n",
            "Requirement already satisfied: tenacity<9.0.0,>=8.2.0 in /usr/local/lib/python3.10/dist-packages (from llama-index-core<0.11.0,>=0.10.1->llama-index-embeddings-langchain) (8.3.0)\n",
            "Requirement already satisfied: tiktoken>=0.3.3 in /usr/local/lib/python3.10/dist-packages (from llama-index-core<0.11.0,>=0.10.1->llama-index-embeddings-langchain) (0.7.0)\n",
            "Requirement already satisfied: tqdm<5.0.0,>=4.66.1 in /usr/local/lib/python3.10/dist-packages (from llama-index-core<0.11.0,>=0.10.1->llama-index-embeddings-langchain) (4.66.4)\n",
            "Requirement already satisfied: typing-extensions>=4.5.0 in /usr/local/lib/python3.10/dist-packages (from llama-index-core<0.11.0,>=0.10.1->llama-index-embeddings-langchain) (4.11.0)\n",
            "Requirement already satisfied: typing-inspect>=0.8.0 in /usr/local/lib/python3.10/dist-packages (from llama-index-core<0.11.0,>=0.10.1->llama-index-embeddings-langchain) (0.9.0)\n",
            "Requirement already satisfied: wrapt in /usr/local/lib/python3.10/dist-packages (from llama-index-core<0.11.0,>=0.10.1->llama-index-embeddings-langchain) (1.14.1)\n",
            "Requirement already satisfied: aiosignal>=1.1.2 in /usr/local/lib/python3.10/dist-packages (from aiohttp<4.0.0,>=3.8.6->llama-index-core<0.11.0,>=0.10.1->llama-index-embeddings-langchain) (1.3.1)\n",
            "Requirement already satisfied: attrs>=17.3.0 in /usr/local/lib/python3.10/dist-packages (from aiohttp<4.0.0,>=3.8.6->llama-index-core<0.11.0,>=0.10.1->llama-index-embeddings-langchain) (23.2.0)\n",
            "Requirement already satisfied: frozenlist>=1.1.1 in /usr/local/lib/python3.10/dist-packages (from aiohttp<4.0.0,>=3.8.6->llama-index-core<0.11.0,>=0.10.1->llama-index-embeddings-langchain) (1.4.1)\n",
            "Requirement already satisfied: multidict<7.0,>=4.5 in /usr/local/lib/python3.10/dist-packages (from aiohttp<4.0.0,>=3.8.6->llama-index-core<0.11.0,>=0.10.1->llama-index-embeddings-langchain) (6.0.5)\n",
            "Requirement already satisfied: yarl<2.0,>=1.0 in /usr/local/lib/python3.10/dist-packages (from aiohttp<4.0.0,>=3.8.6->llama-index-core<0.11.0,>=0.10.1->llama-index-embeddings-langchain) (1.9.4)\n",
            "Requirement already satisfied: async-timeout<5.0,>=4.0 in /usr/local/lib/python3.10/dist-packages (from aiohttp<4.0.0,>=3.8.6->llama-index-core<0.11.0,>=0.10.1->llama-index-embeddings-langchain) (4.0.3)\n",
            "Requirement already satisfied: pydantic>=1.10 in /usr/local/lib/python3.10/dist-packages (from llamaindex-py-client<0.2.0,>=0.1.18->llama-index-core<0.11.0,>=0.10.1->llama-index-embeddings-langchain) (2.7.1)\n",
            "Requirement already satisfied: anyio in /usr/local/lib/python3.10/dist-packages (from httpx->llama-index-core<0.11.0,>=0.10.1->llama-index-embeddings-langchain) (3.7.1)\n",
            "Requirement already satisfied: certifi in /usr/local/lib/python3.10/dist-packages (from httpx->llama-index-core<0.11.0,>=0.10.1->llama-index-embeddings-langchain) (2024.2.2)\n",
            "Requirement already satisfied: httpcore==1.* in /usr/local/lib/python3.10/dist-packages (from httpx->llama-index-core<0.11.0,>=0.10.1->llama-index-embeddings-langchain) (1.0.5)\n",
            "Requirement already satisfied: idna in /usr/local/lib/python3.10/dist-packages (from httpx->llama-index-core<0.11.0,>=0.10.1->llama-index-embeddings-langchain) (3.7)\n",
            "Requirement already satisfied: sniffio in /usr/local/lib/python3.10/dist-packages (from httpx->llama-index-core<0.11.0,>=0.10.1->llama-index-embeddings-langchain) (1.3.1)\n",
            "Requirement already satisfied: h11<0.15,>=0.13 in /usr/local/lib/python3.10/dist-packages (from httpcore==1.*->httpx->llama-index-core<0.11.0,>=0.10.1->llama-index-embeddings-langchain) (0.14.0)\n",
            "Requirement already satisfied: click in /usr/local/lib/python3.10/dist-packages (from nltk<4.0.0,>=3.8.1->llama-index-core<0.11.0,>=0.10.1->llama-index-embeddings-langchain) (8.1.7)\n",
            "Requirement already satisfied: joblib in /usr/local/lib/python3.10/dist-packages (from nltk<4.0.0,>=3.8.1->llama-index-core<0.11.0,>=0.10.1->llama-index-embeddings-langchain) (1.4.2)\n",
            "Requirement already satisfied: regex>=2021.8.3 in /usr/local/lib/python3.10/dist-packages (from nltk<4.0.0,>=3.8.1->llama-index-core<0.11.0,>=0.10.1->llama-index-embeddings-langchain) (2023.12.25)\n",
            "Requirement already satisfied: distro<2,>=1.7.0 in /usr/lib/python3/dist-packages (from openai>=1.1.0->llama-index-core<0.11.0,>=0.10.1->llama-index-embeddings-langchain) (1.7.0)\n",
            "Requirement already satisfied: charset-normalizer<4,>=2 in /usr/local/lib/python3.10/dist-packages (from requests>=2.31.0->llama-index-core<0.11.0,>=0.10.1->llama-index-embeddings-langchain) (3.3.2)\n",
            "Requirement already satisfied: urllib3<3,>=1.21.1 in /usr/local/lib/python3.10/dist-packages (from requests>=2.31.0->llama-index-core<0.11.0,>=0.10.1->llama-index-embeddings-langchain) (2.0.7)\n",
            "Requirement already satisfied: greenlet!=0.4.17 in /usr/local/lib/python3.10/dist-packages (from SQLAlchemy[asyncio]>=1.4.49->llama-index-core<0.11.0,>=0.10.1->llama-index-embeddings-langchain) (3.0.3)\n",
            "Requirement already satisfied: mypy-extensions>=0.3.0 in /usr/local/lib/python3.10/dist-packages (from typing-inspect>=0.8.0->llama-index-core<0.11.0,>=0.10.1->llama-index-embeddings-langchain) (1.0.0)\n",
            "Requirement already satisfied: marshmallow<4.0.0,>=3.18.0 in /usr/local/lib/python3.10/dist-packages (from dataclasses-json->llama-index-core<0.11.0,>=0.10.1->llama-index-embeddings-langchain) (3.21.2)\n",
            "Requirement already satisfied: python-dateutil>=2.8.2 in /usr/local/lib/python3.10/dist-packages (from pandas->llama-index-core<0.11.0,>=0.10.1->llama-index-embeddings-langchain) (2.8.2)\n",
            "Requirement already satisfied: pytz>=2020.1 in /usr/local/lib/python3.10/dist-packages (from pandas->llama-index-core<0.11.0,>=0.10.1->llama-index-embeddings-langchain) (2023.4)\n",
            "Requirement already satisfied: tzdata>=2022.1 in /usr/local/lib/python3.10/dist-packages (from pandas->llama-index-core<0.11.0,>=0.10.1->llama-index-embeddings-langchain) (2024.1)\n",
            "Requirement already satisfied: exceptiongroup in /usr/local/lib/python3.10/dist-packages (from anyio->httpx->llama-index-core<0.11.0,>=0.10.1->llama-index-embeddings-langchain) (1.2.1)\n",
            "Requirement already satisfied: packaging>=17.0 in /usr/local/lib/python3.10/dist-packages (from marshmallow<4.0.0,>=3.18.0->dataclasses-json->llama-index-core<0.11.0,>=0.10.1->llama-index-embeddings-langchain) (23.2)\n",
            "Requirement already satisfied: annotated-types>=0.4.0 in /usr/local/lib/python3.10/dist-packages (from pydantic>=1.10->llamaindex-py-client<0.2.0,>=0.1.18->llama-index-core<0.11.0,>=0.10.1->llama-index-embeddings-langchain) (0.6.0)\n",
            "Requirement already satisfied: pydantic-core==2.18.2 in /usr/local/lib/python3.10/dist-packages (from pydantic>=1.10->llamaindex-py-client<0.2.0,>=0.1.18->llama-index-core<0.11.0,>=0.10.1->llama-index-embeddings-langchain) (2.18.2)\n",
            "Requirement already satisfied: six>=1.5 in /usr/local/lib/python3.10/dist-packages (from python-dateutil>=2.8.2->pandas->llama-index-core<0.11.0,>=0.10.1->llama-index-embeddings-langchain) (1.16.0)\n"
          ]
        }
      ]
    },
    {
      "cell_type": "markdown",
      "id": "273f38de-e79a-4ce2-ad4e-2c70afc33f34",
      "metadata": {
        "id": "273f38de-e79a-4ce2-ad4e-2c70afc33f34"
      },
      "source": [
        "## Setup\n",
        "\n",
        "1. In this section we will work with the QLoRA paper and create an initial set of nodes (chunk size 1024).\n",
        "2. We will use Open Source LLM [`zephyr-7b-alpha`](https://huggingface.co/HuggingFaceH4/zephyr-7b-alpha) and embedding [`hkunlp/instructor-large`](https://huggingface.co/hkunlp/instructor-large)"
      ]
    },
    {
      "cell_type": "code",
      "execution_count": 5,
      "id": "6cd97455-5ff3-43ee-8222-f496ec234dc7",
      "metadata": {
        "id": "6cd97455-5ff3-43ee-8222-f496ec234dc7",
        "colab": {
          "base_uri": "https://localhost:8080/"
        },
        "outputId": "0520803e-9d7f-4751-bf51-16ce205fa0a9"
      },
      "outputs": [
        {
          "output_type": "stream",
          "name": "stderr",
          "text": [
            "/usr/local/lib/python3.10/dist-packages/pydantic/_internal/_fields.py:160: UserWarning: Field \"model_id\" has conflict with protected namespace \"model_\".\n",
            "\n",
            "You may be able to resolve this warning by setting `model_config['protected_namespaces'] = ()`.\n",
            "  warnings.warn(\n"
          ]
        }
      ],
      "source": [
        "import json\n",
        "import torch\n",
        "from pathlib import Path\n",
        "\n",
        "# transformers\n",
        "from transformers import BitsAndBytesConfig\n",
        "\n",
        "# llama_index\n",
        "from llama_index.core import PromptTemplate\n",
        "from llama_index.llms.huggingface import HuggingFaceLLM\n",
        "from llama_index.core import download_loader, Document, VectorStoreIndex, ServiceContext\n",
        "from llama_index.core.node_parser import SentenceSplitter\n",
        "from llama_index.core.schema import IndexNode\n",
        "from langchain.embeddings import HuggingFaceInstructEmbeddings\n",
        "from llama_index.core.response.notebook_utils import display_source_node\n",
        "from llama_index.core.retrievers import RecursiveRetriever\n",
        "from llama_index.core.query_engine import RetrieverQueryEngine\n",
        "from llama_index.vector_stores.chroma.base import ChromaVectorStore\n",
        "from llama_index.core.storage.storage_context import StorageContext\n",
        "\n",
        "# Metadata Extraction\n",
        "from llama_index.core.extractors import (\n",
        "    SummaryExtractor,\n",
        "    QuestionsAnsweredExtractor,\n",
        ")\n",
        "\n",
        "# db\n",
        "import chromadb\n",
        "\n",
        "DEVICE = \"cuda:0\" if torch.cuda.is_available() else \"cpu\""
      ]
    },
    {
      "cell_type": "code",
      "source": [
        "print(DEVICE)"
      ],
      "metadata": {
        "colab": {
          "base_uri": "https://localhost:8080/"
        },
        "id": "NeY3f07Qhib2",
        "outputId": "5366280a-11da-4bee-e08a-db606235bd3d"
      },
      "id": "NeY3f07Qhib2",
      "execution_count": 6,
      "outputs": [
        {
          "output_type": "stream",
          "name": "stdout",
          "text": [
            "cuda:0\n"
          ]
        }
      ]
    },
    {
      "cell_type": "markdown",
      "source": [
        "# Load Data"
      ],
      "metadata": {
        "id": "cg0vTaLvBvYY"
      },
      "id": "cg0vTaLvBvYY"
    },
    {
      "cell_type": "code",
      "source": [
        "import os\n",
        "\n",
        "# Set the locale to UTF-8\n",
        "os.environ['LC_ALL'] = 'en_US.UTF-8'\n",
        "os.environ['LANG'] = 'en_US.UTF-8'\n",
        "\n",
        "# Create the 'data' directory\n",
        "os.system('mkdir data')\n",
        "\n",
        "# Download the PDF file\n",
        "#os.system('wget --user-agent \"Mozilla\" \"ENTER URL HERE\" -O \"data/brochure.pdf\"')"
      ],
      "metadata": {
        "id": "N2PpSvvIjt_d",
        "colab": {
          "base_uri": "https://localhost:8080/"
        },
        "outputId": "47381ecf-0764-4d1c-8ecc-94012deed2e3"
      },
      "id": "N2PpSvvIjt_d",
      "execution_count": 7,
      "outputs": [
        {
          "output_type": "execute_result",
          "data": {
            "text/plain": [
              "256"
            ]
          },
          "metadata": {},
          "execution_count": 7
        }
      ]
    },
    {
      "cell_type": "code",
      "execution_count": 8,
      "id": "a07c0e42-1ae8-4267-9355-6bb75323f82a",
      "metadata": {
        "id": "a07c0e42-1ae8-4267-9355-6bb75323f82a",
        "colab": {
          "base_uri": "https://localhost:8080/"
        },
        "outputId": "a633cf2c-601f-48ac-ec93-b70acf8c537a"
      },
      "outputs": [
        {
          "output_type": "stream",
          "name": "stderr",
          "text": [
            "<ipython-input-8-463aef31c2b0>:1: DeprecationWarning: Call to deprecated function (or staticmethod) download_loader. (`download_loader()` is deprecated. Please install tool using pip install directly instead.)\n",
            "  PDFReader = download_loader(\"PDFReader\")\n"
          ]
        }
      ],
      "source": [
        "PDFReader = download_loader(\"PDFReader\")\n",
        "loader = PDFReader()\n",
        "#docs = loader.load_data(file=Path(\"./folder-name/file-name.pdf\"))\n",
        "docs = loader.load_data(file=Path(\"/content/Dexcom.pdf\"))"
      ]
    },
    {
      "cell_type": "code",
      "source": [
        "docs[1]"
      ],
      "metadata": {
        "colab": {
          "base_uri": "https://localhost:8080/"
        },
        "id": "reLS97G1_E7g",
        "outputId": "e3189e68-b1aa-496b-879b-30cb813f280b"
      },
      "id": "reLS97G1_E7g",
      "execution_count": 9,
      "outputs": [
        {
          "output_type": "execute_result",
          "data": {
            "text/plain": [
              "Document(id_='aac8668c-b83d-43c0-9a39-0051d4a51a7b', embedding=None, metadata={'page_label': '2', 'file_name': 'Dexcom.pdf'}, excluded_embed_metadata_keys=[], excluded_llm_metadata_keys=[], relationships={}, text='TOOURSTAKEHOLDERS\\nOverthepastyear,Dexcomhasmadesigniﬁcantprogressadvancingourmission–\\nempoweringpeop letotakecontrolofhealth. Wehavecommit tedourselvestosimplif ying\\nthelivesofourcustomersthrough oursensorandsoftwaretechnology,andtoadvocatingfor\\nbroader accesstoDexcom’sleadingContinuous Gluc oseMonitoring(CGM)systems around\\ntheglobe .In2023,weexpanded ourglobalrolloutofDexcomG7,comple tedthelargest\\nexpans ionofcoverageinourcompan y’shistory,anddeliv erednewoperational andﬁnancial\\nefficiencieswhilegrowingourbusiness.WithCGMnowestablishedasthestandardofcare\\nforallpeople usinginsulin,wehavefurthersolidiﬁed ourvaluepropositionwithindiabetes\\nmanagement. However,aswelookforward,wealsoseealargeroleforDexcomwithinthe\\nbroader metabolic health lands cape,andwebelievewecandomore.\\nOureffortstoexpandcoverage,increaseourprescriberbase,anddiversifyourproduct\\nportfolioledtoarecordyearofoperatingandﬁnanc ialresultsforDexcom:\\n•Wesuccessfullylaunched DexcomG7intoseveralnewmark ets,includingtheUnitedStates.\\n•Ourcustomerbasegrewbyapproximately35%,andweclosedtheyearwith\\nappr oximately2.3million usersglobally .\\n•Weincreasedourprescriber basebyapproximately40%in2023.Additiona lly,morethan\\n70% ofournewprescriptions arenowbeingwrittenbyprimar ycarephysicians.\\n•Wesigniﬁc antly expanded accessintheUnitedStates,with newcoverage forpeoplewith\\ntype2diabe tesusingbasal,orback ground,insulinonly,aswellasfornon-insulinusing\\nindividuals that experienc ehypoglycemia.\\n•Weadvancedourconnectivit yecosystemwiththeintegration ofDexcomG7with\\nTandem ’st:slimX2pump andBetaBionics’iLetBionic Pancreaspump.\\n•Weﬁled Stelo,ournew15-daysensordesigned forpeople with type2diabeteswhodo\\nnotuseinsulin,with theFood andDrug Adminis tration (FDA)inthefourthquarter.\\nSubsequent toyear-end,theFDAclearedSteloastheﬁrstglucosebiosensorthatdoes\\nnotrequir eap rescription.\\nTheseaccomplishmentsreﬂect thehardworkandambition ofourteam, andwelookforward\\ntoextending ouroppor tunit ytodeliverqualit ycaretomorecustomersglobally.\\nThisannual Shar eholder Lettercontains forward-looking statement s.Thesereferencesarepreliminary,maybesubjecttofutureadjustmen tandshould\\nbereadinconjunction with the“RiskFactors”enclo sedinthisAnnual Reportintheform10-KﬁledwiththeSecuritiesandExchangeCommis sion.2023Annual Report', start_char_idx=None, end_char_idx=None, text_template='{metadata_str}\\n\\n{content}', metadata_template='{key}: {value}', metadata_seperator='\\n')"
            ]
          },
          "metadata": {},
          "execution_count": 9
        }
      ]
    },
    {
      "cell_type": "code",
      "source": [
        "docs[2].get_content()"
      ],
      "metadata": {
        "colab": {
          "base_uri": "https://localhost:8080/",
          "height": 145
        },
        "id": "hicGJdkV-9oh",
        "outputId": "55bdb44a-d3a9-41b7-bd58-0c0f0bbfa53d"
      },
      "id": "hicGJdkV-9oh",
      "execution_count": 10,
      "outputs": [
        {
          "output_type": "execute_result",
          "data": {
            "text/plain": [
              "'EXPANDI NGOURGLOBALIMPACT\\nWearecommittedtoimprovingaccesstoDexcomCGMtechnology forthehundredsofmillionsofpeoplewith diabetes\\naround theworld.Advancing thiseffortandnavigatingmulti-facetedglob alhealthsystems requiresstrategicthinking\\nacrossourbusiness.Towardthisgoal, wehaveprovenourleade rshipbyadvancingtheindustrywithhigh-p erforming\\nCGM systems andkeyclinic altrials that establishthehealthandeconomicbeneﬁtsassociatedwith DexcomCGM.\\nIn2023 ,wesigniﬁcantlyincreasedaccesstoDexcomCGMthroughourongoingclinicalandadvocacyeffortsandby\\nleveraging ourCGM portfolio,whichallowsustomeettheuniqueneedsofdifferenthealthcaresystems.Mostnotably,in\\nrecognition oftheoutcomesproveninDexcom’sMOBILEclinicaltrial,Medicareestablishedcoverageforpeoplewith\\ntype2diabe teswhousebasal,orback ground,insulinonly,aswellascertainnon-insulinusingindivid ualsthat\\nexperienc ehypoglycemia.Thisdecis ionrepresentedthelargestsingleexpansionofaccessforCGMinourcompany’s\\nhistoryandwillbeakeymilestoneasweseektobroade naccesstomillions moreglobally.\\nWealsocontinued tobroaden ourinternatio nalpresencethispastyear,bringingDexcomG7andDexcomONEtonew\\nmark etsandsecuringnewreimbursementinselectregion s.Ourdifferentiatedproduc tportfolioallowsustomeetthe\\nunique needs ofdiversemark ets,customers,andreimbu rsemen tstructures,enablingustoreachmorecustomers\\nglobally .Asoneexample,in2023,DexcomONEsecuredreimbur sementforallpeopleonintensiveinsulintherapyin\\nFrance,expanding ourcoverageinthismarketbyapproximatelyhalfamillionpeople.Intotal,wehavegrownour\\ncoveredaccessbymorethan4millionpeopleoutsideoftheUnitedStatesinrecentyears.\\nWelook forwardtoprovidingadditionalupdat esonourprogressin2024aswecontinuetoadvocateforgreateraccess\\nforthemillionsofpeople whocould bene ﬁtfromourtechnology .\\nImageshowndoesnotincluderequiredoverpatch.Pleasebesuretofollowinstructionsforusingtheoverpatch.2023AnnualReport'"
            ],
            "application/vnd.google.colaboratory.intrinsic+json": {
              "type": "string"
            }
          },
          "metadata": {},
          "execution_count": 10
        }
      ]
    },
    {
      "cell_type": "code",
      "execution_count": 11,
      "id": "493e5492-a6ae-4e3e-aa23-274c0605b165",
      "metadata": {
        "id": "493e5492-a6ae-4e3e-aa23-274c0605b165"
      },
      "outputs": [],
      "source": [
        "# combine all the text\n",
        "doc_text = \"\\n\\n\".join([d.get_content() for d in docs])\n",
        "documents = [Document(text=doc_text)]"
      ]
    },
    {
      "cell_type": "code",
      "source": [],
      "metadata": {
        "id": "AQJxRovt-HR3"
      },
      "id": "AQJxRovt-HR3",
      "execution_count": 11,
      "outputs": []
    },
    {
      "cell_type": "markdown",
      "source": [
        "# Chunking"
      ],
      "metadata": {
        "id": "QTsvxzzVCEB8"
      },
      "id": "QTsvxzzVCEB8"
    },
    {
      "cell_type": "code",
      "execution_count": 12,
      "id": "91b997ae-9260-4ae7-af2f-0f8d38625d32",
      "metadata": {
        "id": "91b997ae-9260-4ae7-af2f-0f8d38625d32"
      },
      "outputs": [],
      "source": [
        "node_parser = SentenceSplitter(chunk_size=1024)"
      ]
    },
    {
      "cell_type": "code",
      "execution_count": 13,
      "id": "0cda44b0-fd27-4255-9aa7-08d358635772",
      "metadata": {
        "id": "0cda44b0-fd27-4255-9aa7-08d358635772"
      },
      "outputs": [],
      "source": [
        "base_nodes = node_parser.get_nodes_from_documents(documents)\n",
        "# set node ids to be a constant\n",
        "for idx, node in enumerate(base_nodes):\n",
        "    node.id_ = f\"node-{idx}\""
      ]
    },
    {
      "cell_type": "code",
      "source": [
        "# print all the node ids corrosponding to all the chunks\n",
        "for node in base_nodes:\n",
        "  print(node.id_)"
      ],
      "metadata": {
        "colab": {
          "base_uri": "https://localhost:8080/"
        },
        "id": "Lch2KK0-CNqs",
        "outputId": "8717e7af-c684-4e8c-cf46-c58685a9de0b"
      },
      "id": "Lch2KK0-CNqs",
      "execution_count": 14,
      "outputs": [
        {
          "output_type": "stream",
          "name": "stdout",
          "text": [
            "node-0\n",
            "node-1\n",
            "node-2\n",
            "node-3\n",
            "node-4\n",
            "node-5\n",
            "node-6\n",
            "node-7\n",
            "node-8\n",
            "node-9\n",
            "node-10\n",
            "node-11\n",
            "node-12\n",
            "node-13\n",
            "node-14\n",
            "node-15\n",
            "node-16\n",
            "node-17\n",
            "node-18\n",
            "node-19\n",
            "node-20\n",
            "node-21\n",
            "node-22\n",
            "node-23\n",
            "node-24\n",
            "node-25\n",
            "node-26\n",
            "node-27\n",
            "node-28\n",
            "node-29\n",
            "node-30\n",
            "node-31\n",
            "node-32\n",
            "node-33\n",
            "node-34\n",
            "node-35\n",
            "node-36\n",
            "node-37\n",
            "node-38\n",
            "node-39\n",
            "node-40\n",
            "node-41\n",
            "node-42\n",
            "node-43\n",
            "node-44\n",
            "node-45\n",
            "node-46\n",
            "node-47\n",
            "node-48\n",
            "node-49\n",
            "node-50\n",
            "node-51\n",
            "node-52\n",
            "node-53\n",
            "node-54\n",
            "node-55\n",
            "node-56\n",
            "node-57\n",
            "node-58\n",
            "node-59\n",
            "node-60\n",
            "node-61\n",
            "node-62\n",
            "node-63\n",
            "node-64\n",
            "node-65\n",
            "node-66\n",
            "node-67\n",
            "node-68\n",
            "node-69\n",
            "node-70\n",
            "node-71\n",
            "node-72\n",
            "node-73\n",
            "node-74\n",
            "node-75\n",
            "node-76\n",
            "node-77\n",
            "node-78\n",
            "node-79\n",
            "node-80\n",
            "node-81\n",
            "node-82\n",
            "node-83\n",
            "node-84\n",
            "node-85\n",
            "node-86\n",
            "node-87\n",
            "node-88\n",
            "node-89\n",
            "node-90\n",
            "node-91\n",
            "node-92\n",
            "node-93\n",
            "node-94\n",
            "node-95\n",
            "node-96\n",
            "node-97\n",
            "node-98\n",
            "node-99\n",
            "node-100\n",
            "node-101\n",
            "node-102\n",
            "node-103\n",
            "node-104\n",
            "node-105\n",
            "node-106\n",
            "node-107\n",
            "node-108\n",
            "node-109\n",
            "node-110\n",
            "node-111\n",
            "node-112\n",
            "node-113\n",
            "node-114\n",
            "node-115\n",
            "node-116\n",
            "node-117\n",
            "node-118\n",
            "node-119\n",
            "node-120\n",
            "node-121\n",
            "node-122\n",
            "node-123\n",
            "node-124\n",
            "node-125\n",
            "node-126\n",
            "node-127\n",
            "node-128\n",
            "node-129\n",
            "node-130\n",
            "node-131\n",
            "node-132\n",
            "node-133\n",
            "node-134\n",
            "node-135\n",
            "node-136\n",
            "node-137\n",
            "node-138\n",
            "node-139\n",
            "node-140\n",
            "node-141\n",
            "node-142\n",
            "node-143\n",
            "node-144\n",
            "node-145\n",
            "node-146\n",
            "node-147\n",
            "node-148\n",
            "node-149\n",
            "node-150\n",
            "node-151\n",
            "node-152\n",
            "node-153\n",
            "node-154\n",
            "node-155\n",
            "node-156\n",
            "node-157\n",
            "node-158\n",
            "node-159\n",
            "node-160\n",
            "node-161\n",
            "node-162\n",
            "node-163\n",
            "node-164\n",
            "node-165\n",
            "node-166\n",
            "node-167\n",
            "node-168\n",
            "node-169\n"
          ]
        }
      ]
    },
    {
      "cell_type": "markdown",
      "source": [
        "# LLM (`zephyr-7b-alpha`)"
      ],
      "metadata": {
        "id": "e0GawOxTDHuV"
      },
      "id": "e0GawOxTDHuV"
    },
    {
      "cell_type": "code",
      "source": [
        "from google.colab import userdata\n",
        "\n",
        "# huggingface api token\n",
        "hf_token = userdata.get('hf_token')\n",
        "\n",
        "quantization_config = BitsAndBytesConfig(\n",
        "    load_in_4bit=True,\n",
        "    bnb_4bit_compute_dtype=torch.float16,\n",
        "    bnb_4bit_quant_type=\"nf4\",\n",
        "    bnb_4bit_use_double_quant=True,\n",
        ")\n",
        "\n",
        "\n",
        "def messages_to_prompt(messages):\n",
        "  prompt = \"\"\n",
        "  for message in messages:\n",
        "    if message.role == 'system':\n",
        "      prompt += f\"<|system|>\\n{message.content}</s>\\n\"\n",
        "    elif message.role == 'user':\n",
        "      prompt += f\"<|user|>\\n{message.content}</s>\\n\"\n",
        "    elif message.role == 'assistant':\n",
        "      prompt += f\"<|assistant|>\\n{message.content}</s>\\n\"\n",
        "\n",
        "  # ensure we start with a system prompt, insert blank if needed\n",
        "  if not prompt.startswith(\"<|system|>\\n\"):\n",
        "    prompt = \"<|system|>\\n</s>\\n\" + prompt\n",
        "\n",
        "  # add final assistant prompt\n",
        "  prompt = prompt + \"<|assistant|>\\n\"\n",
        "\n",
        "  return prompt\n",
        "\n",
        "\n",
        "llm = HuggingFaceLLM(\n",
        "    model_name=\"HuggingFaceH4/zephyr-7b-alpha\",\n",
        "    tokenizer_name=\"HuggingFaceH4/zephyr-7b-alpha\",\n",
        "    query_wrapper_prompt=PromptTemplate(\"<|system|>\\n</s>\\n<|user|>\\n{query_str}</s>\\n<|assistant|>\\n\"),\n",
        "    context_window=3900,\n",
        "    max_new_tokens=256,\n",
        "    model_kwargs={\"quantization_config\": quantization_config},\n",
        "    # tokenizer_kwargs={},\n",
        "    generate_kwargs={\"temperature\": 0.7, \"top_k\": 50, \"top_p\": 0.95},\n",
        "    messages_to_prompt=messages_to_prompt,\n",
        "    device_map=\"auto\",\n",
        ")"
      ],
      "metadata": {
        "colab": {
          "base_uri": "https://localhost:8080/",
          "height": 270,
          "referenced_widgets": [
            "39ce8f01e44c492db974973b205d741e",
            "fca566f56c644f33b54b77224aefbb89",
            "71547ffb109c4355920f7b5eccc0361f",
            "8f2a7e97d3a8453db6c096f9600d5c07",
            "0dbb8b5ae08a479f9a8c90cd615a787f",
            "18a1aa62e9ff405a80ba607e2533fb00",
            "124b9b1f7d8f40ed8c2191b7835f879a",
            "1c1f44e7b2d843f19f5035fd7673f052",
            "f0a54e29d7bc41ff81011776a714dad8",
            "72009299091441ab8902ae545b1d431a",
            "947beaa6b0724d3a96bb517513c550ed"
          ]
        },
        "id": "Kfu5pGb7Chj4",
        "outputId": "dc2d5b99-5ae8-4277-938b-1a66769c3257"
      },
      "id": "Kfu5pGb7Chj4",
      "execution_count": 15,
      "outputs": [
        {
          "output_type": "stream",
          "name": "stderr",
          "text": [
            "/usr/local/lib/python3.10/dist-packages/huggingface_hub/file_download.py:1132: FutureWarning: `resume_download` is deprecated and will be removed in version 1.0.0. Downloads always resume when possible. If you want to force a new download, use `force_download=True`.\n",
            "  warnings.warn(\n",
            "/usr/local/lib/python3.10/dist-packages/huggingface_hub/utils/_token.py:89: UserWarning: \n",
            "The secret `HF_TOKEN` does not exist in your Colab secrets.\n",
            "To authenticate with the Hugging Face Hub, create a token in your settings tab (https://huggingface.co/settings/tokens), set it as secret in your Google Colab and restart your session.\n",
            "You will be able to reuse this secret in all of your notebooks.\n",
            "Please note that authentication is recommended but still optional to access public models or datasets.\n",
            "  warnings.warn(\n"
          ]
        },
        {
          "output_type": "display_data",
          "data": {
            "text/plain": [
              "Loading checkpoint shards:   0%|          | 0/8 [00:00<?, ?it/s]"
            ],
            "application/vnd.jupyter.widget-view+json": {
              "version_major": 2,
              "version_minor": 0,
              "model_id": "39ce8f01e44c492db974973b205d741e"
            }
          },
          "metadata": {}
        },
        {
          "output_type": "stream",
          "name": "stderr",
          "text": [
            "/usr/local/lib/python3.10/dist-packages/huggingface_hub/file_download.py:1132: FutureWarning: `resume_download` is deprecated and will be removed in version 1.0.0. Downloads always resume when possible. If you want to force a new download, use `force_download=True`.\n",
            "  warnings.warn(\n",
            "You are calling `save_pretrained` to a 4-bit converted model, but your `bitsandbytes` version doesn't support it. If you want to save 4-bit models, make sure to have `bitsandbytes>=0.41.3` installed.\n"
          ]
        }
      ]
    },
    {
      "cell_type": "markdown",
      "source": [
        "# Embedding (`hkunlp/instructor-large`)"
      ],
      "metadata": {
        "id": "X3m9X11PDefF"
      },
      "id": "X3m9X11PDefF"
    },
    {
      "cell_type": "code",
      "source": [
        "# If TypeError for while using Instruct Embeddings on HuggingFace // Update libraries to - !pip install langchain==0.1.2 sentence_transformers==2.2.2"
      ],
      "metadata": {
        "id": "EjizxQpgS4yF"
      },
      "id": "EjizxQpgS4yF",
      "execution_count": 16,
      "outputs": []
    },
    {
      "cell_type": "code",
      "source": [
        "# embed_model = HuggingFaceInstructEmbeddings(\n",
        "#     model_name=\"hkunlp/instructor-large\", model_kwargs={\"device\": DEVICE}\n",
        "# )"
      ],
      "metadata": {
        "id": "OJmrabJYDmPW"
      },
      "id": "OJmrabJYDmPW",
      "execution_count": 17,
      "outputs": []
    },
    {
      "cell_type": "code",
      "source": [
        "from langchain_community.embeddings import HuggingFaceInstructEmbeddings\n",
        "\n",
        "embed_model = HuggingFaceInstructEmbeddings(model_name=\"BAAI/bge-large-en-v1.5\")"
      ],
      "metadata": {
        "colab": {
          "base_uri": "https://localhost:8080/"
        },
        "id": "q_E1Oujqs29J",
        "outputId": "bdd0ec48-e27c-4b4d-bd15-8274118d57d6"
      },
      "id": "q_E1Oujqs29J",
      "execution_count": 18,
      "outputs": [
        {
          "output_type": "stream",
          "name": "stdout",
          "text": [
            "load INSTRUCTOR_Transformer\n",
            "max_seq_length  512\n"
          ]
        }
      ]
    },
    {
      "cell_type": "code",
      "execution_count": 19,
      "id": "38e47623-b67d-45d6-9b24-33ba84719f1f",
      "metadata": {
        "id": "38e47623-b67d-45d6-9b24-33ba84719f1f",
        "colab": {
          "base_uri": "https://localhost:8080/"
        },
        "outputId": "0afdee9a-fd27-45d1-8b9f-10ed89dc3055"
      },
      "outputs": [
        {
          "output_type": "stream",
          "name": "stderr",
          "text": [
            "<ipython-input-19-346618c516ed>:2: DeprecationWarning: Call to deprecated class method from_defaults. (ServiceContext is deprecated, please use `llama_index.settings.Settings` instead.) -- Deprecated since version 0.10.0.\n",
            "  service_context = ServiceContext.from_defaults(\n"
          ]
        }
      ],
      "source": [
        "# set your ServiceContext for all the next steps\n",
        "service_context = ServiceContext.from_defaults(\n",
        "    llm=llm, embed_model=embed_model\n",
        ")"
      ]
    },
    {
      "cell_type": "markdown",
      "id": "f43ebab2-fc46-41ea-8a92-9148994d793f",
      "metadata": {
        "id": "f43ebab2-fc46-41ea-8a92-9148994d793f"
      },
      "source": [
        "## Baseline Retriever\n",
        "\n",
        "Define a baseline retriever that simply fetches the top-k raw text nodes by embedding similarity."
      ]
    },
    {
      "cell_type": "code",
      "execution_count": 20,
      "id": "704fb3da-710e-4ad9-b630-565911917f0c",
      "metadata": {
        "id": "704fb3da-710e-4ad9-b630-565911917f0c"
      },
      "outputs": [],
      "source": [
        "base_index = VectorStoreIndex(base_nodes, service_context=service_context)"
      ]
    },
    {
      "cell_type": "code",
      "source": [
        "base_retriever = base_index.as_retriever(similarity_top_k=3)"
      ],
      "metadata": {
        "id": "aOlNMX_Mj21v"
      },
      "id": "aOlNMX_Mj21v",
      "execution_count": 21,
      "outputs": []
    },
    {
      "cell_type": "code",
      "execution_count": 22,
      "id": "160c339b-601a-486b-9e17-dd6cc9f133ea",
      "metadata": {
        "id": "160c339b-601a-486b-9e17-dd6cc9f133ea"
      },
      "outputs": [],
      "source": [
        "#give me the MRPs for on kitchen skirting hardware 80mm series BL\n",
        "retrievals = base_retriever.retrieve(\n",
        "    \"What locations does dexcom have a presence in?\"\n",
        ")"
      ]
    },
    {
      "cell_type": "code",
      "execution_count": 23,
      "id": "632610f3-c8f2-440a-ab27-5ca7d65f882a",
      "metadata": {
        "id": "632610f3-c8f2-440a-ab27-5ca7d65f882a",
        "colab": {
          "base_uri": "https://localhost:8080/",
          "height": 794
        },
        "outputId": "b8b28c08-028a-46eb-dc75-7baa4023498e"
      },
      "outputs": [
        {
          "output_type": "display_data",
          "data": {
            "text/plain": [
              "<IPython.core.display.Markdown object>"
            ],
            "text/markdown": "**Node ID:** node-169<br>**Similarity:** 0.7228175975845952<br>**Text:** Attn:SeanChristensen,VicePresident,\nFinanc eandInvestorRelations\n6340Sequenc eDrive\nSanDiego,CA92121\n(858)200-0200\nwww .dexcom.com\ninvestor-relations@d excom.com\nShareholderMeetingDate\nMay 22,2024\nMeetingtobeheld virtuallyBoardofDirectors\nKevinSayer\nChairman, President andChie fExecutiv eOfficer,Dexcom\nMark Foletta\nFormer SeniorVicePresident, Financeand\nChie fFinancialOfficer,AmylinPharm aceutic als\nStevenR.Altman\nFormer President, Qualcomm\nNicholasAugustinos\nFormer President &ChiefExecutiv eOfficerofAver,Inc.\ndbaEnlaceHealth\nRichardCollins\nForm erChie fExecutiv eOfficerforUnitedHealthc are’s\nNortheastRegion\nKarenDahut\nChie fExecutiv eOfficerofGoogle Public Sector\nRimma Driscoll\nExecutiv eVicePresident andHead ofGlobalStrategy,\nCommer cialandBusinessDevelopment, and\nGlobalBioDevices,Zoetis\nBridge tteHeller\nFormer Executiv eVicePresident &PresidentofNutricia,\nSpecializedNutrition,Danone\nBarbaraE.Kahn\nPattyandJayJ.BakerProfessorofMarketing,TheWharton\nSchool attheUniversityofPennsylvania\nKyleMalady\nExecutiv eVicePresident ofGlobal Networksand\nTechnology &ChiefTechnology Office r,Verizon\nEricJ.Topol,M.D.\nDirector,Scripp sTranslational ScienceInstitute2023Annual Report\n\nwww .dex com.com|6 340 Sequence Drive |SanDiego, CA92121\nDexcom, DexcomClarit y,DexcomOne,andanyrelated logosanddesign marksareeither registered trademarks or\ntrademark sofDexcom,Inc.intheUnited Statesand/o rothercountries.<br>"
          },
          "metadata": {}
        },
        {
          "output_type": "display_data",
          "data": {
            "text/plain": [
              "<IPython.core.display.Markdown object>"
            ],
            "text/markdown": "**Node ID:** node-6<br>**Similarity:** 0.7035752295033949<br>**Text:** CorporateInformation\nThemailingaddressofourheadquartersis6340Sequenc eDrive,SanDiego,California,92121, andourtelephone\nnumberatthatlocationis(858)200-0200 .Ourwebsiteaddressislocatedatdexcom.comandourinvestorrelations\nwebsiteislocatedatinvestors.dexcom.com.WefileelectronicallywiththeSEC ourannual reportsonForm10-K,\nquarterlyreportsonForm10-Q,currentreportsonForm8-K,andamendm entstothosereportsfiledorfurnished\npursuant toSection13(a)or15(d)oftheExchange Act.Wemakeavailableonourwebsite,freeofcharge,copiesof\nthesereportsandotherinformationassoonasreasonabl ypracticableafterweelectronicallyfilesuchmaterialwith,\norfurnishitto,theSEC.Thereportsarealsoavailableatwww.sec.gov.\nWeannou ncematerialinformationtothepublicabout us,ourproduc ts,andothermattersthroughavarietyof\nmeans,includingfilingswiththeSEC ,pressreleases,publicconferencecalls,presentations,webcasts,andour\ninvestorrelationswebsiteinordertoachievebroad,non-exclusionarydistributionofinformationtothepublicandto\ncomplywithourdisclosureobligationsunderRegulationFD.Wealsoroutinelypostimportantinformationfor\ninvestorsonourwebsitenotedabov e,andwemayusethiswebsiteasameansofdisclosingmaterial,non-public\ninformationandforcomplyingwithourdisclosureobligationsunder RegulationFD.Accordingly,investorsshould\nmonitortheInvestorRelationsportionofourwebsitenotedabov e.Alsoavailableonourwebsiteareprintable\nversionsofourAuditCommitteecharter,CompensationCommitteecharter,NominatingandGovernance\nCommitteecharter,TechnologyCommitteecharter,C...<br>"
          },
          "metadata": {}
        },
        {
          "output_type": "display_data",
          "data": {
            "text/plain": [
              "<IPython.core.display.Markdown object>"
            ],
            "text/markdown": "**Node ID:** node-124<br>**Similarity:** 0.670940936360954<br>**Text:** 93\n\n[REMAINDER OFPAGEINTENTIONALLYLEFTBLANK]\n\nDexCom,Inc.\nIndextoConsolidatedFinancialStatements\nPage\nReportofIndep endent RegisteredPublicAccountingFirm.................................................................................... F-2\nConsolidatedBalanceSheets..................................................................................................................................... F-4\nConsolidatedStatementsofOperations.................................................................................................................... F-5\nConsolidatedStatementsofComprehens iveIncome............................................................................................. F-6\nConsolidatedStatementsofStockholders’Equity.................................................................................................. F-7\nConsolidatedStatementsofCashFlows................................................................................................................... F-8\nNotestoConsolidatedFinanc ialStatements............................................................................................................ F-10\nF-1\n\nREPORTOFINDEPENDENTREGISTEREDPUBLICACCO UNTINGFIRM\nTotheStockholdersandtheBoardofDirectorsofDexCom,Inc.\nOpinionontheFinancialStatements\nWehaveauditedtheaccompanyingconsolidatedbalancesheetsofDexCom,Inc.(theCompany)asof\nDecember31,2023and2022, therelatedconsolidatedstatementsofoperations,comprehens iveincome,\nstockholders’equityandcashfl...<br>"
          },
          "metadata": {}
        }
      ],
      "source": [
        "for n in retrievals:\n",
        "    display_source_node(n, source_length=1500)"
      ]
    },
    {
      "cell_type": "code",
      "execution_count": 24,
      "id": "96dd8a01-1cae-4614-beab-5b5e0434fefe",
      "metadata": {
        "id": "96dd8a01-1cae-4614-beab-5b5e0434fefe"
      },
      "outputs": [],
      "source": [
        "query_engine_base = RetrieverQueryEngine.from_args(\n",
        "    base_retriever, service_context=service_context\n",
        ")"
      ]
    },
    {
      "cell_type": "code",
      "execution_count": 25,
      "id": "82ae66ff-7d12-45c8-9b1a-adb20bd3c7ea",
      "metadata": {
        "id": "82ae66ff-7d12-45c8-9b1a-adb20bd3c7ea",
        "colab": {
          "base_uri": "https://localhost:8080/"
        },
        "outputId": "a96d69b7-11de-4486-bf54-4c6039763585"
      },
      "outputs": [
        {
          "output_type": "stream",
          "name": "stderr",
          "text": [
            "/usr/local/lib/python3.10/dist-packages/transformers/generation/configuration_utils.py:492: UserWarning: `do_sample` is set to `False`. However, `temperature` is set to `0.7` -- this flag is only used in sample-based generation modes. You should set `do_sample=True` or unset `temperature`.\n",
            "  warnings.warn(\n",
            "/usr/local/lib/python3.10/dist-packages/transformers/generation/configuration_utils.py:497: UserWarning: `do_sample` is set to `False`. However, `top_p` is set to `0.95` -- this flag is only used in sample-based generation modes. You should set `do_sample=True` or unset `top_p`.\n",
            "  warnings.warn(\n",
            "Setting `pad_token_id` to `eos_token_id`:2 for open-end generation.\n"
          ]
        },
        {
          "output_type": "stream",
          "name": "stdout",
          "text": [
            "The provided context information does not explicitly mention the locations where Dexcom has a presence. However, it does provide contact information for the company's headquarters in San Diego, California, and notes that the company's annual report is available on their website, which is also located in San Diego. It is possible that Dexcom has additional locations, but this information is not provided in the given context.\n"
          ]
        }
      ],
      "source": [
        "response = query_engine_base.query(\n",
        "    \"What locations does dexcom have a presence in?\"\n",
        ")\n",
        "print(str(response))"
      ]
    },
    {
      "cell_type": "markdown",
      "source": [
        "The baseline retriever gives a very generalistic answer. Let's use some advanced RAG techniques to generate a better response."
      ],
      "metadata": {
        "id": "J_GN4bGRekQl"
      },
      "id": "J_GN4bGRekQl"
    },
    {
      "cell_type": "markdown",
      "id": "d5431df3-d255-4492-bce4-bbebde6f2306",
      "metadata": {
        "id": "d5431df3-d255-4492-bce4-bbebde6f2306"
      },
      "source": [
        "## 1. Chunk References: Smaller Child Chunks Referring to Bigger Parent Chunk\n",
        "## Automerging Retrieval\n",
        "\n",
        "Now, we will build smaller chunks that will point to their bigger parent chunks.\n",
        "\n",
        "During query-time, we retrieve smaller chunks, but we follow references to bigger chunks. This allows us to have more context for synthesis."
      ]
    },
    {
      "cell_type": "code",
      "execution_count": 26,
      "id": "49c784d8-71e6-42bc-84d9-a2aea4217b8b",
      "metadata": {
        "id": "49c784d8-71e6-42bc-84d9-a2aea4217b8b"
      },
      "outputs": [],
      "source": [
        "sub_chunk_sizes = [256, 512]\n",
        "sub_node_parsers = [SentenceSplitter(chunk_size=c) for c in sub_chunk_sizes]\n",
        "\n",
        "all_nodes = []\n",
        "for base_node in base_nodes:\n",
        "    for n in sub_node_parsers:\n",
        "        sub_nodes = n.get_nodes_from_documents([base_node])\n",
        "        sub_inodes = [\n",
        "            IndexNode.from_text_node(sn, base_node.node_id) for sn in sub_nodes\n",
        "        ]\n",
        "        all_nodes.extend(sub_inodes)\n",
        "\n",
        "    # also add original node to node\n",
        "    original_node = IndexNode.from_text_node(base_node, base_node.node_id)\n",
        "    all_nodes.append(original_node)"
      ]
    },
    {
      "cell_type": "code",
      "execution_count": 27,
      "id": "2d614088-b122-40ad-811a-29cc0c2a295e",
      "metadata": {
        "id": "2d614088-b122-40ad-811a-29cc0c2a295e"
      },
      "outputs": [],
      "source": [
        "all_nodes_dict = {n.node_id: n for n in all_nodes}"
      ]
    },
    {
      "cell_type": "code",
      "source": [
        "all_nodes_dict.keys()"
      ],
      "metadata": {
        "colab": {
          "base_uri": "https://localhost:8080/"
        },
        "id": "9oJp0mv6EEWV",
        "outputId": "4822a63b-03de-4974-bda2-4f21f9bf0ba3"
      },
      "id": "9oJp0mv6EEWV",
      "execution_count": 28,
      "outputs": [
        {
          "output_type": "execute_result",
          "data": {
            "text/plain": [
              "dict_keys(['c6ccd534-e4d6-4f75-8c6b-829f7224ee5d', 'b155db7b-ab82-411e-829f-fbf01783465e', '61ce0abb-d02a-440f-b72c-285101fb8de7', '7c4adf15-acd9-406e-96ca-f763e9e167c5', 'bc66e24c-0ec4-4807-af02-caec78658a94', 'c5ccbb4d-a1e8-4d29-abc8-519fc5008305', '9e9d4060-9953-4b29-be59-0b0fd36c7e7d', 'a23f1a35-bd5b-49ed-9783-26ca81ac43f8', '045fbaee-447e-4c84-aaa9-f34909bce90b', 'node-0', 'd46bef00-54df-401a-b593-9ee4bf7bfb8b', '299113d8-2dad-4a93-90fc-9855d1147ffd', '75c929ab-4da2-4ab9-a6e2-4a179b6b1531', '34467be0-45f7-4dab-9c16-33f147356a35', '7768c327-04c3-42f7-8d3a-cd0fa2987585', 'e5a60134-ac54-43f6-9d09-87c601b1d419', '3fb65881-8770-4196-9cf5-9eb12f55fcd3', 'f728ac94-1f78-43e5-b114-96da3bf46b11', '22ce40ef-3b1e-49c3-8afc-0cabd4512757', '5111d448-345e-4dc6-a54a-9282170be8db', 'b9b3dc06-1702-4091-a802-b1d5cc258f7e', 'node-1', '9ad1fbb5-ec81-47df-abb6-4e032bdf420f', '74549f40-3421-4d0e-8b0f-6874a2ca6fbc', '044b687e-a254-4882-ac33-f0b01a47826a', 'bc448ee7-d009-4911-9cc6-ceecdca7ed80', 'df43884d-4fd8-4c1f-9cb8-5813f7e6a471', '1daaf380-d9d5-43e3-8c8d-9d8973177694', 'aa387ea1-9cb7-485c-b36a-c2faaa7c2d29', '3fc3a6d8-7d24-4dc1-a458-a02c5a45a8f3', '251c0717-4c16-4da8-9ee7-d942c461bfcf', 'fddf10bf-efd1-4019-bea6-28e41a1fe967', 'e135f989-7b06-477e-8b05-e32ca141c200', 'node-2', '70834911-c6ba-49f8-9d9f-216fca44e1ba', 'fc866b63-73aa-4826-94b4-496d9401b9df', '09b08c4c-2612-4718-9faf-bda79624ee0d', '2b9cd7ed-17dd-4d85-bdeb-7e384b12b34f', '3e20d523-0903-417f-8e9a-f112e95c774c', '2eafa0d3-2174-42ab-901f-be68984f045c', 'e9afff9e-e91c-4c96-a43e-97a6d8340293', '938cbafe-fa17-422e-b76b-409190a41d0f', 'af360b22-2abe-46a4-9bd9-d22d803ab163', '19c5dfee-ad92-411e-a453-d22b343cafa7', 'e20d0989-426e-44ef-98a4-40686078fe13', 'c24c435d-d654-4fd4-98b1-2aadde82a461', 'fa373d09-83eb-4bc2-a705-1c46ef6726bd', 'node-3', '983b7361-262c-4ad4-979b-a087b53de1ac', 'a11af451-6232-4c6b-a6bd-19c29cbfc21a', '726cc10b-ddc5-49d3-85fa-6e3dc43a1507', '4e6cf1a5-4ab2-48c3-ae5e-efc8b96cbe7f', '3b7adaf3-22fd-4565-b8de-d5af98fc9400', '9a8145e5-f8cd-403c-b073-eb91cc854860', '4f4498e6-bacc-4f71-8b15-d36df1e4d6bb', '601a5686-fd90-4c7c-9116-604ba6e6b1b6', 'a2ee254d-7adf-4b01-b297-ea21a3dd9c12', 'a4541680-4a06-44fa-9f01-257d92d6e0fc', '596e26d0-3f24-47c8-92ea-6327d435c00a', '9193bd34-06a4-404f-bbbf-c4cb0ee81350', '3ba1c305-b54a-472d-8323-5c7516c92cbf', 'node-4', '8e671646-d804-4c64-8de7-b980c235d433', 'c56b9c3b-2cb8-4ca1-b0db-dbd6354064d6', '3103302f-c824-4cba-aab0-4b895d81b473', 'c2584040-68b7-435a-98e3-71253b62ba58', '28943030-8897-4195-be00-b27e21d5f036', 'ac6f913a-f1c2-4f9e-aba4-a93296b1000f', 'f6f42fd9-11b9-4bbd-9f53-1f4d42704ccd', '6a892b0f-a337-460c-ae52-eff604402d11', '51acbe18-c6bd-4d09-871d-28f861c7ab89', 'node-5', 'c93eb82f-6f56-498f-9bc4-cbae9d88ecbb', 'a3ffac77-8f60-4b46-b037-d37f01d1722f', '4c3eab13-fe96-40e0-9b86-2f445016ed6c', '8e011b56-973c-4ed1-8d45-1912fcc5ef77', 'edea8c20-b3df-410a-8ab2-837d08d0b33a', 'be0b98b8-e073-4a1c-949d-760191f0e28f', 'a4fe5ffb-437a-4a06-95fd-c7b75d34ce69', '4485c16f-8754-4d7b-911a-e365bf000afa', 'ab801e15-b3da-4f15-b6e9-48b3523afb48', '4c387c0a-7fc4-408a-b98f-63af62e9b90b', '5b4b8013-af04-43c1-ae78-6a66315857d9', '5ce4ff0d-fc40-4a5a-96a3-a27d994ab552', '1c313515-d16d-4a12-b866-62740adc5281', 'a832b3ea-94ba-42e8-80e5-bb558d6d1121', 'node-6', '340757d7-4453-47c0-af10-5d714224de34', 'e7ebacf8-3acd-4906-a508-b4ed03a22898', '07bd5cd7-e21b-4871-83d1-c91834c64ed8', '908a1838-d3cb-45e7-a82c-f788f1f3ef96', 'cc44aba7-67ec-4d91-9970-7f96af77be40', '26191e28-fcd6-4b9e-8735-e60dba9876ed', 'e5fe36a1-5038-491d-9ed5-ef58a4ba03d4', '75edc392-1f63-42fd-8d4f-674a16959bce', '1622dd63-2389-4669-a667-c402f5c1faaf', '5a72aa08-ca7b-4199-b561-ffb4ec856abf', '5e9baa14-d5dd-4623-9616-3e05769fa23a', '353386be-ce39-488e-b44c-30245e919c78', 'b9101afe-3f94-4231-9316-c1efbd3c2dd9', 'node-7', '83c2de1f-e626-4810-9c76-959c3c33d68a', '8a5d2d60-af93-4a01-875f-1a6310dad2d0', '9886fbeb-3166-4196-a9c3-7875ed70906b', '96d8fe61-2883-468f-aaa8-dc6324613319', '95de2524-7701-48c8-8b27-4d66f325a333', 'bbe96c39-18f0-4447-baa4-90e21737d63a', '6219fca0-fffe-4530-8035-49773e0a66c4', '9eb963c9-4b3b-43a4-9da2-0df3806ae34f', 'node-8', '72d949b8-eb11-42f1-9fb3-ad2dc653bde5', '410cf234-4bff-4ded-a777-076c97ebd458', '6fcb81f9-e289-4cab-a751-baebbabd0e9e', '28de72fe-7be0-45b3-bbb0-1f40d0a79b7f', '2a2bb737-b834-4eac-b240-8d9b8caa22ab', '74f34b76-7b68-4f66-8581-267af3960587', 'c4bb1c94-7c80-4051-9bc0-befc8d3663c2', '6ae6bdcc-d0fb-42b1-a6fd-5ee014bb0c10', '105cc50b-c531-4295-85bb-8920236cc6a5', 'bdd9309b-db5d-4669-91ff-9e075564db7a', '697b8d39-de2c-481f-94e9-5966c2f0d0cd', '27eb55f7-c7d9-452c-b06b-c88d3051a23b', 'b78c1af3-3d7b-4e76-8775-5a45596bc575', '172211ae-8db3-4dfe-a578-657d7b4c08a2', '4fa11f10-1a69-45e0-a289-d68e3549e7e7', 'node-9', '2099e41b-41a3-435d-86a8-d4b72e187e1a', 'f1af3ee7-630c-4281-b22d-d5ca03320c6d', 'd03dbd83-72dd-40ad-ab9b-5754878b8290', 'ee890e1e-b139-4e6c-8d0f-d3109f24d18d', '7429ac88-9c7b-4497-9a55-64e4d9fd0a29', '433fbe3e-da49-48a6-8064-074696fad2cb', '0d65575d-1c4e-478f-aaa8-142da3d230a3', 'c6fe2dc5-bfcf-4326-bb9a-d5573d86af46', '5da9999e-2ab4-4ae0-8912-061071dd84f7', '32b393af-db10-45d7-a206-dd0b08e94ed2', '6c949e83-3b04-4270-9cb4-2a9ae9ac8c64', '5f5d0d3c-ab22-478d-bdcb-63fd1cef54d0', 'node-10', '07291d6b-89b1-4f48-b154-a0540a64e506', '4e932210-f8cb-4b18-af4b-07dd68c41578', '42da4d45-2346-41b1-9a63-11830606312f', 'ff50b939-70c7-47a5-a1a4-78b3d61dd294', '57190ccf-e380-451e-a815-85a06abb2b89', '36cbcde5-a653-4440-a5fd-cd00795ed78a', 'f01e9dfd-bcc1-4f92-be7d-ef1ebd505607', '3d1c597f-db84-4840-9aed-5d592540562a', 'c0170d1b-3e33-4a70-b767-f8e460af8a0f', 'cdc37522-a6ca-4e51-a2aa-62d39438c4f3', 'a528c4e0-c217-42cb-97a6-489c03f3dabb', 'c8e4bd16-25ac-461e-bbeb-828c6f919b7f', 'de6cff84-6bc9-4cb7-be45-1ba8666a54b8', 'node-11', '34fca058-8e59-4d68-bb03-7321def75b67', 'b6bf0e4a-4f8d-49db-bca3-99a720342fb4', 'c4ac3e3d-e017-45f4-8714-5eaff13a767d', '54901e20-08e7-46ac-bca8-0ec389dbe03a', '0d976637-67d3-45a0-aa8b-c6a52315f8c5', '8387623d-8697-420d-a17c-8259d5e0864b', 'd175f285-bfcc-4b76-96be-974f765b1f9c', '1fc997b7-5faa-42db-b51f-f49213d75d41', '73923bd7-7e70-4863-bf28-2c8e8044f746', 'd58cb1a0-0098-41e0-a8cc-72516c35fead', 'node-12', 'ebf6a5c4-7cec-46b7-8d57-87b2d74a6bc9', 'fc582200-2a4f-48cb-9037-d5827a475390', '1950a5c5-a7b9-46c0-89a9-ce72da3c34cb', 'ecb36bdd-9db8-4870-9cc6-94d81d7081fe', '0e827487-28f2-4a35-b60f-7c551cd82e75', '06e47e19-3b07-4be3-bedd-738598f7b40a', '85403f2e-1fc0-4363-b857-8031f0e5fceb', '19ccb739-b2ee-4d21-9c56-a8aacf8f664b', '70326ed6-22ce-4825-80e5-18467b2ddcd4', '9d7d6dc5-7513-4a59-b9bb-06ad3a793952', '729b0dda-96c9-4ab6-b296-ccd452db1e0f', 'd7142f9d-6af4-4cab-80b6-0489a862fa17', '1c55f7e5-b205-4e10-9dd8-04598855c87b', 'node-13', 'a734ae56-04e8-4e22-9441-8824bddb85d6', 'ae259753-d4e0-4245-b56b-0f80730c75a9', '38fbda7b-1401-4942-864f-c45802051051', '32604c5d-fbe8-4a67-803f-273d3092d902', '5489b6f6-3853-4af0-bd1c-efb7d720ea4b', 'b6cf8cfd-a7ac-4605-a62c-88bba8a87b63', 'dd17e28f-c9df-4f5a-9f16-a9944cd8d6e4', '79a524a1-6d78-4a6f-87db-46e8e6ae6418', 'a4718c32-0314-4283-ab41-60153ae3f99b', 'node-14', '3f238fc2-86b6-4656-a6a1-3be986e1572b', '0bccae0a-b98f-41bc-9ba9-d1b06f4dbb1c', 'dbfcf29a-be36-4ea3-bed4-ab509cf3b5ca', 'e13f97ed-4818-421b-8783-2b5fcd625687', '15ed6aaf-5a8d-4a35-b567-5e4be774ce64', '61658976-513d-4819-8642-a911b9e29f29', '2d9f9465-58e6-40ef-b26f-1677f4543dd7', '0f14e584-63ac-43ae-9dd1-9858a77802b7', '5b7fe4c8-29f1-4aae-a817-0fd711a6351f', '00e14f2c-4683-450a-bce4-eb7a4a51c9bd', 'node-15', '765080ef-690e-4ab8-80df-9da4824669dd', '92a30e0b-d057-49d3-8af5-e68d98681bc9', '096d0ebd-16e5-4816-88d0-fad9f53fc45e', '79d6b365-c1f9-4359-9ab0-a37ddfc09d6e', 'e04c9e34-c6bb-456b-a1fb-95c6afee76b2', 'a9f552f4-302c-4c4e-ae26-3d640c0975b7', '67c8c093-421c-4733-965c-6cfadfe03c41', '12e2c56f-978b-4b08-82a3-08df7d470676', 'f6b14398-cd82-49e9-a41a-c48026c2158c', '52eac6bd-a2a9-4b8b-9227-30fbe06215b2', '6f69ee0f-c3d1-42b1-a8d7-9276ec5b6c1e', 'node-16', '8c0e26cb-aaca-44f2-80f7-7d671c6b742c', 'e7a5ffb0-76ca-4f87-89a4-9969bce65da1', '57f3a51c-ea29-40d2-909e-21218a65c1d1', 'cd26448d-2389-45a5-a9c7-778c486afe74', 'c4130b2a-d8cc-48f4-a411-0a30a07e5872', 'e7a68f60-8bce-4e62-8652-24efc66c1d0f', '3701fa71-d9bd-4141-b2f8-715d09e7b4ed', '25a904ee-4cdd-45f3-9264-ac9d533cd45d', '37450452-3de9-4863-a66f-ce86b6e6b45e', '3aab5527-f0e4-4e26-ac87-2a7220cb6ddb', '9c6cfbc7-58cf-464f-85e8-16b68d582e21', 'node-17', '6a26227d-19c5-4b75-ae3f-ff20c071756c', 'c1430af4-84c7-4323-b0ec-39cc7538105a', '0acd8878-b730-4a5f-bb9e-393ccc84ddde', 'c447ab3d-b703-461e-8fed-7ac4adb8dd75', 'bdd43bdb-0456-4ca2-8668-d8838594dfff', 'fe9a47a6-2de1-48be-9a18-fdea8cc1dd77', '8c8a9614-13fb-4f17-8520-30b944644b3b', '5e9edb33-88c6-4300-9312-4aaa40e40993', '71aa9478-e13c-469c-9886-4eeb2aafaa85', 'node-18', '8d9aac2b-00da-41e1-a429-5abacd25c2cd', 'd4fb88cd-427f-4054-988e-13252c3c3b78', 'c852c47e-43b6-484a-b9f1-a1de26b3ea43', '409c8d2b-17ae-4a63-ae5c-bec4f9af3060', '578ec227-5ae0-4540-b7c7-37079d2a2279', '5eccc98f-47db-48a4-a5ae-71350d4cf578', 'b3d99de8-86f6-4a69-b4ce-db81c8986812', 'fdedbac2-2e4c-42f1-9a9b-e055c2f6fe56', 'bb2b36d2-5b1b-4566-b368-9bbb47d539ee', '37bab435-908a-4bf7-8f78-2633e5943520', '442f438b-8d58-4bb4-8a9b-e6922e5f7604', 'node-19', 'a9e9ca36-2036-4f31-86ba-144de5a46e80', '3c2f14db-577b-4e54-b1f7-553eb462be8a', '7d4c5a97-40e1-4cb1-a0d9-195d0bbb1ad5', '921ef56a-88ca-4d41-ba50-48c6a43a6d91', '3cb609ae-626e-4802-899b-0f28ea6dfd74', '624ab45b-7bb4-410d-8647-5f5cb06c8a6c', 'fc64cbda-c31b-491c-a0be-2897101b9f7b', '8e3c2037-27c0-439c-8947-29d12a572704', '48094cb6-3a13-493d-9d25-3506591f8b60', '318bb3ff-657e-45ba-8014-3a040b4fb1c7', '0ece3976-7399-48f7-a851-f3215b6b475e', 'node-20', '615c9496-41e2-4933-af7b-31a513e368da', 'bcaf6961-1562-462f-810f-706edaacc82a', '27e6daf8-0a34-4c48-87aa-a2a6e9382140', '1a7c8522-2296-4080-aefd-01cca8a9fac4', '3ac31ef2-4492-4806-9910-ccff9a14efbe', 'a9ee8778-67f3-4297-ab4d-963ac61ab56c', 'eaf331b7-1d2a-4cc1-8668-167fefb46d9f', 'ac751d88-3391-44f4-973a-b4305883d41a', '8ac2c141-766c-41dd-989c-7e94e1a3c3e4', '1ebc5537-3420-4033-b087-f88872a07457', 'node-21', '81f84f3f-078c-4690-a812-c8303e7f3921', '2d33aa49-0bcc-4df0-86e0-6e82e3810601', '73ad283a-8c4d-4c42-aad7-3078d50ec0d7', '1eaca04f-f8e8-4230-aa52-748cb13e4b45', 'a70bc6b8-4fa5-4301-a487-97c4c8e9c952', '1c8f6f7b-b824-447e-8a94-a43d38ba07e2', '95ee107d-4e49-481e-bc6f-279c035fe78c', '063a879e-6b2e-4646-9169-dbe8e5bce4d1', '1d440279-9da6-481e-9551-539cc0404743', 'ebf10dbe-8767-41f7-9114-24da846fe25a', 'node-22', '26a217b5-6430-40c0-accb-5a6ee7f0e203', '2e6ffe99-233b-47ad-aa69-24c1c84afcce', 'e224c57e-eb8b-4223-bbd0-f1a7d64fb8c9', '75c4ccef-88f0-4a4a-a9a0-2bce65bb7811', '8d593498-8c87-4cf6-aea6-e562b92748a5', 'de3639be-3007-417d-88cf-a4ef9185acd4', '3f3b4456-f5c3-4332-96ff-9ee3b53d277a', 'f6e94d2c-3719-43ba-a8b0-f6dc6473c278', 'e71ab772-d123-4ae2-b567-e666956fba1c', 'node-23', '948c544e-aead-47ba-a82b-b003ff45d932', 'bf797b86-dfca-4134-9cf0-d17d13eb6a6b', '41dc81ef-1267-4923-af45-72df0422a428', 'ae6f7c1c-d72a-4c20-9448-ee015608774c', '057db6f3-a7f3-46fe-9504-fa03601d1047', 'f09f180a-31c3-4c75-88f5-1c52dc5d30e2', '6f660667-4958-4bc5-ade9-dcaa622019ea', '144c8daf-b5f9-4dd7-86ca-aec8bfdb9640', '20097f30-7ce2-471e-8252-1f631be4dd56', '76cb57bd-edcf-4bee-8dff-1c612fb104fc', 'dae67381-33b3-49ae-b0d7-6072d5440d6a', '28e60f3a-b713-4109-9ffa-a55d3fe6d5cb', 'node-24', '8fbd5ecf-3a78-48cd-a2ff-6ca9579d3c01', '69a101a6-95e5-40ab-9d59-ba4448c282f0', '2ee52f94-4c7b-4c46-9f12-47c10f2ad124', '047cd613-efae-456a-9a87-325a109d1ffd', 'e6536b4a-1846-4d5f-a9ed-b54722e8223f', 'bc180a64-4215-41b0-8539-f80df9871706', '24c16b1d-4b87-4e2a-b324-739f4acc03ef', 'bf1d19b3-92cb-4988-99dd-11089bcafb01', 'cf3a08d0-7ccb-4342-a3c2-df2fdb89703b', '43ae066c-4d72-4911-aa98-ff4807daa49d', 'f94969aa-54c7-4f0c-b4c8-f6a30dc61777', '87d00efa-83d2-40d3-b5c4-c0829d632fe5', 'node-25', '1a24904e-a5b5-4d25-b7d3-015b64e6a23f', '5ef6055a-97e7-43f8-a5f3-adaf8f4ab08c', 'c3f23bb6-ab49-4591-b129-f495ecbff609', '2c15df25-8023-4138-ae28-68231f25d487', 'f318fcc7-b12c-440a-8796-a3b94a2635ee', 'fdb02f3f-ce96-4805-ad2f-f1f2870f374f', 'b092b51b-0740-422c-9744-c099785c1d86', 'node-26', '43e75668-2982-4d49-ab0e-e90eed0d2904', '9644e192-59a3-4493-ab8a-1d9e01352639', '839ebf3a-ddb6-4b4b-a34e-771c4e9fc5e4', 'b8fe0909-6827-4813-8edf-81accbaedc49', 'c781e6f9-7b2a-45d6-bbbb-6cb932f22e8d', 'node-27', '91816519-c277-4a7b-950a-d0342a03ff78', '49de6d9d-84ce-4569-82d2-8987680c70d3', '883da6bc-03eb-4c57-be19-2a539c6a2fc5', '3ae29590-457c-4a04-adb3-16d865915446', '07e8c5c4-ece9-4d13-9e50-e1639f28f13b', 'f00dfed9-c2c8-43bd-b9be-ad245f70bd30', 'ae6e46f9-1173-4b87-87b8-f38009ee4b6f', 'bb763f4d-3aef-49cb-8329-dabf3142e27d', 'f3bc6f34-9f0b-4761-b63a-763979b0773f', 'e6e293a3-499f-4325-9fb1-eafbbb8dbd7d', '5b9e664a-2fd1-4d6a-ab63-83f9774d7c48', '8a2b5b43-d778-4fe1-a0ba-3d4f680fd634', '25664258-125e-434f-a5b8-ec3545d19015', '8b291a41-8c59-46a2-bd6c-a6155e77f93f', 'cddba05f-4bec-41ce-82e8-0ed2ad5d8bd0', 'e11bf151-4ffa-4504-8626-834fef89d19f', 'b9b40db8-2cd5-4c09-89ec-f679779fe895', 'node-28', '9c92ee5d-a380-49f0-a375-0f542a690a0f', 'e754e6fd-8b94-4776-b62f-051b46c8a622', 'dcc4d310-2a9c-4856-bff3-a9b4488b9f1d', '4c6bff3a-9be0-43be-a192-f484430fe8f8', '4d4c3240-1d6f-4241-9fe9-d678a9429e6d', '691ae381-5512-478b-86fa-db1ee4089719', 'a5dcbb7c-dab8-42e2-b790-b93a25754df7', 'node-29', '1cbdbd8b-d41a-48f1-8f93-45c4c525838f', '79a5a65e-8143-43b4-99dd-ecfc6b7eefb8', '4681a792-1a53-4781-a145-2cab05eb5b63', 'c58785cd-151e-4be3-bef1-b0433a2c3c08', 'e1aca7df-0761-421e-a0db-61034da4876f', '94610538-6076-4ab0-9480-157795ccd55a', 'bf26bc06-807d-49c8-acb6-5f82ab75ad7e', '599f5c6e-4675-4d59-858a-ab2e2fe3d387', 'ab27af8d-be03-4703-9244-5a42284d9f71', 'f5087110-17cf-4e90-b097-8562ffa06dc5', '07f21f05-3d93-4230-86c1-43031e2c3c89', '5c56a9cb-78c2-4c50-b939-fa21cc3e3c24', 'd0d9fa78-e7b0-4359-a99d-8efd36a86eca', '4ad8e8ce-9225-49b7-b73b-d4da8cfde92f', '91554d9a-95f9-4433-b884-8055c6a320cc', 'node-30', '0c62e5e6-da22-49a8-9a6a-a399b000bdcc', '44b1b87b-e11c-4221-b9d5-620af22b48ca', 'f9391a56-337a-447d-8dcc-7c83b15594e2', '01a03a89-f4cb-49d7-8e65-f634fa55b274', 'eacf6179-0416-49c5-a5bd-78b4d12849c5', '1cb3a8b6-98af-4659-8eac-2911f8ff8ee3', '72fd926e-435d-43d5-8c88-c75eb8ef863d', '2048052d-5725-4157-a401-17b43a1fc1a5', 'd9f84765-98af-4ac7-ac0a-29281e4bb5aa', '677a52d6-2963-4950-8778-f4b2d1016a74', 'dc3dbabd-ee97-45c8-a9a5-dfbbcf9350d7', 'node-31', '8dc82044-99fb-4aa5-b068-250e3ac8f13b', '6ea6f0b1-5385-4245-946a-a8b33db330e4', 'f0881206-5f48-47ff-949d-528e3843de85', '788b2060-45ee-4310-bdef-701e7ab1ef8f', '39cf5c1b-17a3-48dc-8b1e-cf7c3517eba6', '2c8f3d8d-cbe2-4c36-9106-61609f8ce57f', 'b54f1e80-bdfb-46fc-9dc7-7ce7fde6b311', 'node-32', '1ef5d896-efc8-4b17-ae50-594d40bd2083', 'c88cd605-8238-4a5d-b21a-b7791a7175cc', '8ad5ad39-2070-4107-b70a-b7e0796ce9a0', '845db3b3-c838-45cf-9135-895b3914db80', '7c275028-7fe7-4c03-bc4e-9c420b77798a', '82a731b4-13d8-4a50-b038-b72b4d6a62ca', '487b1ec8-088d-4fc4-902a-3dee7c84dacb', '0fc97c72-bbf5-450f-88cf-d732da201470', 'b2a4ffba-8586-463c-9e8c-3822fc6dccfb', 'node-33', '0b403bc5-fa33-4830-8d13-27942df6b957', '0c210896-c843-4bd8-a12d-60d7161b62aa', '46b1bee3-5eff-4566-a82f-c04d59bcd084', 'f5e1080a-58b8-4f13-9577-a01935653738', '2dc64bfe-b4fe-41b6-8b68-d1906e4df95a', '9c209f5d-398f-4146-b499-62fc0fc338c1', 'cf5fca07-dcab-4825-a4c1-fa0b576256d0', 'f536858a-0212-4220-abf1-d0f70a028d39', 'node-34', 'f65cf31b-4267-4ccd-a8a1-c6252d894424', '88f8f8bf-31db-4143-9e1a-aa84ceec310c', '442978c5-a7c6-4fba-be52-f00f4b4672a9', '730a9cee-3bf8-466b-ba66-813fdb83b168', '2f2277d9-fcb6-4c7e-b055-2b2171c3ac81', 'e52fac9a-01dd-415f-bdb7-e21a520bf3d8', '9ca8e8a0-c932-45e3-935f-a2bfe9fb1638', 'fa6b8b54-a88e-4d1f-b3f3-1e2047d4ce3e', 'c1682a63-974e-46ee-94e2-df594b0bc613', 'node-35', '1460b961-4530-488a-8b40-a639167b63a0', 'e7c33caf-46df-4700-b87e-fd675911c6c9', 'bfa41f45-98e9-4e92-8582-2c8e8ccb5677', '5a323913-fed7-4ce3-910e-2390d9ffee56', '1a95e6ae-71fa-4028-91a6-79ac6c1ed366', '0a17de6e-e4bc-4ff7-a32f-4f89d41a89d8', 'd53b7c9d-6063-413e-9924-1807e86c8511', '7d27736d-55a7-4425-aba9-112e3a873cf6', 'd29db816-a4ed-43f3-abe8-46e36c3848fe', '1e69f115-b923-418d-8cd2-4762f243f994', '182ea897-918f-4c12-8585-b9c7639edd3a', 'node-36', '42fb94f5-e4bd-4a2e-b6ab-0c257688388d', 'cb274ebc-dacd-4712-8803-208d0925f9b4', '50639c7b-47bc-4ede-aa42-d6467cb41d2c', 'e15d0772-b976-48ce-bc22-099d7c2f563e', '06372aa9-8433-4fc8-886f-a5feff0fd294', '039c9973-d65d-448d-8d45-88bb8e8d9700', '2a49aa6f-7a93-4d69-a397-e1abd82223d9', '5f743d89-ebdd-4abe-b0f9-d4f4ed641817', 'de8efb3a-180f-4173-b128-db802289d06c', '7f0240bb-d1f2-4371-8364-eba6b3422dab', '20af8a5a-db63-4501-a1ee-6c82da36ac4f', 'c1591d2c-3013-4ee4-9554-0a5191d056c8', 'node-37', '7852b990-aa08-4128-9fe3-5c0277623bd8', 'c8ec446a-5c26-4922-b480-720a8b2c358c', '82f2ecb9-d99c-4eb9-8630-1ce5d4e9c1f5', '95f10dbf-c646-4c7c-9482-842289ba925b', 'f3dca32c-9729-46a4-95a8-01a4dd23db4d', '7dd6ba7d-7ab1-4743-9189-4ca2d315bb74', '5624a3b6-e764-4ece-aa7d-b4753f274de6', '1d314d1d-de8b-4d00-9015-68d1ebba53f9', '48f74496-ddfc-4161-9b93-f968e651fb91', 'e4ffe767-4144-42a5-8acb-ce5879fd8482', '406a65b8-d262-476c-b62a-c43ee2ce8a4f', '32006c3d-2954-4e9b-b43f-364c88fddf44', '835b4b12-a93f-4606-9246-a97f6cd24a8b', 'node-38', '324bd093-2e3d-4e73-a30a-45b231586d42', '7de47e6a-3e52-4366-a897-5184ddba856b', '73095b76-fe8a-4f2a-8f55-c9b3df14c343', '9a02261a-ebbe-4e48-82b9-120e601e914e', '8071723b-944a-48f4-a6b4-04a5a55a0d95', 'b4e2bb30-d194-4b4f-ba2b-8d44c7ac5871', '9d01794e-e44b-4868-9a46-3cf145b14b58', '6104b677-bc9c-4047-9c30-b4738db00d2b', '6c3add57-565e-4c6e-b7b6-485dea555548', 'node-39', '753f5b71-cb8c-43f7-9a57-da219bd8c8d0', '23e072dc-afee-4eab-b3f2-58657f81dea3', '7f62f035-c8d6-40ec-9382-6a7dfb2f8675', 'f754638e-d163-413c-8870-b790cb79211b', '3b0b1c43-6ae6-4223-9bc7-46e804abd8a5', '38af2cf6-f2c2-4ae8-b32a-4008694ea68f', '73cc31f7-c453-4895-94ad-f40506d5ec6a', '7d6c1d8f-534f-4b4b-b496-446d806d4de6', 'ef1a7d5d-abf3-4a45-8eac-a1fb67ab22dc', 'b1444e20-6060-4d1c-ade7-7eef25fa66ab', 'node-40', '0f9f6680-f28c-46e2-9a16-2aa92688c8cb', 'dd5107ce-87ed-4f43-9b51-4bec55b2e09b', '0fda6422-9b18-455a-96fe-9bbdc43fb36d', 'eb6f092b-b64d-4b29-a96f-421cc686432e', 'd541c13a-bad6-49be-a56d-08878c78f795', '143097fa-409e-41b9-8edd-f97777699f19', '6fc5a3a6-ffb3-4b9c-8ed4-eef3df251fed', '6e0f98a0-7561-40a6-8442-5bdcc185a1f5', '88368f45-8365-41a7-ad24-46758e7eafa9', 'a98d58dd-8aec-4f99-b0b8-f5b1503651a9', '65fabea0-caee-431a-82dc-fce0875695d8', 'ee122b18-ccfb-4aaf-9e45-b5e15dedcba6', '999c2144-1041-4e7c-9f2e-fc8f2d92fa84', 'node-41', '3537bbb8-2026-4222-91b4-261926db9005', '1b96e8b7-dfe4-4ea6-b2e2-d52f1b413b9d', '1936f3da-5baf-44b6-8b37-d248c61f77aa', 'f76ef6d9-857d-45a1-a866-a142819cd989', 'b907d6ba-129b-4dc1-b1ef-f26bd5a8f854', 'node-42', '1ca2cee6-8124-491e-8883-d3537b36f633', 'f3e007ee-fda5-42b6-ab11-d3a6c46d0a29', 'a99dd542-aa8e-446a-b882-f3730720cedd', 'deedb5ee-a09e-4048-8064-6ac3a7b2ac35', '147db8fa-38b2-48f0-80f3-e7bf847adf0c', '2041427d-193c-4865-b160-3bd389ecc9c2', 'f873e5b4-3091-46a9-91aa-446f22aac3bb', 'fb82b5cc-5dec-4e35-82c2-16585cef27d5', 'f1e2f09b-a244-4e51-8aaa-6f9ce0a03622', 'd7e08690-a23d-4480-b90c-cdd0061c4bee', '61763eba-ec4f-4d72-b3a9-b7c8f12b25af', '3a6a5f47-1880-4398-8c0b-3e0232a78006', 'node-43', '2c9d0815-0f25-41ac-858f-98bfb93b2014', 'c87239cb-f37b-4958-abaf-cf8fc9d330c1', '42bc83bb-42c5-4d5c-99f9-720c5b9adac9', 'affe1758-b889-42c7-9982-2901458cb646', '1b59890f-4a38-4589-ac2c-0ef165d627c1', '38acc68a-e6ea-4d34-8177-9b321004c7fd', 'f8c44fdb-655b-4854-a7db-027df523ac7f', '94d6a0f9-b3bd-43ac-8c60-ef6c8636c52c', '37a8a7c8-418f-4d14-a9cc-e7b33e2f7e3c', '7235c09e-5af6-44ae-8a32-86d047c80aeb', 'f0b0a180-3cc8-41cc-97d4-bcd93f6845d7', '0f3d0a32-283d-4bce-afe1-67d970a55271', '7d6de647-1c77-46da-b631-d667dc642600', '4424facc-11a9-4feb-80c6-0daf636dbe87', '332ced07-abeb-4318-879b-f1cdaf0210ca', '258f3d36-8c6b-4de2-84b3-2d7f3d25e5f7', 'node-44', 'c428ee5f-db5a-4337-89f1-979de052ab04', '29900cd8-89d6-434c-a667-78449a550b52', '2a838b8a-de65-4a00-9745-ef253dd2a86b', '6ee30987-9ef2-4d43-bf0c-c0fd4ae586a7', 'a688efed-5080-4a85-aa25-c4c11fca6976', '6684d36b-bf78-4db8-84cc-8ec8fd0b50e1', '0139b675-8baf-46ad-8e2f-6aa72bf00f4a', '4da1de31-2c32-449c-a683-7ed5ba18b156', '56b66c4a-4e40-438a-b0b3-d240350e0ad5', '0d79b93f-fe44-4bb6-9e4f-3959d56b5830', '1b75e438-7a3e-4b22-a270-71f0007b9583', '82055ef2-2f0e-4a32-9016-bd56a51d5aff', '1acebc83-2dff-46b9-8900-f04831a0b9ff', 'node-45', '28beb40a-4758-4075-9d30-36ae54493e0e', '3d6eb603-d0c4-49bf-8061-4844630552dc', '6f445dc5-f37c-45ce-837b-822d87a4d9d7', '3a857c86-017a-4947-95c1-4394ebe0e05c', 'ca56bb91-5b17-4fad-8260-8af466d8db51', 'a875e152-8512-4698-bfba-e73af654593f', 'abfe8ff5-c926-4c8e-8b16-11389a4f4133', 'c2788090-fa25-47fc-90f2-f1241e872018', '7eb2228f-4186-4302-ba6c-07efa713c39f', '64f3a7f9-2ef0-474e-8a51-aa666003f9bf', '35c3f0ab-8433-49f9-930f-05c6a9f7b91c', 'node-46', '65589c1c-a683-4ae0-96a2-d5bbfb59855a', 'ac80f57e-d5c5-45e6-8568-1bfb86cdbe42', '043d1b8d-d617-4c84-8d88-0e4e6861cd88', '3a0d94ae-f4fe-4950-b211-e23bf55fd71c', '3edd90a1-fd11-4c48-8c5b-ddf4a04426d8', '12ffed58-9da8-4eb6-b15a-288068581fcb', '04c0cfac-b4a4-4ee1-9ba8-954c2be1d277', 'd3eb2bb8-1492-443b-9dbe-7d4c5b5cffb5', '3f823775-dee3-4e70-8289-e44991f9df0c', '1261b5a5-4d68-4e62-a7ba-3982dc64895b', '2deedaee-cfaf-49b0-a01f-cf5131d94700', 'node-47', '97ee7964-01ee-4477-8ca7-1c87eee51821', 'b8e6d376-e085-4830-8295-6da5bf5d4c93', 'bb4d35b9-69ff-4427-bc6c-e7a3c82d5d03', '97c25ba4-5d13-4f93-a6a2-aef290e2ea97', 'e0fedf0b-f3de-492b-a356-847c0189a515', 'e6aca856-e9e4-420f-946f-487ca0e1a70e', '2576e0ac-dee3-4ec8-983d-1f3caa044589', 'fba2865e-48d7-4aab-95bb-c2a661a81095', '58c6d3bc-4f5e-42aa-a33d-bf6905eea01f', '02e8fdad-5558-4851-bc4f-6ee985f1ca76', 'node-48', '54079f89-fddb-4b4b-b786-90892cf630e0', 'c2d89d15-7a2a-4728-8c32-bfbabe0be44e', '6591152f-6597-4a24-a97a-9566b654a508', '7bbff66d-4594-408a-896f-26cb0eb0ac24', '40af4e65-fd3e-44a0-9ec6-1496c12f80a9', '369a6e53-b8ed-41ab-a74d-be302d1a9b40', '657c2c5d-bb9f-4eaa-b8e5-d1f1340f1a82', '64f1a804-b71d-4ef5-ab6e-d418dfc348fa', '51b155c0-6f11-46ff-8f16-f40562181404', 'e3cee43a-c211-4dda-a205-4ada5cd0e297', '900ac27d-c533-439f-9842-b5dc886a4c45', 'node-49', '8d5ce44c-bc61-420b-afec-b001be128c3f', 'e5542a60-6a24-4097-8ca7-7cc542384a3b', '3db00e2e-6f05-4ee5-ada5-76ec1df7d906', '9ec3e614-5c0a-41b5-9d4e-5b99d9e80ffd', '40885eda-6d88-4c3d-be70-661c03afdc97', 'f8bceffb-0952-4276-8b16-d4012c13bbcb', '98436353-cdc9-4353-868b-e684b526aa3b', '1590cc05-ab63-4e1d-aca7-26a055deeca0', 'b3d27e94-d9c8-4cbe-927a-81bd1e3d9de0', 'node-50', '220b900a-ed68-4db3-b1df-d3ece528bc92', '43bd6897-cb9f-4b03-b2d9-c7d66f4f8ac1', 'b3bdfe19-416e-4098-a685-6d8cb417f401', 'b2b1b247-c4fc-4200-aac3-69ce5f8ce9a8', '25443c7b-57d8-4866-ada2-1af78b74e467', '42b3fab8-f4cf-4906-9612-0bbab015fd37', 'd0de1ebc-046e-4755-bfe9-75870d275922', '4dde9eca-915d-490b-a3b1-60d4d42343db', '7216720f-7029-4ca6-91c6-1341f1102f62', 'node-51', '6e7c73b5-7b13-4f50-9d18-a65c673d851b', '2599274e-decb-4c47-8f5b-33bb93ed202d', '6d5c7339-e124-4312-8cd4-5693699c2d13', '419a7ef2-02f3-46d5-bcdb-177e51203341', 'cdfbb391-5cd0-4dbc-9204-d1709bbda65b', '6af06e94-0526-49cf-92cf-6bae0c556fc8', '0cc8790a-b70d-420a-874e-cc004b33f36d', 'a4ea0366-ca39-41b4-9629-676cad56573d', 'a195578b-6d1a-4d3f-937e-72572f9041f3', '0fdb8752-823b-47d2-960e-371cc74c4c82', 'aac42c06-ea3f-4bd0-a9cd-641a876dee67', 'e97f3b54-4cfc-4293-afcc-080e6b3d29a5', 'node-52', 'cbf8d99c-c516-468b-b735-be264e88e779', '06d136a8-9a6e-4267-916b-41a0d8c5f7f1', '32803333-f633-446c-878a-48a30617ca23', '31dd2988-7b97-49e5-8037-a5d0f5c4deee', 'faf01c9f-eb1b-462b-b0b3-2ea1d4c6c6cc', 'e0a45993-3edf-4c5b-9f59-9596f786b9ec', '142110c9-275b-4f69-aee3-6873be820ee1', 'de64363a-b47d-43f4-b16e-d4af27585535', '5d712034-c40e-4b6a-8043-9e4f29287cb9', '9a2faa3d-4678-4538-ae60-545e1df36329', 'ceaab8c7-812d-40bd-b8b6-6f2774090bd0', 'c56ba936-e7c8-4811-aa5b-d6ecc74326a2', '560939e1-88f0-4278-82ea-e27a7db82004', '068bffc4-0772-460e-9fca-fb304d11d2d7', 'e985e238-33cf-4edf-a27f-5cbe4b581520', '4ac35735-5114-479a-96e3-9b39fff00dd5', '87eecbee-7f3d-42ab-a863-259b4a74abef', '1adb3af9-c7d2-4c05-b50c-f39a87715d71', '799f14f7-e4ac-4980-be6c-5830457ff7b2', 'node-53', '6d6da2ee-0336-48a9-8d07-bfb2ed94ece6', '92e40c84-e74d-4bcb-a4f9-b31d13ff34f5', 'ae3d2e31-bca5-4e50-bef1-19ddbb0523fb', 'aa46b6fd-844f-4eaa-b755-2a364c419fe9', '14499208-96ab-4114-80cb-bab9c55e5c3f', '1e77f463-498e-4d85-b52d-43922630b05e', 'node-54', 'b3cce241-b337-4498-ba40-dfbca9cb4278', 'b1c36344-8ae1-4810-8c30-517307b43656', '1c2dd84b-aece-4d22-aa25-45e1c6dca089', '7b94f1f0-83d2-4532-9df9-44068d68434a', 'f25f7d2f-eae7-4b88-9d9a-4a9c4810d9bc', '5bd4e3eb-b83c-4b6f-9021-f730ba2313ac', '04b4ec69-5445-4b54-8592-0d8bf5420e09', 'd59cfd6d-71b6-455e-a8cc-31b670e794f4', '36108538-0ae1-4210-8271-8a9142b39aed', 'db585189-c0e8-44c1-9d1a-1806b48a5776', '571cf6da-a79e-4ac7-8d9e-b01da2733793', 'c201e7e1-486b-44c6-bf51-ee1a071406d6', 'node-55', '906416ca-e6dd-429d-840b-ca28b84e8d94', '7c7206aa-ffba-42f2-a1de-08e3d88026aa', 'd32be24b-54ed-48d4-ae84-21c535a65ee6', '86db0f41-a960-4e1c-bd2f-7254b892057d', 'abf9e49b-a888-492b-8ac9-6ada54aa4c7a', 'bda04797-88f8-4185-a41c-9be166a85bf1', '9dc237cb-8559-436e-a291-26aaae7b95e9', 'ee0821ae-4fcd-48e1-9dce-1d30106974b0', '29ea4ebb-c658-411a-a1b1-8faa11abff1e', '4abd442f-14ed-46ca-9465-a29122be5d9c', '8d1d81b2-cb36-4cec-9bf1-b8cfd8e45da5', 'ef882ded-bb2b-4e03-a820-f70ced39ed80', 'a53ba65c-bd84-4be1-b618-4ad796af7fba', '28ed15e5-590d-4022-a8f3-0fa8846a900f', 'node-56', 'd24f2460-28c4-49c4-b1fd-79cc26dd4d80', 'e13132ec-72db-443e-bbbf-d877d6f5d3e9', 'ae818cff-4431-43cd-89b9-a9abaa32d6cb', '6f48db0c-dbe5-434d-a89e-4fc837395883', 'f3d9a91f-d5e4-4765-968d-1958a2efc4a4', '591d450f-fad7-4558-bec9-4254478c3a6f', 'd9ceacd3-3b14-478c-a359-14e6a1b91016', '82b303ec-020a-4d83-b012-43bf08cff533', '0cf3b17e-6d6d-4971-b838-00d8844058c3', '3abbb47b-f544-48cc-b18c-37c4731a3b8b', '97289a5c-f1dd-4968-bdb2-3be67be460cb', 'node-57', 'da5bb26f-8994-4425-b3c1-e54270eaff47', '495df057-94fb-45c3-943c-95b88ac33292', '5048644d-743e-41a5-8ded-ce20754fcce0', '4b2a7b0b-017e-4387-b91a-279b738169b1', '3436d162-057f-423d-9c89-7e73da7e0684', 'e975e916-69f5-4fb7-a180-d0162bb44ee9', '85a79be6-fd87-41b5-990b-0a1b6403a9ca', '8e9763a1-27e2-4ab0-923d-d2e022d06628', '0dfc5456-426d-4b13-b766-f7ba79de4d21', '25c9982e-d2f5-4f47-8bf7-136a34fc2209', 'daa1425c-6719-44e2-a54f-ef32207e195e', 'node-58', '465f89d0-9643-47f3-b370-a7566632ad67', '14b383ef-db3d-4b89-baca-ec13b33b6906', 'ab9b2a91-bd50-402f-ac7c-429d37e77e90', '162c602a-0c21-495e-89a5-b32c1f8ee13c', 'b6b14b3d-8751-4966-993c-be19ef88524a', '49292242-3cd5-4246-a616-8d03f966cc08', '4c22960a-a3d0-4bd0-9529-b347f76d20d4', '82b3236b-ff46-48eb-a92a-9d64af2e9a14', '07f75aa2-9a4c-46fa-b4fd-6c7f570bd62c', '17fa7878-fb35-4ac0-b40e-f8e958c9ac40', 'a9ab3f14-d64a-4947-bd59-9f5e3bfb05eb', '7883a062-e490-4864-820d-0da1b1a433e8', '7f260405-a9fc-4fb2-886d-2854d9b0f186', '262e1b7d-1c25-4ccc-8afe-d26e81965685', '72bbf803-ae8d-4f96-aa2f-a2d6db9bfa6f', 'node-59', 'd9f37eca-acf2-425d-b733-fc4cd3af3421', 'f30924e8-b436-453c-a500-4f589b1dcabc', '5c9a4020-021d-44f1-8fed-33bcf6735bfa', '7ae92156-cfad-41a4-9685-0b8d810dda49', '5e9cfd83-1834-42a0-b56b-346bf3a937b9', 'ca69ec5a-d59c-40ab-9e59-7307ee51f43b', '3766a64a-feee-4754-bb32-9dfd096181ed', '7d3502d7-e233-4135-9df7-7b602f18fe04', 'node-60', '0038fbab-6d22-49db-aa34-3a39d70afa51', '3a1d21a2-b0de-45db-a5cd-ceb9003fa926', '503b8c75-ccf2-4c52-b72d-793df5fd467e', 'e763f704-ee87-4a62-8781-cd4b59b50433', 'f51b54e7-2397-41cd-bc5d-04a7d003c9d7', 'b0294469-569a-4a9e-9412-0c740ef1ad7b', '3c129ea8-5677-460b-9425-c5fa6a2a64fc', '19dc3695-fffd-4368-8106-62ebec28f938', 'e7760828-f5a9-4430-8e12-3164b955ee15', '2ab70838-f02f-4d7a-89e4-a661f271dbe4', '886240a3-1538-49a3-a41e-7ccc30065eb5', '955863c7-dbf8-4a00-8708-66580d058316', '7836c3d3-c78c-492e-ad76-604b878b7cf2', 'fd97ddb6-98fe-4919-801d-53c213ca05f6', 'a5aea9d5-bcac-402c-819b-75e21118d3c5', '38faa506-fbfe-4b39-b46b-9c91915a2cc5', 'node-61', 'c28e82da-577d-430f-87dc-2e79b32e9e33', '4fe77935-fe02-429d-a6d8-01ccff23d147', 'ee20952b-f8c5-47a9-8acc-a6a1784d4563', 'c1140bee-f067-4882-be10-82a5260321f6', '13b4ad85-2dfe-4b9e-9686-9d4aa4fcc06c', 'd5570790-0794-47b3-b8dc-08362eafd79f', 'bf74ba68-aae3-45cf-a3c8-e6dc1bcc1d77', '26071176-9055-4166-ac85-5402d85ea940', 'e4995fdd-dde7-4b5c-8209-16bed9233821', '2fbbb052-7b79-4baf-b444-a180b6b3a585', '1090488e-eed7-4076-a8ee-c9723f403b65', 'a25903d1-ba39-4247-8a83-7d6ee3b6b9f2', 'node-62', 'c09cb2a3-f9e8-439a-82e7-a64b1d781345', 'd42a247a-5606-47c5-9a14-014cdf108149', '9abdadc6-9568-4555-80fe-1e46972a6a2b', '4d0e74e5-ab59-4642-978f-cc7f5065bca3', 'ce2ff087-3823-411a-9833-9e19a43afbe3', '5948dc05-2237-40f6-ae70-5bda4be4765f', 'a973861d-2a50-49f9-a852-d770c00ecf71', 'f9d2977a-db84-4233-a49b-af967769dcc7', '7787753b-efcf-4fe7-8096-b884707e8180', '3f8c5ce6-021d-4186-80e0-be9b192af22b', 'node-63', 'b7a8c907-00af-44c5-9713-fec801c9401f', 'e32de91e-78eb-4fc6-89bb-adedb3c809b4', '692a0677-b048-498b-9d33-dc8fa42d5b6e', '2dcf394b-9fb7-473e-97e5-4780da23270d', '9cd164b8-245f-46c0-a2dd-218187aeffff', 'f955cd5b-691e-4b38-b4de-1a3a35a31a92', '8e779d9d-d281-4958-b4fb-f6b8e334bfe9', '17c01207-0411-4bb7-831f-e8ea2362675d', '6b7cf278-d751-4f21-a4a1-efa7e0c8b485', '051de6b9-5787-4a51-9c04-c59b428fd62a', 'a237f5b7-e66b-43d5-8cee-acae2ca5d507', '3fd358df-12e3-4a7e-9e09-6ed2ff7c3a9c', '16004cd7-d769-43a7-94b6-809e691ec3d0', 'e01948bd-b7c9-41c4-ac84-4c0c38ec6d38', 'node-64', 'e5d85111-4502-400a-9c0d-d8d3169cd0c2', '3adc85b1-224f-47b7-a0fb-535676634d76', '79698300-cc23-4f27-83a3-7e817e12aefb', '3397bc7e-583b-4920-98fa-1c46832fbf65', '242dc082-f016-49f7-b66b-8de9af1a6840', 'b9765b36-3815-4cb6-abec-932d4566ebef', 'd5d964cf-858b-4950-a16a-c9025966421a', 'b67c594d-772d-4cee-9432-b43323815a81', '299bed61-f1de-45bd-8360-81649321b962', 'a9a53112-cf23-4bbd-9302-a97251d14052', '10f7715b-9b9c-45da-b427-88417c7a92a0', 'node-65', '3922d768-273c-4f8d-a84c-0fa55179f79b', 'faf466e1-2196-458d-9784-1486c2752bf9', 'c606d7f1-c290-4ecf-8c86-1252c0badd57', 'f0543940-f2ac-43b4-85ec-1df8c8ca6574', '4da3fe9b-f7fe-4ddf-8df9-51bb60f2060b', '0bdf17b6-a01f-4b00-82e7-ad96717b32e8', '69292404-cf50-4bb0-9e2d-5c28ab13a95e', '19d252f6-c4a8-49d0-8ed1-dd5d537e92b9', 'e43e2386-280f-4cf5-8d88-8a573bb43b4c', 'e22a74e7-06f0-49d9-8db0-37758c5ee027', 'node-66', 'da6393ba-a11f-4008-8e72-b5879092955c', '66d4e342-2589-4633-9be1-8ef77da54712', '9264c93f-ccd0-4868-9e94-ef7bc5e3a7a4', '65dcadcf-16ed-4383-bf9d-167c1795e307', '0ab86b05-d920-4ea9-ad47-30b3752e5803', 'f740d56b-5f06-4508-a518-770a15ad4b91', '6773fc7d-91b0-4b89-8502-e6f180c4e389', 'node-67', '33e2acff-a083-480a-b7c1-47b40057f71b', '0207c183-35be-4201-80e8-434651d779d2', '8cd5fc50-3151-4221-a581-5277b0d288af', 'b02d2c14-57bd-4c1a-98be-ed424561ff32', '8de3426d-7f3c-42b1-829e-d01bf421a102', 'f1ace989-ea40-402f-83fa-51720006f73f', '15dc8c64-64e2-4664-9d53-c5625357ce9d', 'c50b067f-2f19-4fcc-8ed1-83f1b8fd57f0', '5ae52e44-908d-4850-b932-f452b52107d0', 'd0e70bb1-3dc1-41ca-9780-ab041ccb2a8b', '0d68e0d7-fb6b-4f26-af05-c63322bc5f01', '1e08613c-71cc-4047-8257-8bb842fa28a0', '7cd2901e-7593-4255-ac79-91670695260d', '28ba713b-24bd-426b-94e6-557c44e5bf9f', 'd2265a46-4ab4-4992-8386-851406987f2c', 'node-68', '715f8cf5-6632-4514-a591-4187f29010cf', '021a0537-8886-4141-a326-823a8a22900a', 'a3602f3d-1e5a-46d8-98db-df4dd063c092', '07114e17-2cf9-4127-981b-5b9d0f7e6df8', 'a5c3078d-1a73-4aaa-8135-8ed6e9b4e60a', '83f68bf9-f379-4b8f-a7d8-c71b0daac5d9', '4f329a17-1707-4201-b906-5dc3f696ce6c', '759c09b5-1f2e-445c-b166-3c3d91b8f9ff', '6d63ae78-7922-4c25-bbe2-3118471c21c1', 'c6ef718a-e970-44a4-ac1e-9f1732378fee', 'ad94399e-d045-4e02-aed9-2c709eabfa99', '680353f9-63cc-45ee-bb63-95137307dccd', 'node-69', 'dac02047-84f6-42a9-b7d2-03b6d6d51cba', '511b4d28-80f6-4eeb-b7b4-bedfb15aecb6', '3cc5c89d-074e-41eb-83c9-0572d47d052f', '49cb65bb-04ac-45d7-86b1-4c988ef3ead5', 'ca101c1a-1888-4dd8-922d-5921a2cdf176', 'ebe66ceb-347c-4e61-807a-218fd1870e1d', 'f23c4ccf-8489-4fea-be79-4a69ee1bef3d', 'node-70', '527b96cf-ecd9-4008-ab17-0f5013f6cf79', 'fd47cc06-c7ae-4162-a2bb-2164ec9f7293', '2f0b7053-4776-40c7-ac96-1ae2245f5ace', 'f22ca60f-1d4a-4115-a7eb-52dbe1c315a8', 'e10dab81-7cf3-4457-9234-f497145ddb63', '926aff2e-fc7e-4080-b72b-e15c314ab72b', '1af9034d-b1f9-4194-9f2a-a20f255764c0', '53b73c37-0c5f-4b4d-a223-a14eaeba7c69', 'e5ce691f-70b2-4ed2-9849-17ddf50fc8bd', '168b3382-f507-40c3-adf0-cab55c3c36d3', 'af6213fa-b43e-4d69-b965-fa691ba930f3', '7853b1e6-3a77-44d6-bd84-e9bfb21588a9', 'node-71', '24c9ee9b-d0e2-41ba-ad3b-00e68fbc68b1', '72d8eacc-4236-4eae-ae37-a8aa810bb186', 'ee8b9c40-4264-4bc2-9e0d-db66a87a3bc0', '452ac63f-6fb1-4f21-8343-ef810c3da618', '8812faae-511f-49ab-be04-b675f3afdd47', '1fd5d150-ae3f-497b-b8f5-eaa4b7112c42', '3cc3a18b-bb04-44f7-ba58-8a8ef6385a02', '5a434daf-5c55-4ed8-b42f-511c88f5d28e', 'e5e8cbeb-afc5-4b9b-82e7-5aca51e5897f', '3224ea55-3f32-41fa-9cf4-3a9c0cc8d0c9', 'ded90852-5aa8-413f-9859-a219d8b2d3ca', 'node-72', 'bc213496-ae05-44ba-9abf-279c454dc171', 'd8e5b836-7c99-45d1-9787-cec887020346', 'de0ce5c9-34ed-4fe4-8336-049754260264', '5d255136-4348-41c2-b95b-008f47dfecbd', 'eb0d4ec1-e5f0-4c41-9dfd-90b429983b5b', '18bdc961-c6b8-44d1-ba98-f68bc37e25d0', '9daee8b1-f159-4003-99cf-d45a8858c6a9', 'fe672ad0-38e1-479a-8538-8fd6529b46ec', 'ae952a38-9925-4b68-8cee-42a21bf3a573', '4272159d-b411-47ae-9592-c73535ea8eea', 'eb6f7bf8-40c1-467b-b1cd-2cf09e290728', '5751e956-2516-4bd6-aae4-8c451607ef77', 'node-73', '00074ab8-840e-417e-9d5d-03a7e3affb94', 'ae355f36-a8a4-435b-8b36-01df9c6891b5', 'e9c0dc8d-8ce5-4412-a804-07bd7d9ea8d3', '2fdb3252-b577-4af2-b7c2-bea6577b2d23', 'f28c3fe7-9d03-4c73-9f88-6b9323cc504e', 'c1ef4eb0-0369-4ee1-b7d1-1d6777c0ddb7', '33754be8-ccab-4f04-8059-ad5badcfdd98', 'e8069147-fe01-4fe4-8419-cf0f0ba1dafc', '05294fc4-a568-4c45-8d86-3a3c740fd228', '03469c85-7774-4e0d-a3ee-c8060a43420b', 'e38a401e-547a-4382-b4df-62fabe0d11a2', 'cd1b901f-1572-4179-8008-c78290bf6cf3', 'node-74', '66060c87-ae8b-4a54-9978-70f63b058bf3', '5d42a485-2421-419a-9804-9ed4e3e829cb', '7e8f6deb-a147-4195-a046-08d2cc655cce', '64345c9d-4c87-4f00-914b-ea7cd0137501', '05d238dc-234e-4c6e-b308-6d9bdbdd560f', '95b58006-b16e-42ae-955c-acad3db06a19', 'a55f4cb8-44a2-4ce5-97ef-9b962c36b0cd', '9f2b4825-4d2a-4439-a914-6bc4c6de6422', '2bc2210d-8975-487e-89b0-dc78208e6d3f', '98f2e1b1-4268-4929-9a26-adf8d130e308', '1e657048-b5e7-4aab-bc6c-f97a05547b3d', 'ce31b4bb-299e-4df1-b12b-7a2d6bc6726b', 'node-75', 'f9c5f78a-9d7e-434b-bc8c-a58024260151', 'dcf6e591-3cf0-4129-a745-be4f961ce96f', '13aa7945-6a83-49c4-a393-5f57bffcd626', '2195e4d8-0c09-489d-aec6-ec74f16edfbc', 'd29fd871-2a23-4555-9d13-5b38be34a585', '269bac7b-b088-4b40-a367-4c869093b493', '5efac0cc-b01e-4d3c-a5af-37fda5d0bc9b', '52a27f71-157a-4d18-b121-86d26e70df7c', '32a37c8b-2072-4082-a888-06f7d8b3645a', '21a03a26-3be6-470f-8079-a9f34f175039', '51cbfb40-f1a8-44f6-a19a-0eaad326ff16', 'node-76', '794a9942-652b-42a6-88a0-078803f11c44', '023964fe-9588-487a-959d-5eae6bf2c95f', '27e96f7d-2f57-4ba9-9884-9de6d284d319', '712c7223-8400-4519-a7f3-06c261a4ec28', 'c2d70141-0546-4635-a2b8-b3b006acc3c7', '0970c2bf-2b8d-4942-95ed-0248ed832353', '36bd52bb-f0da-461a-b385-ad3cda0d0feb', '27da4bdf-6025-45fb-86cd-e595afe381c7', 'a7406b1b-d0f0-44ea-bdb2-953e621d4b5c', 'a6a9ba0c-c8d9-4482-ae04-7b9c6ad32f83', 'dffe35e1-dec0-4fdf-bc86-e11fbde335fa', '29781645-7851-4ef9-9a06-fbdb72a0f382', 'b0244ba6-9440-4f17-8d3d-15c16f4378eb', 'node-77', 'ced8d395-29e2-4ca0-b859-3dafc667b24a', 'ee525b58-d2b1-4776-8211-ec4a33fc326b', '561d8264-6f6c-4dce-8f07-2db161ca0839', 'f6fb7757-9c8d-4273-acaa-1406c1c8763f', '39d69b5d-062b-45dc-a2ea-4efd1cc3ca3c', '15fc1806-f365-4899-bcc2-f8525e1bcea8', 'fbf33553-c687-46c3-907f-5d78d1027e31', 'c017ca81-759e-4445-aea9-0800a90a47c7', 'f352c3d4-ba7f-4be4-8ebd-9db749b5e304', '369b67f3-e96b-4ad2-b082-8dadf39d02ed', '278ff28b-c455-482b-b8d8-268407d3fd24', 'node-78', 'd361be81-56f7-4853-9245-6351e7e70f85', '6fd93ea4-e39d-46af-a8a0-57c89c434d8f', '7fd44328-d1b5-4581-9b7d-9e82db897d1d', '598bb023-a4a5-403d-b89d-6f0ffc90c93a', '167edfdd-54d9-4dd5-90b2-db92528d1bf2', 'b47607e5-c52e-4e12-87de-232085144a7d', '40c27371-d50c-446f-a419-fa6f0c01e396', 'bbde782d-2a9b-40ec-926c-61fd085e4607', '11cbfa77-3753-4f11-b450-6bb433140c6c', '4f391ade-8477-48bc-aa4e-a6b09db7d87a', '419152e1-b9d7-4048-a65a-736ddaf74d2b', 'd61ce65e-69d7-4421-b964-fd1dbd18be0a', '92512e40-ef0a-4121-96dc-30fe949099d9', 'node-79', 'd44ffa71-92da-44a2-a393-460fbf04d590', 'd8d7e580-71f5-4c5d-b9f2-4f56e6adcb4a', '25e1e591-fa73-4a53-a327-8b8921e912d0', '76a8f37f-d46e-4771-b2e0-c2cea021145e', '211b1859-2fd9-47b6-9755-126c9c6028c4', 'c36e403f-0edb-46f2-bdc6-78490eef4492', '527f7c88-55d2-4d0e-9505-c14bf07cb933', '47e107ec-27a2-41fb-bfc5-ca1d904fffb2', '3f2d6901-3a2b-48bd-a2cd-a5bf63c59eed', 'a31b0074-2190-4767-98f5-fbe2d03e64bc', 'node-80', 'ab1fea98-c4f4-4998-973d-19c7fd2fdaa0', 'dbf0658a-244d-4553-9306-d25a7382d2bc', 'cc6f4aab-b522-43ba-a290-a038e75087ec', '846f26b5-2650-45a1-b534-fb1c8c8afea4', 'afcddb04-1547-48f4-b170-30f3ed114951', '529116eb-2083-44d9-ba02-71cc18cf9189', '9705aded-0a1e-4373-ad86-bd2704f26f92', 'node-81', 'aedd97f2-050f-4c0b-b89c-e8695b1f1cfe', '3a8e4be6-9857-4cfa-a55b-2ce547c4dee5', 'f5562709-fdf9-403f-a38f-e818545dc259', 'f2cb3ea8-fb5e-45c2-a72c-96334eba724f', 'e47dc61f-4157-4f35-b29e-32b461513aa9', 'be583b6c-c83a-4dba-be9a-9386da58d338', 'a378214b-8527-488d-bfc8-18d2e74b2459', '63ada94a-63ca-495e-8b46-6bfcb34d966c', '7bbe4fad-cc27-4c3c-a8f9-aaff0a97c1ef', '5e614811-2e01-4148-a9d8-c62d30d8028b', '78cabe78-b7f5-4e83-a274-7b382c26bbdf', '5e314b6b-21fe-440b-a593-f04c305f05dc', 'fab28f7a-5415-4f24-927b-2e94360157ae', 'node-82', '71d5a29d-ab20-4e0a-b861-f672e58ba094', '529ae10f-de2a-46c3-9017-e65986fc205f', '193980dd-bba9-442e-995d-66dbbf6e869c', 'a3a0982a-8a08-4662-bd6b-ac8db69849d1', '53e129ff-026a-43be-88d7-49619c6666df', 'd96a93d3-65c5-4596-ae34-3883c462b409', 'a317ae0e-2512-46b9-bc9f-54f1c787c200', '9eea3a18-11c8-47ba-a6bf-1dd9a207e2e6', '8131a0a8-259f-46e6-bda1-69ecb2349573', '1c499042-c45d-42df-98e5-ea2e1e9f2a45', '976dcd32-98f5-481c-9745-08f69da24a3c', '395266ab-956a-400a-bc7b-09d1fc0a901a', 'node-83', 'dade07ac-2db1-440e-8157-f713d9e315db', '21c9b6de-0142-447d-a3f3-4e72c6f08dc5', '517eb769-96b2-4ab2-a922-15e6d874cb65', 'ad2939de-83aa-458d-bc91-6c8fb1954ded', 'ba533b38-aba2-467e-8104-c69696b75f71', '90114cc9-0dfa-4991-98f1-267c7d3ed969', '0dc9dcd5-e164-4e44-b666-a507269df347', '195a1257-405e-472c-9f76-6a150cef03fd', '4f6f4e1a-bd0a-4ea1-95a0-00b8e5fd750f', '7d8f9652-a460-443e-acc7-010ef5b04cf0', '6cd504d6-6c6e-4bb7-b8f1-29069c5e2ce4', '6903cb2a-09f6-488f-a695-7bb5dbb96eab', '9f6f5654-e88d-47cb-bea0-816d9942f21a', '646d0d85-ef08-4330-baf4-8b48c5eef580', 'node-84', 'c763c376-cf4d-4ef7-88f7-fee707ff3d83', '70cd3d79-b631-45df-bc14-c68d82d92006', '3db739e7-97d2-4608-b5e7-113089cda405', '2994b29e-1e89-4456-879d-2f69c4514edf', '1bd630f7-2111-4e2e-b372-eea7a741acfd', '0f70b721-e390-4c3d-8307-4afeb7487949', '38def1d8-e97a-4671-aac2-40051f88b194', 'node-85', '603c12ce-65ee-49f6-a304-5c1666f71eb8', 'f382f409-9c7a-444b-a7b2-653697e08502', 'e6b84fd7-8964-4d4b-aa60-24671d238627', '1ac4ff90-ca9d-4bba-8aba-98e82818b84c', '45f4b22a-0e09-453e-86e1-549ce96d53c8', '9e2831d2-ac5b-4fd4-8830-2b3af34db172', 'a208e223-29b5-49cb-9bfb-20d389fe80a1', '67a74fc1-498c-48a5-9339-35deb13f694e', '48b6dfe6-a803-4e33-babc-ebdb49b9fafa', 'e2a918f5-630d-4f7e-8def-4c6ee9c5b3fc', 'b9988693-bd0c-4a4d-a658-8f9bcc51f028', 'da201f62-f4d8-4a45-981b-1b78792ca45e', 'f6dd0a68-fcf9-48a2-b59c-e784705439f4', '85a2eb42-2d2b-40e8-825b-b4e262854f4f', 'node-86', '76b579b7-40b4-4d55-86c4-c61b03afcee8', '9e69e2b9-f612-4b1e-9676-709460b54447', '3496c6e3-44af-4a33-b7f0-9ba3dc0a994f', '27770c5e-cd92-4303-b4c4-de96536b4936', 'd4bc25bc-ea72-406e-818a-e07c61603c58', '384097b4-505d-4a96-9f78-b27ec3b6bec6', '654be02f-e5c5-451a-b96b-f21f7f977f67', '9c013197-7907-41f8-8e12-1f71228b78c7', '2c8d59c8-4a09-49ab-9eec-774501cf717f', '77b67137-7dc6-4284-a747-b1d79b66a8b1', 'node-87', 'dfecda70-028d-4ecf-a5bd-f08194b6fcee', '08740e26-c255-46e1-b6f8-b1e2797f62c1', '770de229-6f98-4c18-8535-d566509e748c', 'd77ae899-f644-4680-9b5c-17c8da69ab8a', '509078e2-2fb6-4e1d-9984-725e19602dac', 'b880d7ae-5833-4de6-9cb6-0fdc2f4a0493', 'd0bd1351-6d51-4361-8867-0025c5d4c94e', '0bc57f62-3bd7-4d0b-94e3-405eb06634f6', 'node-88', 'f38a9a86-204b-4e67-97fe-d926892a4d23', '2c5cb0d0-7a5f-4f8a-9340-52b5b3a1b634', 'e51b1572-a58e-4fb5-974d-8096ec16d119', 'efe590dd-d5bb-4f96-ab4b-c9661285372a', '9bdcfe9d-9a73-46f7-8fc9-2bbf30076dc0', 'b4983608-0548-4ca3-92c9-784442a589b5', 'e909e3ed-1ceb-4cda-a7f7-dedce1fd9cbe', '6e0f4834-1cee-447a-95dc-13a4cd5fe1ac', '8518d987-7586-42ed-8c49-0a050eabcadb', 'cd39b7f4-38c6-4ac6-889b-f632ccd1dc51', '6bff27c9-ddde-46b2-88cf-c88d3848e2a9', 'node-89', 'd4b4b6b0-a4ec-437b-8192-85571ef31105', 'ede5b4ee-3708-4ac3-9e28-7ef8ea6213f8', 'e5febafa-254d-4a6a-9d75-af85cebb3cfa', '434a7ef0-fa3f-4c21-a966-a150de85a0e5', 'bd228d8e-ee29-4d1c-955a-9e7efe935b8d', '89be755b-cc38-4022-83be-195b49502fab', '1dfe1c22-e818-4b8c-b2a1-93e3ef192676', '87eb601c-2865-461b-bdcb-a26b8cb58d9d', 'node-90', '1298e4d6-0f9b-4917-9f35-0c4aa751be5c', '95135215-8f90-4af6-b2d0-3bad953f16e2', 'bba2c93b-cd81-4d01-97c0-729eb2a58df2', '66bd4c8f-c39c-477b-adc3-210a43b6b30b', '0a12bbc7-fe53-4bcd-b625-ceaa59969844', 'a6e3291c-fd25-4f73-8840-b7fa56ec2c0b', 'fc2a6e7c-6a0d-4afd-b32d-5c21e2d99759', '2f8d7395-7f17-448b-ac22-a58719c6375c', '4b292664-376b-477e-b2fb-d593d98458e2', '6d807d3b-e4c1-4a54-b3c6-61304fd8bf85', '422883ff-f07a-4614-8fd0-ffd32fb5de90', 'bf3940ad-43a9-4b50-8a19-3c85404215d2', '54900af3-d82c-44a7-80ef-aa76ac6d40a9', '2bef07a5-fa24-4108-80c4-a2b367bb20bb', 'node-91', 'd0ab4eb6-6a0f-4ddd-ade7-43e80910d2ed', 'b1d6ae58-ea68-40e8-b45d-3e1ea562a3f1', '01a183f7-038a-4791-9519-b39a8fed418a', '8f576f80-065a-4ad3-be4b-9569ca8781a2', '013a43ac-610b-48b0-82c9-3f3a1c57606d', '876622a0-4211-445b-9f6c-f798a74d7955', '9a9ddf5a-0ce1-47cc-8867-a9c09665317e', '5ba0a559-d81b-4422-8f9e-9559129fcce2', '933b4bc3-a7d3-47e9-87f8-f928a9296f5a', 'node-92', '9d4e99b9-c31e-49b0-9efe-a4ce4e9691cd', '7919adf3-3a1b-494f-bc1e-d2d2383a653f', '14ba8d30-df75-444f-8354-1c5975a945a4', '1b9dfe30-fcbd-49f0-9397-e08301393cd8', '7a7a438c-9c4c-41cb-b73b-c2a44bd0deee', '4a4323ad-bf31-44a4-a668-b438dbeeec96', '4b149727-56b8-4ec7-b811-6e8f9630bd69', '3e0bb07d-f560-4aed-9905-3626039e1a53', 'node-93', '01a8acc7-4dde-4864-a9f1-9835ccdd34ce', 'f8a4d0eb-a807-4180-9412-8d69fcd4330c', 'e503ee76-c7f9-438e-ac72-269445270bf0', 'daf3ab6f-918a-491a-876c-1c1734f9d47f', 'bbcfab92-ef6f-408f-9f08-919c3d45d1a1', 'c6e38c2e-f891-4df8-aedf-e3135d543c36', '777cb9d9-2a59-4cf5-982b-931788903648', 'd709f0ff-2a0c-4f2c-902f-7584f4abd5ad', '1ec4f6a5-f03a-4478-9da2-829cfbbc506a', '23adc37c-f2ca-4f49-a5cb-f75d30f18edc', 'd5c20456-1ab6-4fe7-8ba7-97e0b2731b4d', 'node-94', 'a01ac164-569a-4a98-812b-b6b9533c3aa4', 'c6d14f53-bbdb-4b4c-9c0e-adc473e73944', '7e2f8b33-bb08-4ae8-ba90-cdb5ecf9767d', '6a3fdd26-0562-4fbd-8896-fdc26dbfc96d', '9c162b4f-db3c-4a6f-b67e-77d801f1a291', '64a224a1-fb84-40bf-813a-7b9f1333d753', 'b20251f7-48b9-4446-ab1b-87902f30d21f', '96c880c2-c1fb-4d28-ba3c-4c1cdabc8729', 'ab830d3a-8876-4873-a063-4e453fbdddc9', 'dd2dcd15-e94c-46c9-8fd0-000e29106152', '8dca0883-0db0-4538-81fa-76c1255573d1', '9851154f-779e-4e15-b4c5-08181176ae71', '01feac04-5ddf-4929-85fb-7f3ded4d4eb7', 'd56c91c4-1e62-48f4-9f1c-edf8613b0f08', 'dc7a7ffe-03d4-4dbf-b0a2-2be0959872f8', 'node-95', '5f5d4bb5-f51d-4e3c-94f1-b90273a4b44f', '108635e4-1041-4c33-a6ae-be89716d197c', '90bddca4-f270-44e8-ac7b-eaa5569e3ad0', 'b79bf818-c85d-4b2d-873b-bc81ab282c17', '9d2c649d-0cea-44b8-888d-e147bcf36086', '4733f4da-5c26-4e71-b626-b506c666ee3d', 'fb2301e1-fbe9-4fa5-82ef-bf8d2b1d389a', '7415226a-5569-4dc3-b443-30cc88fa59a3', '4d75cb2a-e831-4465-af03-36c27456731b', '2434e799-636d-4ac3-a7bf-6a2a3ecbf4bc', 'c1469a61-a471-4acc-8fd1-f4cdc5ba3dcf', '0caa9c69-3d86-4227-8451-991eb57e1c7a', '89dad31b-d463-416f-bdee-dc4066040ba6', 'cb0c4f92-8364-4517-a528-fcd0d227e7c0', '06b83991-9f05-4c10-9237-a262d7d560fd', 'node-96', '6b81666b-addb-4ac3-94aa-34d7c5fd97da', 'b8dd58b2-be1c-49b7-860f-4a39d3192875', '555cf453-1b04-4f56-9b5f-cc78cd4f202b', '0f676424-951d-4154-8cf2-476d5cc91092', 'd962d346-c393-44cd-a6d3-eba4d353fd4d', 'e8aeea13-9b23-4ec9-9642-59adfc848382', '47317967-4ae1-4227-9551-c6b947695bf6', 'ea74455f-b32a-4a0e-8b69-2f44439b8af7', 'fcebe692-e229-43fe-b88e-ccfa4499a753', '1c4d1730-4a89-4f95-a4a4-882862e66afd', 'c935dd52-7748-42f7-ab47-b85ef053f7f4', '5883e867-70c0-491b-85da-10be95f46344', 'node-97', '418f22cf-e015-4059-adb1-3c22a86ae11d', 'a0ad1ad4-08f4-4154-aa7d-333c7b161fc2', '67631017-3b3c-4cd0-b594-2683652a1a82', '3c27ae51-5211-4e7f-8433-5d8cc4165cb3', 'b5467fa4-5d0e-4542-905f-5d5f0827b096', 'e7bdc740-f924-41f1-90a5-4eda083ec746', '9c091012-9354-4be7-9bf6-c41a11069400', '5b949ee5-d20e-4dd3-a4a0-6ab7d562c012', 'ed66cac6-27ac-4d04-bbac-92bc28e89da1', '3739e578-f776-4ee5-8909-2a5ce2626648', 'b7140b15-54f9-4013-8433-054759321057', 'node-98', 'bbf70cf2-f3b1-4879-a125-8da7b475f0bc', '8c8c49bc-7ff0-4549-9f2c-d9b84d70e0cf', 'c5f35b55-551e-41df-9a11-fbf7b7efa3d3', 'd14cb0b8-a6e6-4726-8f3d-25b33eb981c3', '87e30294-0fa2-43fe-9f30-c854e96cd8e2', '6a349e74-ec0c-4db3-8e81-da5fa4e080a6', '4c18ee5e-a33b-475d-ae42-6679abe4e161', '0f69bcf5-53b1-4204-bbec-60489b2fdcb5', 'd83e09f1-f60c-47e0-b7a8-132de009e1b5', '5d6bdea6-a58d-4b92-b0d3-d9b7aabfc59f', '37b6113c-e605-4d74-9668-7e164f13e8c0', '58446f31-33db-4c93-8644-deb1ccba9ee0', 'node-99', 'e2d28f02-0161-45b1-b9cf-beaed4c05e4f', '275537fe-778f-4394-9af2-027b6dc0f4d6', 'f0a12b75-b724-4730-b49a-0dd2b0e12f51', '7e946585-ca9f-4e19-9900-1206f85d30a7', '223948b4-838f-4ab1-9b23-444645dfdb0b', '1fa59c26-79f1-4fc4-9570-82e8af73887e', 'fa9a90a3-fa32-4286-a642-eee26e2c3508', 'e027da3e-d749-45c5-85ed-af7f5a130efd', '6aecee6c-12d1-406c-bba5-2852e9993a78', '0249c1f5-b2de-4351-85f4-216f87a56c76', '407aa6d0-9cde-4960-856d-052b6c6582ac', 'node-100', 'cf59d69b-3f04-4428-a21b-4b05cacc5ec7', 'ce563d4d-7181-458a-84be-156aa8a576df', '7c919554-1a89-4e7e-b99c-0c4d9fc109f3', 'aefa7a75-ef00-439b-8f60-1b908da1dee1', '7c7e25a2-b588-4a49-bce0-d17d8a9a9f05', '74366a89-1e2c-428d-9b83-81317139548f', 'cd4bdeaa-c6f3-435b-afe4-ffab7b9c2ee5', '7be17163-4895-44bb-8c04-5585bb4546e5', '37caa5c5-4ef7-403c-9ced-ad0c40e27843', '0a491132-abab-499d-babc-ab6ba40f15a3', 'node-101', '1e5efdb0-aba4-47b8-b455-9a122c1c4862', 'd762cf8c-8e92-46ac-a9ee-b69850aeb3e3', '497b6e78-621a-450f-835a-a410d97f3654', 'f68fb4fc-6cd5-4a7a-bd97-021d8bb04927', 'b7d90fc4-a799-4ffb-8fe9-66bcd7f691c1', '341d6165-69b6-4433-9548-c236ebccf4c8', 'abfc39fd-83c5-4ba9-b112-17a417debd0d', '52408557-46db-41e4-bc30-87c2b71281d1', '677d049a-0ade-41c7-b07c-596bc44ca826', 'f37f0176-596c-4f8e-b735-199c53fc37ac', '9d99aa09-ed58-46a9-9b8e-2a532a989ed2', '8ac2a094-d049-4bd1-b800-aaa28dca309a', 'd1d4291e-dcca-4040-808c-a260a0828d44', 'node-102', '7d196d47-c911-4445-87f5-5332e1d40985', 'f96ccc72-1ae5-424c-882f-b44fa711e0c5', '71c94641-ce98-489d-a50f-b4ba4217199f', 'a34944de-af46-4153-bfd6-cd03259bfe02', 'fa33b873-17fd-4b4a-8eb1-f48b38fd9618', 'aa28e270-6335-4491-af52-edf2acaf9ba2', 'dafd7f65-b27e-4691-b6ff-9b49157b974e', 'f188cf6d-cabe-4a20-b4ef-1d2f2c88e9c1', 'b7ebca77-17c5-4f85-b935-f0022e0ffb5d', '5b514b67-e0c3-4c10-ae4b-610f46580e1e', 'fd6dc518-f6f0-4083-9a90-a52fc057f7b5', 'b3e4aef6-1407-4414-8865-adcf992fd3dd', '81a93203-cfb7-44cf-b4d8-eec9a6478aeb', '14deae90-18e3-4159-b647-8afa2b3078bc', 'ae179b94-41dc-4e68-8510-a47ff47d3ce8', 'node-103', '3f559499-9212-42a4-9d3e-6c8aec9aaf18', '924924a9-e4ca-4504-8345-e9a519d1b48b', '9336f231-861b-45a2-86f8-89b47197b7a2', '180bb178-7e74-42c7-adb8-c696a94d60d2', '046fc773-3490-42f7-8c60-b65226e7fbcc', 'be342987-fb55-4897-9d32-d3773ca6eb26', '9c120769-1434-4f6d-96a4-2d7b116859c5', '871cffc0-8ab9-4935-8dda-782c98310288', '469257bb-a0c4-4ed9-a064-b8a446085872', '4bd74489-8ed1-4378-a96a-a579992d8aef', '615b9208-21a2-4af4-9bb4-55b7e6a8178e', 'node-104', '704b752f-3850-47c7-b3a1-b79119a80ce7', '49eeec53-7b0c-4596-9b0a-3052314ba417', 'ab9ef06e-e168-4439-88c8-eb0e3446ad38', 'ea9bedab-abaf-4d80-9856-af82e5278da5', 'c09998e9-e2c7-459d-a3ff-bcc3d929e971', 'ec8a275b-ebbf-4f93-93bb-1783418941dc', '46bb4f75-ab33-4837-87bc-e813ba23d41f', '00746d9a-3a92-46b4-9b9b-2df6775031be', '8e31eb69-1a25-40cd-be1b-28d256e82e3a', '82b1624f-350d-4483-b48d-3688289b7f06', 'f28209fb-2c5e-47b9-9c34-2c19eff872b1', '4ccc4bc9-d236-4ca9-ab2a-61365a4b1456', '306a33bb-06e2-4d73-b55c-bf2ff104e6fb', '4fb03740-17ac-4fa2-9b36-b4e41464872f', 'a6f71b59-0b15-48b3-ab77-3c1e8cf5b4a8', 'af7dc6fa-03ae-4b84-a2cf-1bf4b8680bb5', 'be6e9513-8594-4672-813c-763677ab3561', 'node-105', '45c470d8-11c3-4b25-9bd7-a16f3ab79a72', 'fca39a9a-e9e1-44ce-98b8-b26a127fb1a8', 'f67ade53-6101-4101-80a9-5ad5ebecc867', 'bc4db248-2d69-42c5-ae88-7c01b75849ba', '1b80111f-0bcd-4164-96c1-30244fd55e53', 'efae881b-a664-498a-a9da-89473cc23b00', '1f0591a0-76fd-4b1d-8b41-9422c1e019eb', '19a17a78-4032-47d7-9fc7-17a29a818558', 'd63121b7-0bb8-4ed6-8fdb-987c5a29a088', '3b9e19c9-3887-4fcf-9c0d-2ac215cac760', 'node-106', '833eeba3-b4c1-4f28-8197-db02390f2cda', 'dc34b174-e89c-456a-a9da-e5a5fff0074e', '87b194fe-34ea-4f6e-afcd-f78941c6b0d8', '4e730797-0a11-4f7b-8d8e-7ce97d012407', 'abad59d4-b487-4d46-8d7b-125a7520c6a9', '58d4c4c0-54e3-4f8f-9a73-d535a732231d', 'a4eb7721-22c2-49b9-b861-f791e7a9a021', '894d8d3a-a4ff-478f-8b13-f7ee4d2f2e9a', 'cc034d60-1711-41c0-91c1-41ddaa8da662', 'node-107', '51818fe3-345c-4710-abc2-5a685ad147b1', 'dfedebb8-e32e-4e2a-a916-f33f50da1360', '7f32e6bf-035e-4b11-9540-370d758bf3f5', 'fa277e0a-dabe-42fc-8eb4-57e23f0dce25', 'dce6dacb-4e74-438f-bbc5-481c3550117b', '235f29c5-cfaa-4e62-9110-4bd51853ffec', '3ce8557b-f601-4178-8e22-b5652133504b', 'b97e29dd-b3e9-4c28-b88d-b50aad0347c6', '1a33d7cc-2da9-415c-b7b3-d3201d561ceb', 'node-108', '2450fa7f-970c-48ae-b769-ce25fcfb5691', '56cec18d-e6a2-4e08-91ef-b3f894e48358', '150cc6ad-a197-4093-9c68-f9e2abd3c104', 'd6f428c6-0537-46c9-8aae-f1a377dbf812', '33024ffa-8592-4dea-9325-251e089fe95d', '81d3f80c-ad5d-473c-a4f4-5dc7a09cdfae', '138d7bd2-29cb-4e67-bf5f-57793673b2d5', '101a404c-da0b-45f5-b3db-3068d88e93c7', '01178b53-29b1-4ed5-abdf-cfc183b1a7f3', '735fe49c-5a80-41ae-a879-30513837b0a1', '8843f0b2-c174-48a7-93f7-6368e0e008f1', '70ce6762-3550-4fd8-906a-912e479f5284', 'node-109', '0031a7c1-f0ba-438b-acca-6abbe5421569', 'becd17fd-ea1e-4989-8592-77733ee05033', '3fa62cd3-f48d-4b5d-b286-1577df197bc5', 'fb0d44bc-9cad-489e-8f89-07eab5f7570a', 'ca8f87cf-a4ef-4e7b-9bc2-02ee796286f3', '965d878a-2fe8-4f11-9a58-43dd8eac07ec', '166d2bd2-be71-4562-87e3-cf3e97fbeb74', '7ebd5ba6-cee4-4a04-9eac-f299ec0cc7c4', '963ef2a4-1121-4aa2-969b-9b8786d95721', 'c6ab0c62-846e-4402-84a4-d3357feeb9f8', 'e72dc90d-1abc-4ea4-af51-aef432b580ef', 'fc85e56b-162e-4479-86e2-fd28e6fad7fa', 'node-110', 'd3665e78-b916-4004-b89a-0f290adc31ef', 'daeb9ce8-2411-444e-a27e-4ef34842e6f3', '6ae71650-4a25-4d94-a88a-f82dca7e2f8d', '25b154da-798a-4dc3-a233-50de7fbddd8b', '4292bc91-6610-4fee-ac53-615cb0da8014', '6022892a-42de-4e57-8b7c-dc3bd3ef116a', 'd28040b3-bc2f-4d1a-a1e1-abdc0a21cf99', 'f1f73904-d680-48d4-8f8b-d917da94aed6', 'a8b9b782-7b63-4e56-a333-aab52820e4d5', '79d48a91-39be-4365-8a0b-2dd7bc533953', '91afec02-b494-45e0-b3e6-22e0027806e9', 'node-111', '57fef024-0aff-4058-ba9c-6456b1a71d27', '032b36a8-c903-4bd4-acc8-921ec2a458e7', '866d593d-d93d-4f70-b6c6-c9a4ef47bc7a', 'bd5c9475-8591-4b8f-8774-f9639d869cfb', '9ac060e9-73ec-4c3c-9711-a4054efb9408', 'aefaa0a0-6773-4345-93a2-3e10527c629c', 'febef609-6696-4fc0-915c-845094f3d2bc', 'a03b0ad5-142e-4638-8bd7-4d8fa683165e', '492d559d-b22b-48ea-808a-83c813456b3e', '6565db89-1480-443a-9888-f70803ce96c1', 'node-112', '4c044986-ee2a-4372-86a1-47ea42ef98d0', '0e012a33-7ec7-4f64-8e15-bda011d7291f', '445384f8-f175-4d65-a24a-4b77bbe30eb1', '65bc9636-54eb-4707-860c-20201ce0636e', '37aec10d-cfb2-459d-a853-a02b35f33a1e', '9021abf3-caca-40f4-a532-c691f2ac9aec', '2ab8d650-c7b9-46c8-9d05-2a889f137d97', 'd62ad9a2-da77-469b-aaf1-53ec8fa8001e', '82aecbba-4cb9-45c4-9ea0-14ff8800ec05', 'node-113', '3abc32b0-f078-438c-9a19-ee7a79d469d7', '7da16f39-0916-402d-8bce-d534f80d4b19', '754251eb-6766-443c-9ff7-132ce67075bb', '6d4bb208-5906-4e11-91a8-7b1ab680293d', 'f30fe9f3-e739-4d56-ad54-ed65966bb4b3', '1902056f-20b9-4c9b-9fc1-c243b92dd122', 'a8585477-2896-4b1e-850d-a31beb41592e', 'da134001-cc22-4261-9a3f-3f5e2a67cc28', '3ada87d9-1166-4aa9-a4e1-648c843a487c', '581d5427-a5c8-48c8-9deb-38df0d493914', '14507170-6440-4613-a454-0272f084e6e2', 'f91b73f3-a2d9-4e5d-ae34-41e5323297ed', 'a1a4c999-a345-4ad2-b3a6-388688441546', 'ace2b27b-3542-4c5f-b9da-9e33dbf0d4df', 'node-114', 'ee04875a-e79a-4206-91c7-4accc2cc4b4c', 'aac7155a-5aa7-4db6-b43b-9fe3b343968b', '09128b1a-c3d1-4382-8962-f41d53646608', 'ec7f8c5c-b483-4958-ab89-d2e165179737', '65b43025-0dc4-4c20-b37b-9f31451ef098', '51a46885-f639-4a88-81b5-c1fb6dd813b3', 'fde249bd-8027-4f8f-8c69-fce1638a200d', 'f55ef199-1e5b-414d-a1c6-1fb444407d9f', '6dc2c89c-b523-4d80-a39b-9beb3c5ef490', '3f0913a7-78d7-4581-81ab-a49947254f9b', '975dfd6a-db4e-4974-9b58-d7a5b26ad99f', '31f5840f-f5c2-4504-af11-ff80923ef832', 'node-115', '49644d7a-b325-4f8c-8b6f-0c69cf1a7f16', '1289a93d-94de-4f5d-b442-1a419e4852ba', '3c09b7c3-dee9-4b60-9e38-509d974df73c', '89af0884-77a2-49bf-8aa7-8983604aa215', '7321c476-5fed-4853-b234-be229373b52a', '0b41ab63-0b69-4500-93e2-ef7c983e9c74', 'a188c7ed-14ae-4e3e-8106-9fb8bbda1b84', 'b1b99d77-2df1-430d-8adf-91b585cd4324', 'd026b286-83f3-49b3-82cb-2232775da42d', 'af61f515-8b47-4cb6-bd12-8db9559f569d', 'a3f21242-fb65-454c-98b0-d2fcfe29b828', 'node-116', '0791c530-7fdc-481e-8704-927a904a05d0', '825bd8eb-3e99-4d3d-aa4f-3cccd8e03749', 'f48eadaf-e8a4-40a3-9a3f-05523920e217', 'b71e032d-c522-477d-9562-52de63badc26', 'e4b02c7d-159d-46aa-a9f0-12c7080be4c2', '38ec6ec2-0e32-4df2-8bf1-b7517c5d9aef', 'bb502925-994d-4eb5-bde9-7774b56a3bd5', 'b2d6b2f3-c117-4e0c-ba97-cd4d167d21f0', '9a7b9b67-7988-4238-9c21-7af39f5de143', '6c739da4-9f97-4c7f-bc0a-f42307014dd4', 'node-117', '84f34559-8ba8-48f3-b4cb-421e37f0386f', '91a05f61-e174-4c83-afde-f481d7a49445', '09b4b6eb-1609-4caf-ab69-1a388d1ccf1e', '17812113-232e-4046-a507-fcb77c471029', '3388303c-73c1-40bc-8a22-8856a163cd90', 'b2064b91-6a83-4116-bfbc-d001fe540068', 'ef8dd4c7-dfab-4fdd-9477-b38795703f67', 'e161435a-2c60-4902-9462-f8fc0d442b9b', '6a233ca5-3788-4df9-b88c-010819522951', '16ac312d-6184-4d7e-ad16-4b27c9adeb3d', '123ee463-cbb8-4918-b5fe-a08355a306d9', 'node-118', '744ebbad-7ba6-476e-9ef2-91b85f8b5346', 'e4394458-fb82-42d2-9f40-c7220ef448a0', '1704982a-0733-4a2e-a323-a99adb21e368', '9e0e7567-4cde-4353-8137-ed38adf48a50', 'ce442de5-325d-4ec0-ade5-6f39cec6d491', 'b4c31dfb-4b3a-450a-a066-a18e02af4b7d', 'eeb8f778-1e90-40f5-b54b-6e2b4c0e2245', 'ba5ae7f1-0ff7-416f-b9ab-cd93d7fe0571', 'e3f1e57c-342f-4df6-a9a7-8f73d1cfe518', 'fa987df9-0181-4251-af14-32cc19afc2eb', '3faf6a8a-83c6-437f-85e3-df2f8294bcd0', '65ce28ba-6591-4ade-bb8a-d851064e7127', '42126cbf-233a-4237-9236-537bee7efd84', '6ae89228-aaaf-4983-a95e-ca2944aa2d31', '58d989f2-eb05-4285-af09-d0ab79d4e533', 'node-119', 'd33103ad-7661-4aed-b1d6-8e8c12ebb09f', 'a53a4f89-ee9d-41ea-889a-0e63dbdeb3ce', 'd172806b-1377-4546-8f71-5af5fc589259', '5034ec9f-3b77-4665-a852-c3bf92bed849', 'e4571728-f9d4-470f-9d43-5642d50374ee', 'd2e389e6-a056-49d9-a1a5-88a04d7eff04', '23c27d20-537d-46fc-b4e5-6c9b4f5a849b', 'd8c02f92-f654-4e7a-b39f-008c321b7f85', 'bd99bc54-ede9-41c4-b787-d2b08affea4e', 'e2cdf4eb-72ac-44af-ab30-a8a9c7183a7c', 'f2dd07a5-56a2-4991-b151-3073c63a3861', 'abb4e486-b482-4a81-85a8-5e9f806174e6', '93dfde25-6e0b-4b21-b3a2-b2db7f5225b6', '2cd46889-e8bc-43bc-828e-180b0ab7f6f4', 'node-120', 'd832116e-5575-4a37-9f2e-7f79a79fe380', 'b8ba0506-1aaa-45f1-a637-69a6abf69eee', 'e1cd4a74-cd72-4c23-8233-75eea5c5345c', '61f022ad-c296-4fe6-869f-784d6c57cf17', 'a6808cfd-8516-47b9-a184-62674bc0bad3', 'f0e031db-74b0-459b-ac46-69c32accea2a', '143c6438-2c2c-42e9-8b00-47cfca9c6173', '0ca362f4-4d96-433e-b21f-bf4708ef7bc0', '15425a4e-1a60-434c-a043-98ab07375d44', 'e787c81c-885f-4454-a1c4-f0a405ccba9c', '0d8cf3b9-4bb9-4742-ad44-b980b73617a2', '472f986c-61eb-4ea7-b7ad-922fa91da5bd', 'e7916491-21bd-44c0-8e43-181224d5db6a', 'node-121', '5c099058-16f9-4788-a2a9-115a0fe48a98', '6ebb4665-c1c7-4178-9a14-6d415fbfc61f', '996a950a-1418-4f29-8e1f-5c97ec45881b', '17089608-82ae-4baa-8738-5dcdcc94ac39', '8d5e999f-ba1c-45ce-9de7-ce744dbd259e', 'e16dc0bb-b224-44fd-a47d-ce300b9fd84d', 'c95af7fc-b11a-40b5-ac27-2b33767e434f', '87ac7a9b-ebc3-4350-8f06-32f47172d9a6', '3f6def62-a792-4b6a-bd5b-7634da9c7b6d', 'f31a5597-92ae-44ad-a6cc-6a5d5ed6b8b0', 'f5f95e9e-e53f-4936-9e61-271e09310a3e', '8d1798ac-45a6-40d9-9923-68ea3a6bf716', '11da4149-4a6c-43ed-bfd3-932c92d67b44', 'ff970bb7-fc0d-42cc-b223-4a078d441d37', 'node-122', 'f042dd00-5070-4fc9-ad21-44bb875d3e96', '2557cf69-a3d8-4b0b-a691-d9a5fe4ccdf8', 'bb5ec2c2-ef53-4250-9806-310d0a3c6acb', '203308fa-ccc2-4328-9413-f86086e98428', '67cf5607-7bdf-4f43-897d-fe963ee95d04', 'b4337d57-1b3c-41d7-9bb0-e928b3e1abe2', '6445db21-40ee-42cc-ba19-ca5384ce33ef', '5001bd4c-8b07-46a3-8e2c-75be1e439957', 'fac968af-12b3-4923-bc62-ca46bfa4d676', '9f0ee333-60ab-4341-95db-62ce8aacb4f4', '56b254da-3682-4251-a340-73297c20620a', '2fd5b50e-aa7f-467d-9c47-b96d5234b46b', '06dd55cb-1fbb-4bb1-ae92-b30bdf96a498', 'node-123', '262b677f-ca84-47de-8142-f2b2c045d0bc', '3ebe9cf6-65ae-4af8-8d0f-b68f64ed6839', '9a467c78-dd27-4a35-a110-adb39a09874b', 'c2181e31-65da-4e8c-896a-e8f4f241f2b4', 'fac24d15-247a-4ed3-b9c1-ad3def3a352e', 'a61b53c6-0151-4a21-8c06-9d5959381b9a', '5994b36e-0d69-4ff6-a04c-7d15d1cfb29a', 'e1e6c2ac-44cb-4b6c-8397-9f9e7108e864', 'b7f7da33-093b-4f34-b9bb-3e5fcbf59d04', 'd076dd6c-da88-478a-9d66-3421e7430d18', 'node-124', 'a80816fb-0cfb-4438-a6a8-e5f0b06019fa', '5c206a72-c076-4e23-9ba9-d2a1633bd02f', 'e3cbcf02-2c69-404f-9e34-2ad9604f9569', '22b26669-4af4-4efa-9d6d-df89cbd4acc3', 'c75a4339-82ff-4fd6-8ec8-b7f54764a51f', '448ccc20-ef4c-4dd3-9ada-e18b7a8739a5', 'f9eba8b3-f862-4e98-9e3c-117302b3e1b3', 'node-125', '48e2eea3-22f2-4095-9cc0-d8eac88b8b18', 'd64927f2-0dde-4175-a886-6a9d721643f3', '052a8f49-396f-4807-96d4-ac1ad1372556', '7f87283c-bc33-4de6-bd18-4722f1c2b18d', '9b227a51-61b6-4e18-a3b5-6fb03bbe9e58', 'a6eb0618-3a94-410b-b723-ecd3de68003a', '3f43a121-e2d8-407a-bfe0-3c5b806433e7', '9b080168-e926-4c6a-bdc6-42c1fe14d028', 'db289e08-cdea-4333-ae56-badeadd8a419', '4299f5a2-778b-4f5d-bf67-9371f1379420', 'df737834-91f3-4ac6-bbd9-50605444fdd0', '9feb5575-fcd6-4faf-bc17-750b248db0e4', '513189c3-01de-4bc6-9fe5-ee54e21b6a5c', 'ba83ecf3-ca36-4b98-8445-e65da6af9d7e', '98007d3c-ab0c-4bfd-a211-c2a480a2a54e', 'node-126', '08256798-ca83-42de-ae79-eabce35f585c', 'c4343a64-e128-42d8-806b-56eca1b22261', '94eb8410-775b-43a1-9dd2-1997fe29cc3d', '69a80090-4248-4e33-9f65-63c8321eec68', 'f337901c-e9f0-46df-aa92-e2d891b5afb2', '44f44db3-22d7-4fa4-9125-4cdda96b4fe0', '5947dba7-3bdb-48bf-aa64-d215636e864c', 'e9a0a9a0-ecbe-4598-af4e-8da3c6976901', 'f734cec7-2ec8-4719-85a2-cf173dec567b', '8a9b2206-fde3-45f9-80f9-e732fea10ace', '148f7c9b-fcd7-4bc2-8ee1-c3835b1529b1', '4056ab46-44a2-469d-8bb7-78a6fbd8951a', 'd58a651c-5c00-4a6d-b3eb-80f122a65d08', 'node-127', '9fa5da48-af0a-4194-9068-c74adde73eab', '26a4e237-5936-4988-b68e-1abc0037a36d', 'b67df3cd-13e9-4912-951e-5b3ab233fba8', '906ecd2a-3b0a-4ad4-a19b-686af20949ff', '2abd6241-4cf9-48d7-ac31-00e7e4cd4284', 'fcab8cee-2ca0-4aa8-951c-0863c729acc2', 'cee831f2-b9c4-4e26-8460-aa8973dc746e', 'a5c21d0f-a53b-45c0-94c4-dc14f7ed1627', '5797b4d8-151c-44bb-9e24-f3b68872156d', 'cb0a2dbb-3c69-4e8e-ba58-19f99636c1b5', '96db14a4-7b0c-4d58-89f5-83e382c9625e', 'ea48813f-3728-4d77-b064-18c5fad46f7b', 'b1ffe36c-efbc-4a3e-aa41-a2a64ac7f735', '52b398d7-6e39-4399-ad67-445f56bb5777', '19872b43-035b-4ff6-a72d-3bbef2c6f28b', '1f3b8d02-ad5c-44c1-bc0c-eea17d67dd4e', '005a4096-d7a7-4574-bc66-e78bf54d8eeb', '26c04c59-395d-476e-8166-117b58aaa9ba', 'node-128', '3802013e-362c-4ecc-82e1-e6e62d5943c6', 'ed56aa6e-df49-46d8-9d72-643cb3e0b342', '7990104c-f803-42e5-9558-f426d83ec9a8', '6d21668c-40a8-4992-86ff-0d31145527a9', '74ecc2f6-b26f-4651-9253-ae632cc10440', 'a51cd5bb-e4ef-48bb-bb22-3e7e68ff43ab', 'a43f1717-bd6f-42f8-8cf9-8438564fd98c', '191c099b-94e9-4c92-9f98-d49cf13419b6', '37ae4a03-24a5-47f9-acfa-91c2fe975e36', '32385ee1-0eb1-4cbc-b114-9de8a3a245c7', 'cb69f129-4085-4ffd-9585-f1b22baa34ca', '1bf035ab-83e2-49a5-8826-73bb7a50398f', '659b7fed-3489-44d7-bb13-5d80dda04a7b', '84ae22dd-b35b-4da3-a224-7f26ab586ca2', '993e412b-c5ad-4571-8179-64b625f02a37', '81a91374-f4d8-4281-b5d0-306fc09b89a0', 'cc54ae56-cc25-4add-9e91-38a398719889', '8e4d7920-3263-45b8-80f9-f2315b9fdf0c', 'cde6a60e-734a-45ef-a890-8bab97be06cd', 'node-129', '8e827a8a-5dbf-4ba2-811e-9ce0924ba7de', '87062d19-3008-41e2-99dc-ddd1a3ca32ce', '70e67bc6-7b51-4d41-b3d5-9a91ab23cd89', 'cce4b2e1-6bbe-40d8-88ee-f5a215e4ebb8', '84756de5-ee59-43a9-b805-53a7caa71916', '2298f4bd-b01d-44fa-944d-b554ccfa3bfe', '4fc16e3a-6e07-4155-9c1f-62bd6db13ab3', '7551d19d-88b0-4580-93c1-4874a2103e01', 'eac42b44-8927-42ce-bd81-e16ba5c82700', 'e53b2c38-8ea0-4df9-a693-af83e17d04e3', '0f944846-7fee-4e78-a2f6-67f538dc9a6f', 'cfb276d1-d71a-4f57-85ec-f48b88a1a492', '5c6ed9ce-9164-4071-92f7-cb673e5db6d9', '90211467-238a-44ef-a388-f12cfec87679', 'node-130', '246bd566-021c-486b-b732-8cb52e1754c5', 'ca65250a-3554-431c-8a58-cab07e3505a8', 'd0e35d16-517e-40a2-b5fa-6936e17c12e5', '455aa46d-9dae-4017-a0b6-c0c4b73c18f5', 'c5b72981-ff0b-42d5-9f69-155c5c7683b5', '23ee311f-3dec-49f2-97c8-0a10bfd59785', '17d0bd80-8409-483f-865b-078dfa28b4eb', 'b216850a-58f3-4bbf-bcde-66a68f68cd69', '96603302-841e-4aa0-8840-25da50becc33', 'd8c97182-904a-49e9-84f1-89cfda9554c5', '95e75cfb-7099-4ad8-8df2-8b9b6014ae5c', 'node-131', '944e8359-1285-430b-bb2f-0f9b55775b08', '2b77c6df-6c37-4316-b4db-9d7e7252d90a', 'bcabd993-6524-4a82-a294-ef837c340f8f', '9d3cb138-65d5-4df8-be79-76f6c75df834', '192c8c95-4bda-4ddc-a4a3-a6a54010d549', 'd6f3c772-6a2c-4227-b58f-83bdf5a12dc7', 'acb2a17a-8fb2-4b7f-90ee-3885748cea4b', 'b56365d0-2956-4a25-a2e8-ff8ad1297765', 'node-132', 'e2b4f2a8-84af-4eda-a2e8-6712b572073d', '77fc5cac-57af-482c-8e48-6c56df905ef0', '44b692ec-7d4d-48c8-8810-592eb31bbfda', 'dd2c03e6-aada-4826-871f-da2fae9db342', '65352953-b5d8-472e-9bab-600f1acddc86', '932a4c34-aeb9-4661-9c2e-a00c0eafe60b', '00ab4871-f1ce-4a54-95b8-2e91a9d8e322', '67f5fb74-d0a8-4adf-a52b-cef434416d37', '480c0650-d878-4721-81bf-3fa79df09399', 'node-133', 'd9fdc487-f617-47a9-b4b6-5dc1116fefeb', '57bea37d-acd7-4f4d-908e-8eddbf90f286', '8497b961-1b74-4ba1-8a5a-a45ef4aa70e7', '7dbffe8d-0be8-4929-aa44-8ff90299e70d', '2f47e84c-3358-480a-8f62-a4ff95131ac5', 'b2133e29-98dc-4d88-a26c-196674485fef', '08f315bb-6dcf-4cd0-b10f-f2a81decc626', 'c6f70d50-716f-4202-b437-fdc1400b14b9', '3b1528cd-13d7-4b52-a5f9-beea6994265b', 'ddfd6fdf-3a3f-4161-8ca6-2216ad16bea2', 'e0a43c35-6993-4b38-8f1d-8c92b1046e3f', 'node-134', 'e0ad644d-aee8-42c9-899b-c7789f111522', '08255546-706a-4e21-b394-65b53dacef2a', 'd9316972-be09-4e72-9e42-0471cdb1c980', '5679637a-8394-48bc-b92e-98cf4a5156bc', '235dd472-923a-4a67-b5b6-464d347cc26d', '72f82fea-4544-449d-bb43-8489d21dc8cc', '5e4fbc93-3715-4c5e-a8a1-9988423dfa50', 'c98c2fa3-ddcb-4ea2-8523-be0c7e935972', 'c586ca1f-4b0f-4a4e-8861-5cb500a94cd8', 'node-135', 'edc30f16-64ba-43d1-bf13-55818cac457c', '95858d96-5074-4598-a8d4-ef058df4cc9c', '941ed472-a10b-476c-9102-f2412712d7b4', '26632e2c-8faf-47ff-9e70-e23087538c60', 'debe1b16-bb89-4c76-b2b8-cad9029cb7b8', '7230e3ef-7377-4925-991e-34cb6e864243', '77f8877d-4f05-4505-a3b6-7b0e76b8ccc8', '321c642d-8ae4-425f-9b9a-0438d335aa6a', 'f7705109-eb67-4a21-aed8-4f0b76c61f65', 'node-136', 'dadc9e85-8aa5-4401-b5ee-828aede69a7b', '2005a772-9a7e-44d6-8083-47a987815bec', 'd768e008-eb77-4c17-a7eb-59be357c2bec', '9c6a6844-056b-4379-8e21-af198dc487a6', 'd1b8b5b0-1465-4527-a905-27e362ceb703', '7cb8cdcf-e6f0-449f-af5c-b5c8af2ac4f6', '0bd2345b-57b3-46c4-b092-2784c82894c5', '710050b5-e6d6-4c34-aaa2-f4c691cda0f3', 'd6d7fa8b-92b2-496e-95f6-52f4fcdfaca7', 'e5089354-1efd-41f3-8180-ae9ed19bd209', 'ea29c262-5b9a-4a97-8109-1b5db88210c6', '52533a54-1f7f-4fbb-a61f-1a12d91f8158', 'node-137', 'be5ea307-8bd0-48b9-9316-4983d6766314', '540c6aae-b45b-4e02-8205-125a8d2a3afd', 'b0356bf2-51ff-4564-9a2f-2e5ff8ca48bf', '990f35ec-b385-4ebd-b69e-8a6af0a89433', 'f9edec4a-185b-404f-916b-f99f271ac2b6', 'b8cd6007-27d1-4d9a-a4da-6cc2dfe8f81b', 'd9dac17c-9628-4707-a9ee-39976d4f81d8', '01752c75-b42e-4b91-b624-c4fff563a507', '3880f063-b719-4b1c-a4b5-d4d244275e91', 'd0970e85-e84d-4ddc-9f36-3d389992329f', '223f4f59-b150-4f73-b825-9690f313dfa4', 'abe15c8f-6276-4257-bfc1-0431dc9bda29', '344f08b1-bdff-4ad6-8076-cc5abf46f8fd', 'node-138', 'f7c9bac0-7567-41b2-a76a-a2a8e8a18ac0', '07dcbde2-60eb-4c42-87da-ae5751763952', '851ca6d4-b230-49cc-9858-79e4b88d9d0b', '5bf4c27b-445d-44d8-adee-7128d9589cdf', 'ebc21b1d-9775-4504-8d25-873e20b3f78e', 'd4070f20-e408-4ffa-b9d0-7aa42d1828e3', '816a00a3-ef0f-47f9-a793-07eb623a2aa2', '16b05eda-0bbc-4172-967b-fcb3e6d1988b', '3d974a77-829f-4691-9edf-c32da4a0ed73', '75177abe-b188-44b7-9c09-03e2048565df', 'a0be5790-1363-42e2-8032-e13aefa17900', 'node-139', '30b1be99-d557-46fb-a32b-62a780fd8deb', '7325459a-fb20-46b6-912c-c8c7491343ef', '7fa842a0-8b95-4d22-a2af-f01d94f7499a', 'ee7f8cb9-7bc6-41dd-9920-99c1e710044b', 'fb53bfd0-95f8-4d42-b4c2-6414bd6b3083', '33107aff-473e-4f30-9173-f78539689f01', 'ce33a8bf-f1b6-4fcf-995d-c785d20b2d71', 'd599ce4e-177d-4cd0-a96d-7c350752f4d6', 'b12c9709-e9b7-461c-96f9-69591e88ec2a', 'node-140', '8acd56c9-f1b7-4e05-8cb5-3b2d2a819183', '5bb7431b-04d8-475c-9f42-daddbd5aeca1', 'd73b4383-ef2a-4f41-8fef-e41caa00b2ba', 'f7b4a6b4-1c1e-4331-a602-59e7122b4737', 'b295c9f4-ceb2-4409-9ba0-c51fbacb2b71', '4202cea3-f6f0-4b8a-9a5f-15768a1763ac', '1b879553-f2b6-4b92-b2c7-122de840eb3a', 'bf54b969-ef19-4c0c-9646-b764be3b4659', 'b6c3a009-dcac-46b8-b5e0-5da1335c1cf6', '28d802cc-8d1f-44f8-9e8d-da251112196f', 'cd353f9e-902d-4065-8ac1-53a38208ca5b', '7a65971e-6e80-4113-8fbf-ab663287bf10', '8a69701b-96aa-4354-a0dd-19f0a43613c1', 'f6240e14-bcde-4adf-880c-fae61217d703', 'node-141', 'e55f5ebc-94c6-4a41-96e7-6d27056fe5db', '0608e299-cefa-4195-b868-790f9fc5feea', '5e9e8ab8-6df8-4b82-adbd-14b0bc08d87e', '5afe18c8-10bd-478d-b73b-4088f1be82b6', 'd543dc85-c06d-465a-86c3-85fae3cd3e03', '5a07497c-a8b6-45d1-87b5-fc8dffad495c', 'bb821aee-1a32-4af1-bfac-2017c8d59807', 'node-142', 'f7b0e7bf-9369-4519-b394-639992f29387', '8a075d65-3afc-4b55-8053-f06fd009772b', 'cc5234a7-8b19-4fea-bd2f-e37630830331', '623f7df8-4429-4cc3-b071-f64e8b2a7900', 'cb8ab823-77d5-4034-8b8c-9da02759a92f', '76e6d7f5-2397-4cab-8cbe-a1add9807188', '692efdd7-a106-4159-a8b5-283a5a670ef6', '7bfd53c8-e915-4084-8a3a-2db156509a1b', '09b14adc-d097-4fef-825a-cb5984ba47ff', 'f7cb111a-1fd7-4915-a3a7-320d7aa752f0', 'node-143', '9745bf0c-c3c3-4dd7-bebb-9b152c6f3c47', '662c889e-cffa-45b9-8a1f-43377bd846ff', 'ff69603d-d136-4396-acbf-6e8173502c86', '8eeb38b0-f819-4b01-978d-7ade4125a471', 'a6d3f561-e63a-4c39-bddc-1375e8eea0b7', '917cdb7e-a42f-4fec-a2ea-9c0b25f255ab', '6984ea39-5872-47bd-8929-e8612ba493aa', '5adc9133-af4f-4566-9643-3144c0f5641f', '2b8ae5fe-9259-4b84-baa6-90dc1234a0fe', 'node-144', '005c387f-c076-4389-bbe2-6f0430aacc50', '44dbe37d-265e-483d-a38b-dfb70371ed22', 'c5c8fd4d-5a7f-4542-986b-c4c36e6c9245', '6a4df6d6-c109-4a26-80a1-7ab7118499f3', '52186239-4014-40bf-8c07-3f958218c856', '304a40ef-c580-44d5-bd65-7c8e3dad25a4', 'b42bfca8-cd80-488c-8dce-ceadccbfc147', 'f8fe36bd-7da4-41f7-aa03-a5fd4c44a283', '1147f753-67bc-4778-8d22-8f8f474b788f', '1f6abf76-29ee-40b1-a6a5-2c54161531e8', '78e1044c-3e51-4bbe-ad07-966b64d3e4a9', '24782c91-7061-4ac1-b4f6-797a6405afa3', 'fc9f84ac-a90e-4d27-b988-8ef758a50b78', 'b2ce086d-cdd1-403a-97d0-72da891014a4', '98a92480-b5f2-4a6e-bc4b-8d0abf468434', 'node-145', '1ef69134-0f20-4fab-bd0e-5afe3d44be52', 'f4a2d252-8733-4691-b066-d38160939610', '98e22a5c-390a-427f-bb8b-afd81fd35a26', '5b301ecc-a4ea-4dca-858f-ccabd452f0d3', '05a1ce78-a1f6-4554-993a-df763f07e220', '5f99e6cb-e55e-4df7-917b-2e431173693f', '8697d8de-43bb-40a6-b230-c8e3270ccee2', '8e88058c-e1e2-442a-b1cd-5e5588be8474', '79315026-2837-4ca3-8ffd-45b9730cc63c', 'b265c43b-771a-49e8-a6d0-ed432bb3b2bb', 'node-146', '6ff1c7da-361c-4738-816f-d8f57ff411be', '249bc1d5-c201-45bc-aaa1-e0df2424db82', 'ee3ec09f-999b-4cbb-8e60-a07d6baed6c0', '4f496c44-d632-42ed-82be-ea9471ef3bdf', '30a74484-bfb1-4651-a532-bb210c539ed6', '861880f2-e76a-4108-aa0c-cdc570ab8a87', 'af54834b-8a45-44e2-801c-1938e1f1cc9e', 'bb2c17bc-76ea-4b5b-85e0-8dbeddd9e6a8', 'beb590f3-0f6b-4d99-816b-1a38ffac1940', '544686b2-eb78-4fa7-9d6e-7828b52b52de', '4d620cf8-56dc-4b63-96a0-d8f7d6126038', 'node-147', 'a33965ff-4da8-4777-babb-67e230b8d3e3', 'cefd7b04-e786-4538-b13e-5df50004e72c', '2e308700-8269-4197-8fe5-e0b0d1529f11', '44d82163-1a09-4a3c-97ef-1d6ab62e8341', '6128c86d-a43a-410b-b0c5-4cda9b015a3c', '0458ff8b-592d-48a0-ac47-58e945251b88', 'node-148', 'b03b965a-b819-48be-b0d6-c5ed89fca56c', '5cd3ca2e-085b-4d6c-8443-7f9db876cca4', '44b73543-588a-457f-8bd9-13c53653a1cc', '6d66cb0e-7602-4823-a79d-4ef77cdb26f4', 'afb560a1-1a3b-414b-af09-d21a590bdb16', 'd25f2213-d1f7-44a2-ae52-8ff2e6b31e49', 'e6d7a1c2-0374-4f94-88fd-95a1502ba088', '416824aa-db03-4e0b-92a1-79537c814dd4', 'node-149', '491f8213-4200-4e0d-bdb5-9c365b665d37', '5e653c49-86b2-4d80-ad04-5853b64dbd93', '1befab27-59bf-4696-a134-7ece8e7e3399', 'e9833065-1100-46fc-851c-d616546dc5c2', 'b82c1ea7-91dc-4966-bb36-73fcc69d99a6', '99308686-9517-41e2-870c-d343662fe4c3', '788de008-483e-4461-9252-2f2386565aa1', 'f322f979-8458-4c31-a6e5-5baa41148a0f', 'b6fcd90e-e519-452b-b98c-3f92df3a30fa', 'b7f69550-eb00-4e04-be2f-92ee97f31176', '682c6751-acff-432e-93a6-4a2278a0860b', '5572c636-0aee-4811-ba7b-8ab8bf01850a', 'node-150', 'f6999003-368c-46de-ae49-938b0ad22cff', '352c9f76-234c-4adb-8e06-78106a550211', '1662e32b-b33b-4f21-83ec-e76cf3f88e41', '6aff9195-f80a-469d-b488-f50e55c2a1eb', '8e278166-6bbd-4377-b8f9-0f5ce8a472b5', 'ef58e8d3-13d3-4ddf-b0c4-1de3b64bf72c', '7c059f63-d3f8-498c-8274-e1306795511d', '0db8862c-06bb-45ff-a646-ee98c3954fd9', '47c33bde-e4bd-4eb6-9acf-eb7cbf69512c', 'c80da6ee-210f-48c3-bd5f-4974b5adce02', 'a636ec87-190d-400a-a34d-4f499e8b202f', '240ba747-7237-4229-be15-838fae068875', '71577ef5-4446-47e1-84b1-163afd88a579', '37de5f5d-3891-4c81-90f5-76d780e9757c', 'f316b371-5475-437f-bfc1-fed87babb045', '9697c7b2-0b5c-4191-bd90-386c4e7a36c4', 'node-151', '86454370-818b-40d9-8f52-753aae18c508', '4f87b8a0-2d20-4c67-b622-e3a2d953d85a', '0d2588b3-b2fb-4c90-9400-838dd9646d7f', 'a62e9644-20f6-439a-8e4a-565ec3bda985', 'b04e91ea-52d8-4fff-82dc-14947b6e8ae0', '55c2002c-77f5-4cd7-98d8-688a0447e328', 'b45ff4b5-36cc-4565-afd2-450a9ff28d84', 'aa046afb-43a1-416f-91a4-55e259d0995c', 'ff941125-98dd-41cd-a017-7737d23d4574', '9608f0f5-46cf-4879-a182-dd920007aa34', 'f712546f-5b0e-45d3-817b-9f146435400a', '4c49f4de-e129-4c44-9007-a7bfa2f8b7e9', 'node-152', '1e7c486f-c222-4f20-b489-ea7a38dd0894', 'eaf18752-418b-4830-84a9-bbf69f98a393', '19ebe435-75ba-4010-86e3-4fa1f1029093', '1e6aac9c-9821-4182-a956-42f1487733a1', 'f53dbc67-749c-4d35-a998-f1d5d2f55e00', '0e9030b3-f50a-4639-8bc4-764f86205686', '15d8c95d-c832-47cc-8a76-65cb5ecf9dd7', 'c0dfaae3-d200-4a98-a05e-a0cd316ba9e4', '552776ba-e704-4c1f-91a4-cd0409da5611', '8b9fd858-f7d3-4dff-90bc-1d16ab306918', 'node-153', '3cfec58e-dc75-4b62-b0ac-acc77b769ed6', 'a81f7e72-6d6d-4c5b-9c3f-2134cfbcbed8', '6ea13e85-41b9-468e-ba07-ce07d5f96aa7', '938ca31d-9214-4678-af73-35af54a07c28', '960a702a-26b7-4603-ac90-8648b8edf379', '396b49c1-c123-412c-8641-b3b5f7c82123', '26cda94d-9b0c-4419-83fa-2f67acb50f7b', '1465dd16-a72d-465d-b23f-07cbaa172ef4', '4a36f7d5-3ec5-4f8c-a52f-ec01d85e500a', 'e8c88d77-595e-412a-9ccd-b32177a9bac5', 'node-154', '86d76563-3d83-4c79-b665-9f3e0069ecfe', 'c70a6b47-7f5a-4343-80cc-6d6e367301bf', 'a0a68b8e-083c-45e4-a158-449648425683', '209e1083-ce38-46ac-b790-e2511becca9f', '30ab8ac6-ffd6-4059-8037-8fff7a4d1ec7', '856b664e-703d-42aa-b4fd-42cf7c9bcf9a', '764397e9-c721-45a9-a038-c4ef6b4b1f0f', '90380910-dc86-4154-8f0c-5a0b0b75cc57', '785074ee-a2b9-471b-854b-64b735d60797', '7460ed46-6bbe-4852-9e98-47bffe2b1216', 'fd857df8-46bc-4d20-b74b-73a0d884e159', '0b1b6db4-4a63-4d0c-a5e2-0e8c5ba0d497', 'b786de1d-a4a7-49e2-9859-207f8a80d945', '6a063ca9-7716-4e81-b693-0f330068b763', 'cac652d5-3076-44ef-8ed9-e8dfadb80409', 'node-155', '5231ac3f-98e1-4cee-9210-9373392cbaaa', '5f3e15ce-9447-4f86-a825-7086d4d7ee08', 'ba10e4bc-58d7-4435-afee-1192b99fddc0', 'ff3d6241-322c-4f43-9c44-e07460e664f6', '0bcfe67c-adc1-4cac-9a5e-fbbd2b6623a3', 'cf849c50-75ed-4792-ad01-4ecae0382623', '72bbbbdf-de27-42e2-bd28-fabb26d26248', '1e628f64-5f0c-411b-9d28-a62a4bf408df', 'b901a0a1-c9dc-4795-a0e9-53b4b82402a9', '19bde91d-c540-428a-8529-45d3061e0e2c', 'c19a4a61-2555-441b-8e36-654f37de57a2', 'bec8681f-3599-4c95-8c48-3386735a7d29', '203e1164-52fe-4992-8f3a-a8a93be04585', 'bd4f2fcd-9a10-4535-8fec-65d48083df67', 'node-156', 'ea7ab3ec-c376-48b1-b30e-e30ef57d455c', '94ae7b66-b86e-4d2b-92f4-4ceba067aec0', 'd0a7b3ad-e250-4b46-ac92-ac764e7a2cc9', 'e5c92a8c-9ec7-476f-be2b-4953d92ec91d', '3acb7019-11e3-478f-97a4-9fbc73eb342f', '97d1e08f-97b4-4f9e-b1f4-d3d3520fc869', '58b0d459-0596-4021-82a3-61fb8fc30303', '65e1383d-2be5-4b1f-ae55-7ac94f86f3d4', 'e6bb847a-dc3b-4029-bd41-ab9b7cdabc6f', '85818ded-df38-4ca7-ae25-b0cb67b6c886', '83e90799-a7c8-4455-aabb-8cd2fd46fcdf', 'd3346c3c-4209-49c2-ae59-ceda5a050856', '5764f589-86f5-42f8-b975-975ac2333f6f', '68b6fcbc-b879-4454-9b99-91b1ce63ea43', 'node-157', '14c678a3-f50c-4e98-82f1-d1ac66ff2f02', 'cffd2ecc-41c8-4c87-9e68-670d12a9f5c6', '9678c1d9-d7f5-45f8-b87f-0be753e0f51a', 'ffdccea1-4e67-417d-8061-6da09e9d4dbe', 'b059be51-10ca-4262-b4dc-0317319202c5', '28c3bc11-0781-4ebf-a639-358ad7eeb347', '97514654-07ee-40fe-ac27-144abb7945cf', '8d2d0d3f-4380-4480-9e84-9df29774e21d', '5868cdea-b0fa-4fa6-bfe3-37ede58530da', 'a0adbc51-bc4b-4e1f-b29b-47c7e723456f', 'a4dc4880-905c-46b2-b12f-4f4135d981b3', '1bf2ef8d-f828-4a2f-94d4-8c61cf118656', '670da2f6-e821-4b24-a21b-3ee96c959117', 'node-158', 'ef29bc54-0ec2-405a-a64e-78c8ff029d81', 'd2f292c5-2ff7-4c65-be82-0599f1b95f88', '34bc4222-b424-4d2f-9652-2350ba24909a', 'edd80138-218f-4d1b-93fb-7aba71f7119b', '03af272a-0fb9-48b3-8ad7-5b130516c778', 'df60ab76-d434-469d-939d-615631807ea8', '93fd0a5e-0b2c-428f-8292-095775e5c2a5', '37f6f09e-679c-4550-84ce-3fae2a844772', '9fd2af21-9f40-44f7-9d36-9d4be862c3d3', '3354a02e-b111-4c88-837a-06ec6b5f769b', '89fb143f-ee4b-42d3-a9a5-cfdbf93a6384', 'aa89797a-fcdc-4006-9295-e905f7335bd4', 'e0794868-dea4-4ccf-b6d8-d6afa6fbf8d6', '7622233b-5521-4ea0-acd4-9eded076a14f', 'd669f1e7-7caf-47b8-85ef-3c8851425874', 'node-159', 'a4999674-5527-4c0a-becd-7e6b7950dce5', '793e901f-ff4f-42a9-b8f5-84b999a3c38b', '19d3e467-e86f-4b10-a6b1-ada549df8726', 'e7fe9544-2548-4a74-a3f9-dcc1753806d3', '613c192c-2e71-495d-b37a-fd7ced4746d1', 'ea22aebe-f47a-4ce4-af72-2bcc07c836b4', '367ed7e7-15d2-42ac-9098-83029db3cfc1', '517a9473-14c0-4797-aa67-ed003032bba8', '35284d5c-d744-4ef7-8ab3-92298c05bb8d', '54e71719-9a04-4517-9f9e-ea11c8c1e121', 'node-160', 'ffa9d732-f739-487d-b6a9-4b2fbcec3702', '418b3574-45cc-4a5e-b833-3561cec09630', '707954a7-71db-439b-9341-19f09dc9a64b', '5e24758c-7263-4d38-8485-594bb8dedfcf', '92312d0c-af83-4811-87f7-e35b984d20f8', '9c028ee3-5333-49fe-a172-72864b26bc70', '7b4eca7d-037b-4edb-8242-5c84cdcb274c', 'c21086e8-5373-4678-88c6-6ad9e0a6799a', '5e07c32e-b234-4e39-b4bb-64adebb2df53', 'dda251e6-9b4d-4694-9d7f-1a07c800e477', 'f7644f18-dec2-4313-befc-c0d97e9728c1', '93790eae-f900-41b5-8596-d09e2e47adb7', 'node-161', '64129532-1d59-413f-94b1-27eb5446cb48', '4e10bb3c-0ee2-453b-acea-ebcc231b304e', 'bd83a07f-53b1-4bdf-aaa6-eb7fa34ed567', 'a41f9360-b811-4d6a-ad0a-bdecab9d3960', '255ee252-c3aa-407d-971b-56607629ed0b', '42e57366-111a-4cac-b281-1bf415fe1183', '10efbfb2-73d6-4ecc-8ff7-a1061e3b43e6', '277dbe58-4919-4456-9323-b530f1510ed8', 'fe5c2350-d86b-4b65-87df-d0ffd4bd6c45', '57c7171e-dcf1-4efc-a5fe-507103eed280', 'cb0b4523-0395-4b2b-b6ad-eb6021857176', 'f7544160-96b1-42c7-a7df-9a977a3e27ab', 'node-162', 'c8b990cb-6bb1-42a9-a921-f66605368c1c', '574441ab-c906-40fc-9b81-0d6577327553', '16b7bf7c-1436-4e40-a363-d4ce61e2acc5', 'e7f0a0b2-96d3-48b4-86e2-cfc67342f7a9', '95a29033-2dfe-4f78-9400-8ec036d7e401', 'e4c1927f-fab8-44d8-97b0-1cdcfc27d73a', 'c1046e1b-249c-4330-9845-974a22efcfba', 'c2a78bcc-504d-46e1-8154-d308c9f2f521', 'e58cd8bb-e01d-401d-81d6-614da775f769', '85abaa71-1f03-4af3-b065-8e748e4cc2ee', 'node-163', '4545c753-a2ed-4e36-be1f-90d275fac962', '7ccfc2c3-2bbb-44f8-9845-3a10da42e9fe', '6bdc8678-1df2-44bb-a0cf-fad06e317f31', '0671f86e-34d1-4515-aecb-277a7e78ae19', '0b7a39ea-1088-4636-8dc3-225f357f4ad0', '7a7e4857-084c-4fc9-9191-82ab0a71afa5', '9a4152c0-ea54-439c-a402-d1507fcba1e0', '3f8176c8-81f0-4be0-af2e-16d5e6cf08bd', 'ddb396fa-7237-4322-a9f3-d30cd02d58ab', '8fbf8bc7-1eae-4d8f-9c67-7a5100bbbef4', 'ceeb33fd-4aed-4dd1-b641-c93cb7080239', '059b61e9-2993-4fa2-acb8-a3f2d77c13da', 'node-164', 'a34c88ee-bf9d-4ea0-be92-370916f18850', '8f90681e-cf8e-4e4b-ae78-4f3a0545e262', '73c3ecab-de7c-4726-a25a-4114203365a1', 'a570edd3-aa85-49f3-aeab-2d12b527ea39', '265082a7-3863-4088-8bb5-78504f4f9184', '7094e182-b40c-4bdf-9549-7f52aca55db5', '4f4938d8-ce14-4045-9182-2ccaf0e1c9c8', '3f60e884-7f86-4270-98c5-b275dfe5cb7b', '69e5406d-5beb-4946-a9e0-3b873fb2df1d', 'ec9a0aba-f31f-4e73-b910-1a6981d7acd8', 'd47b04c6-85b6-4824-9370-ac1dc52e201f', 'a66aac61-1ba2-4c76-b969-620125a1e292', '7887f4b5-7dbe-4fa3-8ef0-a7f63f1b0189', '94eb8efc-46ae-4468-87ef-3e20cacc1ef1', 'd82ee7b3-0aeb-4deb-9806-425e94e4a169', 'node-165', '01d7a23e-a780-4bea-99fc-07b160a39d69', '219cd1cc-20e5-49b7-a74e-0e03d04383c4', '20102943-474a-48ab-b773-44cb845b7ee3', '925cdffa-430b-40f0-a0d5-df97b0c37b48', '1300fdeb-6de8-4ba2-955f-92ab57d1a5f2', '3ca4f47a-8851-4014-a3d2-9b92c28a8271', '0c5e526a-53da-4806-8c55-cfb2ea825bbf', '080e2616-2c3b-4634-9d9d-d3760c4fc99c', '23baa940-b43d-4241-998a-c1faf7fa2793', 'node-166', 'e6e9e890-79ba-4acc-81cf-e5585ad8f9d5', '2f29ad0d-0d6e-4c4b-9d4d-33867b863fdf', '56f7adb8-8a3f-4f10-b988-0a457f8c3642', '296cb8b7-2065-4bbb-91e5-ea8fefcd6f4a', '4353938b-e2fb-4f6e-8ddf-a2cbd4296915', '3fabe074-4fc4-4341-a539-f585740c2c01', 'fdaf40ef-fd16-4f88-8990-b03f43d86861', 'e463a592-e2ab-43ac-b6dc-07ccfc5c8d13', 'dd55ce5b-5d42-4c81-a864-fadc3345b527', 'node-167', '19223429-156c-45f5-8ebb-63f397979b04', 'f0a8ecc0-b107-4c8d-befc-64395f3eec96', '4d330c39-9a5b-46c1-a44c-856c0a6cfa9c', 'cf06510c-9ec9-4cb4-bba1-39c9772cabef', '4596c829-1ba9-4be7-9d8d-f1a08c5dbade', '17761ddc-4148-4494-95a5-cae1386b4443', '97721725-96f8-43ad-a7da-582785bba0c4', '7cb8fd89-d4bb-4bb4-bd5d-d4926320dbac', 'f56e9c90-c9a8-4254-8685-12782ead4c60', '1928ccd1-fbcd-442a-9600-c59703a30a14', '4ee74f0e-fba0-4346-90b1-4074fd2f7024', '6bf87ab3-97a9-4de3-abd4-17325f6ee888', 'adb15fdc-c7e8-4fc1-858b-b41fec3128f1', '639e7570-1b09-4a03-b015-eaaf0dfccedc', 'fce18724-ab5b-4713-ae34-a192efa654fa', '52fe393c-4e67-46fb-8957-8871b3e5dbca', 'node-168', '06218a94-2236-4e56-971d-3e2303654813', '7b763dcc-cea0-4489-855d-fbabb56c376b', 'ee0484d3-11e2-4450-91ec-e9aabadc97c9', '0577291c-8287-48ca-948c-2fa022f71db5', 'node-169'])"
            ]
          },
          "metadata": {},
          "execution_count": 28
        }
      ]
    },
    {
      "cell_type": "code",
      "source": [
        "#all_nodes_dict['5a10ca10-8282-4225-8882-523d4310a406']"
      ],
      "metadata": {
        "id": "X15pzmycEo_l"
      },
      "id": "X15pzmycEo_l",
      "execution_count": 29,
      "outputs": []
    },
    {
      "cell_type": "code",
      "source": [
        "# all_nodes_list = list(all_nodes_dict.keys())\n",
        "# index_id = [x for x in all_nodes_list if \"node-\" not in x]\n",
        "# for id in index_id:\n",
        "#   print(f\"{id} ---> {all_nodes_dict[id].index_id}\")\n",
        "#   print(\"-\"*40, end=\"\\n\")"
      ],
      "metadata": {
        "id": "fU-ZSXG5FSpQ"
      },
      "id": "fU-ZSXG5FSpQ",
      "execution_count": 30,
      "outputs": []
    },
    {
      "cell_type": "markdown",
      "source": [
        "See that these many smaller chunks (`IndexNode`) are associated with each of the original text chunks(`TextNode`) for example `node-0`. In fact, all of the smaller chunks reference to the large chunk in the metadata with `index_id` pointing to the index ID of the larger chunk."
      ],
      "metadata": {
        "id": "POcAQyP9TXug"
      },
      "id": "POcAQyP9TXug"
    },
    {
      "cell_type": "markdown",
      "source": [
        "## Create Index from these smaller chunks (IndexNode)"
      ],
      "metadata": {
        "id": "J7-QiFF6G5YP"
      },
      "id": "J7-QiFF6G5YP"
    },
    {
      "cell_type": "code",
      "execution_count": 31,
      "id": "a44ef2d5-0342-4073-831f-f35dd6f04dc0",
      "metadata": {
        "id": "a44ef2d5-0342-4073-831f-f35dd6f04dc0"
      },
      "outputs": [],
      "source": [
        "vector_index_chunk = VectorStoreIndex(\n",
        "    all_nodes, service_context=service_context\n",
        ")"
      ]
    },
    {
      "cell_type": "code",
      "execution_count": 32,
      "id": "c06af99f-02be-4055-a6ea-3071ffe8fc8a",
      "metadata": {
        "id": "c06af99f-02be-4055-a6ea-3071ffe8fc8a"
      },
      "outputs": [],
      "source": [
        "vector_retriever_chunk = vector_index_chunk.as_retriever(similarity_top_k=2)"
      ]
    },
    {
      "cell_type": "markdown",
      "source": [
        "When we perform retrieval, we want to retrieve the reference as opposed to the raw text. You can have multiple references point to the same node."
      ],
      "metadata": {
        "id": "DCm2lt6HHJ7B"
      },
      "id": "DCm2lt6HHJ7B"
    },
    {
      "cell_type": "code",
      "execution_count": 33,
      "id": "4c7c5e43-45b5-42d6-afc5-cb81ed3cb211",
      "metadata": {
        "id": "4c7c5e43-45b5-42d6-afc5-cb81ed3cb211"
      },
      "outputs": [],
      "source": [
        "retriever_chunk = RecursiveRetriever(\n",
        "    \"vector\",\n",
        "    retriever_dict={\"vector\": vector_retriever_chunk},\n",
        "    node_dict=all_nodes_dict,\n",
        "    verbose=True,\n",
        ")"
      ]
    },
    {
      "cell_type": "code",
      "execution_count": 34,
      "id": "9e9f7bcb-5442-4d2d-a7eb-814b68ebb45c",
      "metadata": {
        "id": "9e9f7bcb-5442-4d2d-a7eb-814b68ebb45c",
        "colab": {
          "base_uri": "https://localhost:8080/",
          "height": 734
        },
        "outputId": "7ef4b62e-963c-4286-c731-835bbe38fd48"
      },
      "outputs": [
        {
          "output_type": "stream",
          "name": "stdout",
          "text": [
            "\u001b[1;3;34mRetrieving with query id None: What locations does dexcom have a presence in?\n",
            "\u001b[0m\u001b[1;3;38;5;200mRetrieved node with id, entering: node-4\n",
            "\u001b[0m\u001b[1;3;34mRetrieving with query id node-4: What locations does dexcom have a presence in?\n",
            "\u001b[0m\u001b[1;3;38;5;200mRetrieved node with id, entering: node-168\n",
            "\u001b[0m\u001b[1;3;34mRetrieving with query id node-168: What locations does dexcom have a presence in?\n",
            "\u001b[0m"
          ]
        },
        {
          "output_type": "display_data",
          "data": {
            "text/plain": [
              "<IPython.core.display.Markdown object>"
            ],
            "text/markdown": "**Node ID:** node-4<br>**Similarity:** 0.7445489718479577<br>**Text:** 7262(b )) by the \nregistered public accounting firm that prepared or issued its audit report. È \nIf securities are registered pursuant to Section 12(b) of the Act, indicate by check mark whether the financial statements of t he registrant \nincluded in the filing reflect the correction of an error to previously issued financial statements. ‘ \nIndicate by check mark whether any of those error corrections are restatements that required a recovery analysis of incentive-\nbased compensation received by any of the registrant’s executive officers during the relevant recovery period pursuant to §240.10D-1(b). ‘ \nIndicate by check mark whether the registrant is a shell company (as defined in Rule 12b-2 of the Act). Yes ‘NoÈ \nAs of June 30, 2023, the last business day of the registrant’s most recently completed second fiscal quarter, the aggregate mar ket value \nof the registrant’s common stock held by non-affiliates of the registrant was approximately $49.4 billion based on the closing sales price of \n$128.51 per share as reported on the Nasdaq Global Select Market on that date. Shares held by persons who may be deemed affilia tes \nhave been excluded. This determination of affiliate status with respect to the foregoing calculation is not a determination for  other purposes. \nIndicate the number of shares outstanding of each of the registrant’s classes of common stock, as of the latest practicable dat e. \nClass Outstanding at February 1, 2024 \nCommon stock, $0.001 par value per share 385,515,421 \nDOCUMENTS INCORPORATED BY REFERENCE \nPortions of the registrant’s definitive proxy statement relating to its 2024 Annual Meeting of Stockholders (the “Proxy Stateme nt”) \nare incorporated by reference in Part III, Items 10 through 14 of this Annual Report on Form 10-K, as specified in the response s to \nthose item numbers, which proxy statement will be filed with the Securities and Exchange Commission within 120 days after the e nd of \nthe fiscal year covered by this Form 10-K. \n\nD...<br>"
          },
          "metadata": {}
        },
        {
          "output_type": "display_data",
          "data": {
            "text/plain": [
              "<IPython.core.display.Markdown object>"
            ],
            "text/markdown": "**Node ID:** node-168<br>**Similarity:** 0.7294333914871163<br>**Text:** SCHEDULEII–VALUATIONAND QUALIFYINGACCO UNTS\n(Inmillions)\nTwelveMonthsEnded\nDecember31,\nAllowancefordoubtfulacco unts 2023 2022 2021\nBeginningBalance............................................................................................ $7 .3$5 .4$7 .2\nProvisionfordoubt fulaccounts................................................................. 2.02 .4 (1.4)\nWrite-offsandadjustments......................................................................... —( 0.5) (0.5)\nRecoveries.................................................................................................... —— 0.1\nEndingBalance................................................................................................. $9 .3$7 .3$5 .4\nF-44\n\nForw ard-Lookin gStatement s\nThissumm aryrepor tandDexcom’s\nAnnual ReportonForm10-K\n(Annual Report)include statement s\nrelating toDexcom’sbusinessplans ,\nobjectiv es,andexpect edoper ating\nresultsthatare“forward-looking\nstatement s”within themeaning of\nthePrivateSecuritie sLitigation\nReformActof1995.Forward-looking\nstatement sarebasedoncurrent\nexpect ations andassumptions that\naresubjecttorisksanduncertainties\nthat may causeactualresultsto\ndiffermaterially .SeeDexcom’sﬁlings\nwith theSecuritie sandExchange\nCommis sion,including itsmost\nrecentAnnual Report,fora\ndiscussionofimpor tantriskfactors\nthat couldcauseactual eventsor\nresultstodiffermaterially .Office rs\nKevinSayer\nChair man,PresidentandChie fExecutiveOfficer\nDonald M.Abbe y\nExecutiv eVicePresident, Glob alBusinessServices,IT,Quality\nandRegulatoryAffairs\nMichael Brown\nExecutiv eVicePresident, Chie fLegal Office r\nMatthewDolan\nExecutiv eVicePresident, Strategy,CorporateDevelopment\nandDexcomLabs\nPaulFlynn\nExecutiv eVicePresident, Glob alRevenue\nTeriLawver\nExecutiv eVicePresident, Chie fComm ercialOfficer\nJakeLeach\nExecutiv eVicePresident, Chie fOperatingOfficer\nLeverneMarsh\nExecutiv eVicePresident, Marketing\nGirishNagan athan\nExecutiv eVicePresident, Chie fTechn olog yOfficer\nStevenR.Pacelli\nExe...<br>"
          },
          "metadata": {}
        }
      ],
      "source": [
        "nodes = retriever_chunk.retrieve(\n",
        "    \"What locations does dexcom have a presence in?\"\n",
        ")\n",
        "for node in nodes:\n",
        "    display_source_node(node, source_length=2000)"
      ]
    },
    {
      "cell_type": "code",
      "execution_count": 35,
      "id": "411f26ad-d13b-4858-938e-efcfa899e8cd",
      "metadata": {
        "id": "411f26ad-d13b-4858-938e-efcfa899e8cd"
      },
      "outputs": [],
      "source": [
        "query_engine_chunk = RetrieverQueryEngine.from_args(\n",
        "    retriever_chunk, service_context=service_context\n",
        ")"
      ]
    },
    {
      "cell_type": "code",
      "execution_count": 36,
      "id": "4cd98366-0d5f-4d04-87cd-b811990b7485",
      "metadata": {
        "id": "4cd98366-0d5f-4d04-87cd-b811990b7485",
        "colab": {
          "base_uri": "https://localhost:8080/"
        },
        "outputId": "ff009402-6360-45fd-aeca-92f6ffbccf77"
      },
      "outputs": [
        {
          "output_type": "stream",
          "name": "stderr",
          "text": [
            "Setting `pad_token_id` to `eos_token_id`:2 for open-end generation.\n"
          ]
        },
        {
          "output_type": "stream",
          "name": "stdout",
          "text": [
            "\u001b[1;3;34mRetrieving with query id None: What locations does dexcom have a presence in?\n",
            "\u001b[0m\u001b[1;3;38;5;200mRetrieved node with id, entering: node-4\n",
            "\u001b[0m\u001b[1;3;34mRetrieving with query id node-4: What locations does dexcom have a presence in?\n",
            "\u001b[0m\u001b[1;3;38;5;200mRetrieved node with id, entering: node-168\n",
            "\u001b[0m\u001b[1;3;34mRetrieving with query id node-168: What locations does dexcom have a presence in?\n",
            "\u001b[0mThe provided context information does not explicitly state the locations where Dexcom has a presence. However, it does mention that Dexcom's Annual Report on Form 10-K includes a discussion of important risk factors that could cause actual events or results to differ materially, and that officeholders Kevin Sayer, Donald M. Abbe, Michael Brown, Matthew Dolan, Leverne Marsh, Sadie M. Stern, and Jerome M. Sylvain are located in various locations. Additionally, the company's legal counsel, Fenwick & West LLP, is based in San Francisco, California. The company's independent auditors, Ernst & Young LLP, are based in San Diego, California. The company's transfer agent, Equiniti Trust Company, LLC, is based in Newark, New Jersey. However, it is not explicitly stated whether these locations are where Dexcom has a physical presence or if they are merely the locations of the company's legal counsel, independent auditors, and transfer agent.\n"
          ]
        }
      ],
      "source": [
        "response = query_engine_chunk.query(\n",
        "    \"What locations does dexcom have a presence in?\"\n",
        ")\n",
        "print(str(response))"
      ]
    },
    {
      "cell_type": "markdown",
      "id": "3bcc7379-c077-40b7-ba4e-f47f80def0c7",
      "metadata": {
        "id": "3bcc7379-c077-40b7-ba4e-f47f80def0c7"
      },
      "source": [
        "## 2. Metadata References: Summaries + Generated Questions referring to a bigger chunk\n",
        "\n",
        "## Multirepresentation Indexing\n",
        "Now, we will add some additional context that references the source node.\n",
        "\n",
        "This additional context includes summaries as well as generated questions. 'Due to the limited compute I am only extracting questions, but you can uncomment the summarizer to extract summaries.'\n",
        "\n",
        "During query-time, we retrieve smaller chunks, but we follow references to bigger chunks. This allows us to have more context for synthesis."
      ]
    },
    {
      "cell_type": "code",
      "source": [
        "import nest_asyncio\n",
        "\n",
        "nest_asyncio.apply()"
      ],
      "metadata": {
        "id": "VSV8jys5WeO8"
      },
      "id": "VSV8jys5WeO8",
      "execution_count": 37,
      "outputs": []
    },
    {
      "cell_type": "code",
      "execution_count": 38,
      "id": "5c5d6f87-790e-4b82-abb2-cc6944678b00",
      "metadata": {
        "id": "5c5d6f87-790e-4b82-abb2-cc6944678b00"
      },
      "outputs": [],
      "source": [
        "extractors = [\n",
        "    # SummaryExtractor(summaries=[\"self\"], llm=llm, show_progress=True),\n",
        "    QuestionsAnsweredExtractor(questions=1, llm=llm, show_progress=True),\n",
        "]"
      ]
    },
    {
      "cell_type": "code",
      "execution_count": 39,
      "id": "e47c706c-940e-499d-b742-eaf09a230b0d",
      "metadata": {
        "id": "e47c706c-940e-499d-b742-eaf09a230b0d",
        "colab": {
          "base_uri": "https://localhost:8080/"
        },
        "outputId": "7b367073-cf16-40fe-84a6-a5a06e688644"
      },
      "outputs": [
        {
          "output_type": "stream",
          "name": "stderr",
          "text": [
            "\r  0%|          | 0/170 [00:00<?, ?it/s]Setting `pad_token_id` to `eos_token_id`:2 for open-end generation.\n",
            "Setting `pad_token_id` to `eos_token_id`:2 for open-end generation.\n",
            "Setting `pad_token_id` to `eos_token_id`:2 for open-end generation.\n",
            "Setting `pad_token_id` to `eos_token_id`:2 for open-end generation.\n",
            "Setting `pad_token_id` to `eos_token_id`:2 for open-end generation.\n",
            "Setting `pad_token_id` to `eos_token_id`:2 for open-end generation.\n",
            "Setting `pad_token_id` to `eos_token_id`:2 for open-end generation.\n",
            "Setting `pad_token_id` to `eos_token_id`:2 for open-end generation.\n",
            "Setting `pad_token_id` to `eos_token_id`:2 for open-end generation.\n",
            "Setting `pad_token_id` to `eos_token_id`:2 for open-end generation.\n",
            "Setting `pad_token_id` to `eos_token_id`:2 for open-end generation.\n",
            "Setting `pad_token_id` to `eos_token_id`:2 for open-end generation.\n",
            "Setting `pad_token_id` to `eos_token_id`:2 for open-end generation.\n",
            "Setting `pad_token_id` to `eos_token_id`:2 for open-end generation.\n",
            "Setting `pad_token_id` to `eos_token_id`:2 for open-end generation.\n",
            "Setting `pad_token_id` to `eos_token_id`:2 for open-end generation.\n",
            "Setting `pad_token_id` to `eos_token_id`:2 for open-end generation.\n",
            "Setting `pad_token_id` to `eos_token_id`:2 for open-end generation.\n",
            "Setting `pad_token_id` to `eos_token_id`:2 for open-end generation.\n",
            "Setting `pad_token_id` to `eos_token_id`:2 for open-end generation.\n",
            "Setting `pad_token_id` to `eos_token_id`:2 for open-end generation.\n",
            "Setting `pad_token_id` to `eos_token_id`:2 for open-end generation.\n",
            "Setting `pad_token_id` to `eos_token_id`:2 for open-end generation.\n",
            "Setting `pad_token_id` to `eos_token_id`:2 for open-end generation.\n",
            "Setting `pad_token_id` to `eos_token_id`:2 for open-end generation.\n",
            "Setting `pad_token_id` to `eos_token_id`:2 for open-end generation.\n",
            "Setting `pad_token_id` to `eos_token_id`:2 for open-end generation.\n",
            "Setting `pad_token_id` to `eos_token_id`:2 for open-end generation.\n",
            "Setting `pad_token_id` to `eos_token_id`:2 for open-end generation.\n",
            "Setting `pad_token_id` to `eos_token_id`:2 for open-end generation.\n",
            "Setting `pad_token_id` to `eos_token_id`:2 for open-end generation.\n",
            "Setting `pad_token_id` to `eos_token_id`:2 for open-end generation.\n",
            "Setting `pad_token_id` to `eos_token_id`:2 for open-end generation.\n",
            "Setting `pad_token_id` to `eos_token_id`:2 for open-end generation.\n",
            "Setting `pad_token_id` to `eos_token_id`:2 for open-end generation.\n",
            "Setting `pad_token_id` to `eos_token_id`:2 for open-end generation.\n",
            "Setting `pad_token_id` to `eos_token_id`:2 for open-end generation.\n",
            "Setting `pad_token_id` to `eos_token_id`:2 for open-end generation.\n",
            "Setting `pad_token_id` to `eos_token_id`:2 for open-end generation.\n",
            "Setting `pad_token_id` to `eos_token_id`:2 for open-end generation.\n",
            "Setting `pad_token_id` to `eos_token_id`:2 for open-end generation.\n",
            "Setting `pad_token_id` to `eos_token_id`:2 for open-end generation.\n",
            "Setting `pad_token_id` to `eos_token_id`:2 for open-end generation.\n",
            "Setting `pad_token_id` to `eos_token_id`:2 for open-end generation.\n",
            "Setting `pad_token_id` to `eos_token_id`:2 for open-end generation.\n",
            "Setting `pad_token_id` to `eos_token_id`:2 for open-end generation.\n",
            "Setting `pad_token_id` to `eos_token_id`:2 for open-end generation.\n",
            "Setting `pad_token_id` to `eos_token_id`:2 for open-end generation.\n",
            "Setting `pad_token_id` to `eos_token_id`:2 for open-end generation.\n",
            "Setting `pad_token_id` to `eos_token_id`:2 for open-end generation.\n",
            "Setting `pad_token_id` to `eos_token_id`:2 for open-end generation.\n",
            "Setting `pad_token_id` to `eos_token_id`:2 for open-end generation.\n",
            "Setting `pad_token_id` to `eos_token_id`:2 for open-end generation.\n",
            "Setting `pad_token_id` to `eos_token_id`:2 for open-end generation.\n",
            "Setting `pad_token_id` to `eos_token_id`:2 for open-end generation.\n",
            "Setting `pad_token_id` to `eos_token_id`:2 for open-end generation.\n",
            "Setting `pad_token_id` to `eos_token_id`:2 for open-end generation.\n",
            "Setting `pad_token_id` to `eos_token_id`:2 for open-end generation.\n",
            "Setting `pad_token_id` to `eos_token_id`:2 for open-end generation.\n",
            "Setting `pad_token_id` to `eos_token_id`:2 for open-end generation.\n",
            "Setting `pad_token_id` to `eos_token_id`:2 for open-end generation.\n",
            "Setting `pad_token_id` to `eos_token_id`:2 for open-end generation.\n",
            "Setting `pad_token_id` to `eos_token_id`:2 for open-end generation.\n",
            "Setting `pad_token_id` to `eos_token_id`:2 for open-end generation.\n",
            "Setting `pad_token_id` to `eos_token_id`:2 for open-end generation.\n",
            "Setting `pad_token_id` to `eos_token_id`:2 for open-end generation.\n",
            "Setting `pad_token_id` to `eos_token_id`:2 for open-end generation.\n",
            "Setting `pad_token_id` to `eos_token_id`:2 for open-end generation.\n",
            "Setting `pad_token_id` to `eos_token_id`:2 for open-end generation.\n",
            "Setting `pad_token_id` to `eos_token_id`:2 for open-end generation.\n",
            "Setting `pad_token_id` to `eos_token_id`:2 for open-end generation.\n",
            "Setting `pad_token_id` to `eos_token_id`:2 for open-end generation.\n",
            "Setting `pad_token_id` to `eos_token_id`:2 for open-end generation.\n",
            "Setting `pad_token_id` to `eos_token_id`:2 for open-end generation.\n",
            "Setting `pad_token_id` to `eos_token_id`:2 for open-end generation.\n",
            "Setting `pad_token_id` to `eos_token_id`:2 for open-end generation.\n",
            "Setting `pad_token_id` to `eos_token_id`:2 for open-end generation.\n",
            "Setting `pad_token_id` to `eos_token_id`:2 for open-end generation.\n",
            "Setting `pad_token_id` to `eos_token_id`:2 for open-end generation.\n",
            "Setting `pad_token_id` to `eos_token_id`:2 for open-end generation.\n",
            "Setting `pad_token_id` to `eos_token_id`:2 for open-end generation.\n",
            "Setting `pad_token_id` to `eos_token_id`:2 for open-end generation.\n",
            "Setting `pad_token_id` to `eos_token_id`:2 for open-end generation.\n",
            "Setting `pad_token_id` to `eos_token_id`:2 for open-end generation.\n",
            "Setting `pad_token_id` to `eos_token_id`:2 for open-end generation.\n",
            "Setting `pad_token_id` to `eos_token_id`:2 for open-end generation.\n",
            "Setting `pad_token_id` to `eos_token_id`:2 for open-end generation.\n",
            "Setting `pad_token_id` to `eos_token_id`:2 for open-end generation.\n",
            "Setting `pad_token_id` to `eos_token_id`:2 for open-end generation.\n",
            "Setting `pad_token_id` to `eos_token_id`:2 for open-end generation.\n",
            "Setting `pad_token_id` to `eos_token_id`:2 for open-end generation.\n",
            "Setting `pad_token_id` to `eos_token_id`:2 for open-end generation.\n",
            "Setting `pad_token_id` to `eos_token_id`:2 for open-end generation.\n",
            "Setting `pad_token_id` to `eos_token_id`:2 for open-end generation.\n",
            "Setting `pad_token_id` to `eos_token_id`:2 for open-end generation.\n",
            "Setting `pad_token_id` to `eos_token_id`:2 for open-end generation.\n",
            "Setting `pad_token_id` to `eos_token_id`:2 for open-end generation.\n",
            "Setting `pad_token_id` to `eos_token_id`:2 for open-end generation.\n",
            "Setting `pad_token_id` to `eos_token_id`:2 for open-end generation.\n",
            "Setting `pad_token_id` to `eos_token_id`:2 for open-end generation.\n",
            "Setting `pad_token_id` to `eos_token_id`:2 for open-end generation.\n",
            "Setting `pad_token_id` to `eos_token_id`:2 for open-end generation.\n",
            "Setting `pad_token_id` to `eos_token_id`:2 for open-end generation.\n",
            "Setting `pad_token_id` to `eos_token_id`:2 for open-end generation.\n",
            "Setting `pad_token_id` to `eos_token_id`:2 for open-end generation.\n",
            "Setting `pad_token_id` to `eos_token_id`:2 for open-end generation.\n",
            "Setting `pad_token_id` to `eos_token_id`:2 for open-end generation.\n",
            "Setting `pad_token_id` to `eos_token_id`:2 for open-end generation.\n",
            "Setting `pad_token_id` to `eos_token_id`:2 for open-end generation.\n",
            "Setting `pad_token_id` to `eos_token_id`:2 for open-end generation.\n",
            "Setting `pad_token_id` to `eos_token_id`:2 for open-end generation.\n",
            "Setting `pad_token_id` to `eos_token_id`:2 for open-end generation.\n",
            "Setting `pad_token_id` to `eos_token_id`:2 for open-end generation.\n",
            "Setting `pad_token_id` to `eos_token_id`:2 for open-end generation.\n",
            "Setting `pad_token_id` to `eos_token_id`:2 for open-end generation.\n",
            "Setting `pad_token_id` to `eos_token_id`:2 for open-end generation.\n",
            "Setting `pad_token_id` to `eos_token_id`:2 for open-end generation.\n",
            "Setting `pad_token_id` to `eos_token_id`:2 for open-end generation.\n",
            "Setting `pad_token_id` to `eos_token_id`:2 for open-end generation.\n",
            "Setting `pad_token_id` to `eos_token_id`:2 for open-end generation.\n",
            "Setting `pad_token_id` to `eos_token_id`:2 for open-end generation.\n",
            "Setting `pad_token_id` to `eos_token_id`:2 for open-end generation.\n",
            "Setting `pad_token_id` to `eos_token_id`:2 for open-end generation.\n",
            "Setting `pad_token_id` to `eos_token_id`:2 for open-end generation.\n",
            "Setting `pad_token_id` to `eos_token_id`:2 for open-end generation.\n",
            "Setting `pad_token_id` to `eos_token_id`:2 for open-end generation.\n",
            "Setting `pad_token_id` to `eos_token_id`:2 for open-end generation.\n",
            "Setting `pad_token_id` to `eos_token_id`:2 for open-end generation.\n",
            "Setting `pad_token_id` to `eos_token_id`:2 for open-end generation.\n",
            "Setting `pad_token_id` to `eos_token_id`:2 for open-end generation.\n",
            "Setting `pad_token_id` to `eos_token_id`:2 for open-end generation.\n",
            "Setting `pad_token_id` to `eos_token_id`:2 for open-end generation.\n",
            "Setting `pad_token_id` to `eos_token_id`:2 for open-end generation.\n",
            "Setting `pad_token_id` to `eos_token_id`:2 for open-end generation.\n",
            "Setting `pad_token_id` to `eos_token_id`:2 for open-end generation.\n",
            "Setting `pad_token_id` to `eos_token_id`:2 for open-end generation.\n",
            "Setting `pad_token_id` to `eos_token_id`:2 for open-end generation.\n",
            "Setting `pad_token_id` to `eos_token_id`:2 for open-end generation.\n",
            "Setting `pad_token_id` to `eos_token_id`:2 for open-end generation.\n",
            "Setting `pad_token_id` to `eos_token_id`:2 for open-end generation.\n",
            "Setting `pad_token_id` to `eos_token_id`:2 for open-end generation.\n",
            "Setting `pad_token_id` to `eos_token_id`:2 for open-end generation.\n",
            "Setting `pad_token_id` to `eos_token_id`:2 for open-end generation.\n",
            "Setting `pad_token_id` to `eos_token_id`:2 for open-end generation.\n",
            "Setting `pad_token_id` to `eos_token_id`:2 for open-end generation.\n",
            "Setting `pad_token_id` to `eos_token_id`:2 for open-end generation.\n",
            "Setting `pad_token_id` to `eos_token_id`:2 for open-end generation.\n",
            "Setting `pad_token_id` to `eos_token_id`:2 for open-end generation.\n",
            "Setting `pad_token_id` to `eos_token_id`:2 for open-end generation.\n",
            "Setting `pad_token_id` to `eos_token_id`:2 for open-end generation.\n",
            "Setting `pad_token_id` to `eos_token_id`:2 for open-end generation.\n",
            "Setting `pad_token_id` to `eos_token_id`:2 for open-end generation.\n",
            "Setting `pad_token_id` to `eos_token_id`:2 for open-end generation.\n",
            "Setting `pad_token_id` to `eos_token_id`:2 for open-end generation.\n",
            "Setting `pad_token_id` to `eos_token_id`:2 for open-end generation.\n",
            "Setting `pad_token_id` to `eos_token_id`:2 for open-end generation.\n",
            "Setting `pad_token_id` to `eos_token_id`:2 for open-end generation.\n",
            "Setting `pad_token_id` to `eos_token_id`:2 for open-end generation.\n",
            "Setting `pad_token_id` to `eos_token_id`:2 for open-end generation.\n",
            "Setting `pad_token_id` to `eos_token_id`:2 for open-end generation.\n",
            "Setting `pad_token_id` to `eos_token_id`:2 for open-end generation.\n",
            "Setting `pad_token_id` to `eos_token_id`:2 for open-end generation.\n",
            "Setting `pad_token_id` to `eos_token_id`:2 for open-end generation.\n",
            "Setting `pad_token_id` to `eos_token_id`:2 for open-end generation.\n",
            "Setting `pad_token_id` to `eos_token_id`:2 for open-end generation.\n",
            "Setting `pad_token_id` to `eos_token_id`:2 for open-end generation.\n",
            "Setting `pad_token_id` to `eos_token_id`:2 for open-end generation.\n",
            "Setting `pad_token_id` to `eos_token_id`:2 for open-end generation.\n",
            "Setting `pad_token_id` to `eos_token_id`:2 for open-end generation.\n",
            "Setting `pad_token_id` to `eos_token_id`:2 for open-end generation.\n",
            "100%|██████████| 170/170 [30:10<00:00, 10.65s/it]   \n"
          ]
        }
      ],
      "source": [
        "# run metadata extractor across base nodes, get back dictionaries\n",
        "metadata_dicts = []\n",
        "for extractor in extractors:\n",
        "    metadata_dicts.extend(extractor.extract(base_nodes))"
      ]
    },
    {
      "cell_type": "code",
      "execution_count": 40,
      "id": "f18d2109-5fcb-4fd5-b147-23897fed8787",
      "metadata": {
        "id": "f18d2109-5fcb-4fd5-b147-23897fed8787"
      },
      "outputs": [],
      "source": [
        "# all nodes consists of source nodes, along with metadata\n",
        "import copy\n",
        "\n",
        "all_nodes = copy.deepcopy(base_nodes)\n",
        "for idx, d in enumerate(metadata_dicts):\n",
        "    inode_q = IndexNode(\n",
        "        text=d[\"questions_this_excerpt_can_answer\"],\n",
        "        index_id=base_nodes[idx].node_id,\n",
        "    )\n",
        "    # inode_s = IndexNode(\n",
        "    #     text=d[\"section_summary\"], index_id=base_nodes[idx].node_id)\n",
        "    all_nodes.extend([inode_q]) #, inode_s"
      ]
    },
    {
      "cell_type": "code",
      "execution_count": 41,
      "id": "8f90ada6-0969-40cc-a4ec-3579b4900cdd",
      "metadata": {
        "id": "8f90ada6-0969-40cc-a4ec-3579b4900cdd"
      },
      "outputs": [],
      "source": [
        "all_nodes_dict = {n.node_id: n for n in all_nodes}"
      ]
    },
    {
      "cell_type": "code",
      "source": [
        "vector_index_metadata = VectorStoreIndex(all_nodes, service_context=service_context)\n",
        "vector_retriever_metadata = vector_index_metadata.as_retriever(similarity_top_k=2)"
      ],
      "metadata": {
        "id": "iEL31kfc5Fnp"
      },
      "id": "iEL31kfc5Fnp",
      "execution_count": 42,
      "outputs": []
    },
    {
      "cell_type": "code",
      "execution_count": 43,
      "id": "37ae791f-c183-4ad4-9a3a-253288ded5a7",
      "metadata": {
        "id": "37ae791f-c183-4ad4-9a3a-253288ded5a7"
      },
      "outputs": [],
      "source": [
        "retriever_metadata = RecursiveRetriever(\n",
        "    \"vector\",\n",
        "    retriever_dict={\"vector\": vector_retriever_metadata},\n",
        "    node_dict=all_nodes_dict,\n",
        "    verbose=True,\n",
        ")"
      ]
    },
    {
      "cell_type": "code",
      "execution_count": 44,
      "id": "3cd85685-19eb-44cc-ad27-1d163eaddad6",
      "metadata": {
        "id": "3cd85685-19eb-44cc-ad27-1d163eaddad6",
        "colab": {
          "base_uri": "https://localhost:8080/",
          "height": 794
        },
        "outputId": "3e0dc681-11ed-4627-ec68-67e37ab617cc"
      },
      "outputs": [
        {
          "output_type": "stream",
          "name": "stdout",
          "text": [
            "\u001b[1;3;34mRetrieving with query id None: What locations does dexcom have a presence in?\n",
            "\u001b[0m\u001b[1;3;38;5;200mRetrieved node with id, entering: node-106\n",
            "\u001b[0m\u001b[1;3;34mRetrieving with query id node-106: What locations does dexcom have a presence in?\n",
            "\u001b[0m\u001b[1;3;38;5;200mRetrieved node with id, entering: node-126\n",
            "\u001b[0m\u001b[1;3;34mRetrieving with query id node-126: What locations does dexcom have a presence in?\n",
            "\u001b[0m"
          ]
        },
        {
          "output_type": "display_data",
          "data": {
            "text/plain": [
              "<IPython.core.display.Markdown object>"
            ],
            "text/markdown": "**Node ID:** node-106<br>**Similarity:** 0.751852563005777<br>**Text:** Overview\nWhoWeAre\nWeaream edicaldevicecompany primarilyfocusedonthedesign,developmentandcomme rcializationof\ncontinuous glucosemonitoring,orCGM,systemsforthemanagem entofdiabetesbypatients,caregivers,and\ncliniciansaroundtheworld.\nWereceivedapprovalfromtheFoodandDrugAdministration,orFDA,andcomme rcializedourfirstproductin\n2006.Welaunchedourlatestgene rationsystems,theDexcomG6®integratedContinuous GlucoseMonitoring\nSystem,orG6,in2018andmorerecentlyreceivedmarketingclearancefromtheFDAontheDexcomG7®,or\nG7,inDecember2022.\nUnlessthecontextrequiresotherwise,theterms“we,”“us,”“our,”the“company,”or“Dexcom”refertoDexCom,\nInc.anditssubsidiaries.\nGlobalPresence\nWehavebuiltadirectsalesorganizationinNorthAmericaandcertaininternationalmarketstocallonhealth\ncareprofessionals,suchasendocrinologists,physiciansanddiabeteseduc ators,whocaneduc ateand\ninfluenc epatientadoptionofcontinuous glucosemonitoring.Tocomplementourdirectsalesefforts,wehave\nenteredintodistributionarrangementsinNorthAmericaandseveralinternationalmarketsthatallowdistributors\ntosellourproduc ts.\nFutureDevelopments\nProduc tDevelopment:Weplantodevelopfuturegener ationsoftechnologiesthatarefocusedonimproved\nperformanceandconvenienceandthatwillenabl eintelligentinsulinadministration.Overthelonger term,we\nplantocontinuetodevelopandimprovenetworkedplatformswithopenarchitecture,connec tivityand\ntransmitterscapableofcommunicatingwithotherdevices.Wealsointendtoexpand oureffortstoaccumulate\nCGMpatientdataandmetricsandapplypredictivemodelingandmachinelearningtogener ateinteractiveCGM\ninsightsthatcaninformpatientbehavior.\nPartnerships:Wealsocontinuetopursueandsupportdevelopmentpartnershipswithinsulinpumpcompanies\nandcompaniesorinstitutionsdevelopinginsulindeliverysystems,includingautomatedinsulindeliverysystems.\nNewOppor tunities:Wearealsoexploringhow toextendourofferingstootheroppor tunities,includingfor\npeoplewithType2diabetesthatarenon-insulinusing,peopl ewithpre-diabetes,peoplewhoareobese,peopl e\nwhoarepregnant,andpeopl e...<br>"
          },
          "metadata": {}
        },
        {
          "output_type": "display_data",
          "data": {
            "text/plain": [
              "<IPython.core.display.Markdown object>"
            ],
            "text/markdown": "**Node ID:** node-126<br>**Similarity:** 0.7492809112610931<br>**Text:** Ourauditproceduresalsoincluded, amongothers,evaluatingthesignificantassumptionsand\ntheaccuracyandcompletenessoftheunder lyingdatausedinmanagem ent’scalculations.\nThisincluded testingcontractualrates,managem ent’sestimatesofproductssoldsubjectto\nrebate,andinventoryheldbythirdpartiesattheendoftheperiod,throughacombinationof\nunder lyingdatavalidationbyinspectionofsourcedocuments,agreementtounder lying\ncontracts,andreviewforconsistencyagainsthistoricaldata.Inaddition,weinspectedthe\nresultsoftheCompany’sanalysisofpharmacyrebatesclaimedandevaluatedtheestimates\nmadebasedonhistoricalexperience.\n/s/Ernst&Young LLP\nWehaveservedastheCompany’sauditorsince2000.\nSanDiego,California\nFebruary8,2024\nF-3\n\nDexCom,Inc.\nConsolidatedBalanceSheets\nDecember31,\n2023 2022\n(Inmillions,exceptparvaluedata)\nAssets\nCurrentassets:.......................................................................................................................\nCashandcashequivalents............................................................................................. $5 66.3$ 642.3\nShort-termmarketablesecurities................................................................................... 2,157.81 ,813.9\nAccountsreceivable,net................................................................................................. 973.97 13.3\nInventory............................................................................................................................ 559.63 06.7\nPrepaidandothercurrentassets................................................................................... 168.31 92.6\nTotalcurrentassets..................................................................................................... 4,425.93 ,668.8\nPropertyandequipment,net............................................................................................... 1,113.11 ,055.6\nOperatingleaseright-of-useassets................................................................................... 71.4 80.0\nGoodwi...<br>"
          },
          "metadata": {}
        }
      ],
      "source": [
        "nodes = retriever_metadata.retrieve(\n",
        "    \"What locations does dexcom have a presence in?\"\n",
        ")\n",
        "for node in nodes:\n",
        "    display_source_node(node, source_length=2000)"
      ]
    },
    {
      "cell_type": "code",
      "execution_count": 45,
      "id": "5285854a-69a6-4bc4-a2a5-1004cc790a63",
      "metadata": {
        "id": "5285854a-69a6-4bc4-a2a5-1004cc790a63"
      },
      "outputs": [],
      "source": [
        "query_engine_metadata = RetrieverQueryEngine.from_args(\n",
        "    retriever_metadata, service_context=service_context\n",
        ")"
      ]
    },
    {
      "cell_type": "code",
      "execution_count": 46,
      "id": "4e0ada5c-9a83-4517-bbb7-899d4415d68a",
      "metadata": {
        "id": "4e0ada5c-9a83-4517-bbb7-899d4415d68a",
        "colab": {
          "base_uri": "https://localhost:8080/"
        },
        "outputId": "73b222f9-3117-4f48-dcd4-98b6c02210d2"
      },
      "outputs": [
        {
          "output_type": "stream",
          "name": "stderr",
          "text": [
            "Setting `pad_token_id` to `eos_token_id`:2 for open-end generation.\n"
          ]
        },
        {
          "output_type": "stream",
          "name": "stdout",
          "text": [
            "\u001b[1;3;34mRetrieving with query id None: What locations does dexcom have a presence in?\n",
            "\u001b[0m\u001b[1;3;38;5;200mRetrieved node with id, entering: node-106\n",
            "\u001b[0m\u001b[1;3;34mRetrieving with query id node-106: What locations does dexcom have a presence in?\n",
            "\u001b[0m\u001b[1;3;38;5;200mRetrieved node with id, entering: node-126\n",
            "\u001b[0m\u001b[1;3;34mRetrieving with query id node-126: What locations does dexcom have a presence in?\n",
            "\u001b[0mThe text mentions that dexcom has built a direct sales organization in North America and certain international markets to call on healthcare professionals, such as endocrinologists, physicians, and diabetes educators, who can educate and influence patient adoption of continuous glucose monitoring. However, the specific international markets are not explicitly listed.\n"
          ]
        }
      ],
      "source": [
        "response = query_engine_metadata.query(\n",
        "    \"What locations does dexcom have a presence in?\"\n",
        ")\n",
        "print(str(response))"
      ]
    },
    {
      "cell_type": "code",
      "source": [],
      "metadata": {
        "id": "bzOR8tPQnRS-"
      },
      "id": "bzOR8tPQnRS-",
      "execution_count": 46,
      "outputs": []
    },
    {
      "cell_type": "code",
      "source": [
        "import locale\n",
        "locale.getpreferredencoding = lambda: \"UTF-8\"\n",
        "!pip install cohere"
      ],
      "metadata": {
        "colab": {
          "base_uri": "https://localhost:8080/"
        },
        "id": "Yt52dxNanROO",
        "outputId": "eeb9c5fb-5afd-4a62-8165-4a3a4c265e0e"
      },
      "id": "Yt52dxNanROO",
      "execution_count": 47,
      "outputs": [
        {
          "output_type": "stream",
          "name": "stdout",
          "text": [
            "Collecting cohere\n",
            "  Downloading cohere-5.5.0-py3-none-any.whl (158 kB)\n",
            "\u001b[2K     \u001b[90m━━━━━━━━━━━━━━━━━━━━━━━━━━━━━━━━━━━━━━━━\u001b[0m \u001b[32m158.5/158.5 kB\u001b[0m \u001b[31m3.0 MB/s\u001b[0m eta \u001b[36m0:00:00\u001b[0m\n",
            "\u001b[?25hCollecting boto3<2.0.0,>=1.34.0 (from cohere)\n",
            "  Downloading boto3-1.34.109-py3-none-any.whl (139 kB)\n",
            "\u001b[2K     \u001b[90m━━━━━━━━━━━━━━━━━━━━━━━━━━━━━━━━━━━━━━━━\u001b[0m \u001b[32m139.3/139.3 kB\u001b[0m \u001b[31m7.6 MB/s\u001b[0m eta \u001b[36m0:00:00\u001b[0m\n",
            "\u001b[?25hCollecting fastavro<2.0.0,>=1.9.4 (from cohere)\n",
            "  Downloading fastavro-1.9.4-cp310-cp310-manylinux_2_17_x86_64.manylinux2014_x86_64.whl (3.1 MB)\n",
            "\u001b[2K     \u001b[90m━━━━━━━━━━━━━━━━━━━━━━━━━━━━━━━━━━━━━━━━\u001b[0m \u001b[32m3.1/3.1 MB\u001b[0m \u001b[31m12.3 MB/s\u001b[0m eta \u001b[36m0:00:00\u001b[0m\n",
            "\u001b[?25hRequirement already satisfied: httpx>=0.21.2 in /usr/local/lib/python3.10/dist-packages (from cohere) (0.27.0)\n",
            "Collecting httpx-sse<0.5.0,>=0.4.0 (from cohere)\n",
            "  Downloading httpx_sse-0.4.0-py3-none-any.whl (7.8 kB)\n",
            "Requirement already satisfied: pydantic>=1.9.2 in /usr/local/lib/python3.10/dist-packages (from cohere) (2.7.1)\n",
            "Requirement already satisfied: requests<3.0.0,>=2.0.0 in /usr/local/lib/python3.10/dist-packages (from cohere) (2.31.0)\n",
            "Requirement already satisfied: tokenizers<0.20,>=0.19 in /usr/local/lib/python3.10/dist-packages (from cohere) (0.19.1)\n",
            "Collecting types-requests<3.0.0,>=2.0.0 (from cohere)\n",
            "  Downloading types_requests-2.32.0.20240521-py3-none-any.whl (15 kB)\n",
            "Requirement already satisfied: typing_extensions>=4.0.0 in /usr/local/lib/python3.10/dist-packages (from cohere) (4.11.0)\n",
            "Collecting botocore<1.35.0,>=1.34.109 (from boto3<2.0.0,>=1.34.0->cohere)\n",
            "  Downloading botocore-1.34.109-py3-none-any.whl (12.2 MB)\n",
            "\u001b[2K     \u001b[90m━━━━━━━━━━━━━━━━━━━━━━━━━━━━━━━━━━━━━━━━\u001b[0m \u001b[32m12.2/12.2 MB\u001b[0m \u001b[31m36.7 MB/s\u001b[0m eta \u001b[36m0:00:00\u001b[0m\n",
            "\u001b[?25hCollecting jmespath<2.0.0,>=0.7.1 (from boto3<2.0.0,>=1.34.0->cohere)\n",
            "  Downloading jmespath-1.0.1-py3-none-any.whl (20 kB)\n",
            "Collecting s3transfer<0.11.0,>=0.10.0 (from boto3<2.0.0,>=1.34.0->cohere)\n",
            "  Downloading s3transfer-0.10.1-py3-none-any.whl (82 kB)\n",
            "\u001b[2K     \u001b[90m━━━━━━━━━━━━━━━━━━━━━━━━━━━━━━━━━━━━━━━━\u001b[0m \u001b[32m82.2/82.2 kB\u001b[0m \u001b[31m12.6 MB/s\u001b[0m eta \u001b[36m0:00:00\u001b[0m\n",
            "\u001b[?25hRequirement already satisfied: anyio in /usr/local/lib/python3.10/dist-packages (from httpx>=0.21.2->cohere) (3.7.1)\n",
            "Requirement already satisfied: certifi in /usr/local/lib/python3.10/dist-packages (from httpx>=0.21.2->cohere) (2024.2.2)\n",
            "Requirement already satisfied: httpcore==1.* in /usr/local/lib/python3.10/dist-packages (from httpx>=0.21.2->cohere) (1.0.5)\n",
            "Requirement already satisfied: idna in /usr/local/lib/python3.10/dist-packages (from httpx>=0.21.2->cohere) (3.7)\n",
            "Requirement already satisfied: sniffio in /usr/local/lib/python3.10/dist-packages (from httpx>=0.21.2->cohere) (1.3.1)\n",
            "Requirement already satisfied: h11<0.15,>=0.13 in /usr/local/lib/python3.10/dist-packages (from httpcore==1.*->httpx>=0.21.2->cohere) (0.14.0)\n",
            "Requirement already satisfied: annotated-types>=0.4.0 in /usr/local/lib/python3.10/dist-packages (from pydantic>=1.9.2->cohere) (0.6.0)\n",
            "Requirement already satisfied: pydantic-core==2.18.2 in /usr/local/lib/python3.10/dist-packages (from pydantic>=1.9.2->cohere) (2.18.2)\n",
            "Requirement already satisfied: charset-normalizer<4,>=2 in /usr/local/lib/python3.10/dist-packages (from requests<3.0.0,>=2.0.0->cohere) (3.3.2)\n",
            "Requirement already satisfied: urllib3<3,>=1.21.1 in /usr/local/lib/python3.10/dist-packages (from requests<3.0.0,>=2.0.0->cohere) (2.0.7)\n",
            "Requirement already satisfied: huggingface-hub<1.0,>=0.16.4 in /usr/local/lib/python3.10/dist-packages (from tokenizers<0.20,>=0.19->cohere) (0.23.0)\n",
            "Requirement already satisfied: python-dateutil<3.0.0,>=2.1 in /usr/local/lib/python3.10/dist-packages (from botocore<1.35.0,>=1.34.109->boto3<2.0.0,>=1.34.0->cohere) (2.8.2)\n",
            "Requirement already satisfied: filelock in /usr/local/lib/python3.10/dist-packages (from huggingface-hub<1.0,>=0.16.4->tokenizers<0.20,>=0.19->cohere) (3.14.0)\n",
            "Requirement already satisfied: fsspec>=2023.5.0 in /usr/local/lib/python3.10/dist-packages (from huggingface-hub<1.0,>=0.16.4->tokenizers<0.20,>=0.19->cohere) (2023.6.0)\n",
            "Requirement already satisfied: packaging>=20.9 in /usr/local/lib/python3.10/dist-packages (from huggingface-hub<1.0,>=0.16.4->tokenizers<0.20,>=0.19->cohere) (23.2)\n",
            "Requirement already satisfied: pyyaml>=5.1 in /usr/local/lib/python3.10/dist-packages (from huggingface-hub<1.0,>=0.16.4->tokenizers<0.20,>=0.19->cohere) (6.0.1)\n",
            "Requirement already satisfied: tqdm>=4.42.1 in /usr/local/lib/python3.10/dist-packages (from huggingface-hub<1.0,>=0.16.4->tokenizers<0.20,>=0.19->cohere) (4.66.4)\n",
            "Requirement already satisfied: exceptiongroup in /usr/local/lib/python3.10/dist-packages (from anyio->httpx>=0.21.2->cohere) (1.2.1)\n",
            "Requirement already satisfied: six>=1.5 in /usr/local/lib/python3.10/dist-packages (from python-dateutil<3.0.0,>=2.1->botocore<1.35.0,>=1.34.109->boto3<2.0.0,>=1.34.0->cohere) (1.16.0)\n",
            "Installing collected packages: types-requests, jmespath, httpx-sse, fastavro, botocore, s3transfer, boto3, cohere\n",
            "Successfully installed boto3-1.34.109 botocore-1.34.109 cohere-5.5.0 fastavro-1.9.4 httpx-sse-0.4.0 jmespath-1.0.1 s3transfer-0.10.1 types-requests-2.32.0.20240521\n"
          ]
        }
      ]
    },
    {
      "cell_type": "code",
      "source": [
        " !pip install -qqq llama-index llama-hub cohere langchain openai accelerate==0.21.0 bitsandbytes==0.40.2 transformers sentence_transformers InstructorEmbedding"
      ],
      "metadata": {
        "id": "kvlo4IminR8W"
      },
      "id": "kvlo4IminR8W",
      "execution_count": 48,
      "outputs": []
    },
    {
      "cell_type": "code",
      "source": [
        " import nest_asyncio\n",
        "# nest_asyncio.apply()\n",
        "\n",
        "import logging\n",
        "import sys\n",
        "\n",
        "logging.basicConfig(stream=sys.stdout, level=logging.INFO)\n",
        "logging.getLogger().addHandler(logging.StreamHandler(stream=sys.stdout))\n",
        "\n",
        "import json\n",
        "import torch\n",
        "from pathlib import Path\n",
        "import pandas as pd\n",
        "pd.set_option(\"display.max_colwidth\", 0)\n",
        "\n",
        "from copy import deepcopy\n",
        "\n",
        "# transformers\n",
        "from transformers import BitsAndBytesConfig\n",
        "\n",
        "# llama_index\n",
        "from llama_index.core import PromptTemplate\n",
        "from llama_index.llms.huggingface import HuggingFaceLLM\n",
        "from llama_index.core import download_loader, Document, VectorStoreIndex, ServiceContext\n",
        "from llama_index.core.node_parser import SentenceSplitter\n",
        "from llama_index.core.schema import IndexNode\n",
        "from langchain.embeddings import HuggingFaceInstructEmbeddings\n",
        "\n",
        "from llama_index.core.indices.query.query_transform import HyDEQueryTransform\n",
        "from llama_index.core.query_engine.transform_query_engine import TransformQueryEngine\n",
        "\n",
        "from IPython.display import Markdown, display\n",
        "from llama_index.core.response.notebook_utils import display_source_node\n",
        "\n",
        "from llama_index.core.query_engine import RetrieverQueryEngine\n",
        "from IPython.display import Markdown, display, HTML\n",
        "from llama_index.core.retrievers import VectorIndexRetriever\n",
        "\n",
        "from sentence_transformers import SentenceTransformer\n",
        "\n",
        "DEVICE = \"cuda:0\" if torch.cuda.is_available() else \"cpu\""
      ],
      "metadata": {
        "id": "xMty9pTKnXoy"
      },
      "id": "xMty9pTKnXoy",
      "execution_count": 49,
      "outputs": []
    },
    {
      "cell_type": "code",
      "source": [
        "PDFReader = download_loader(\"PDFReader\")\n",
        "loader = PDFReader()\n",
        "docs = loader.load_data(file=Path(\"/content/Dexcom.pdf\"))"
      ],
      "metadata": {
        "id": "s9nBNhp-nnHB",
        "colab": {
          "base_uri": "https://localhost:8080/"
        },
        "outputId": "6c95f39a-5032-45b3-c104-a6c5360e1a4d"
      },
      "id": "s9nBNhp-nnHB",
      "execution_count": 50,
      "outputs": [
        {
          "output_type": "stream",
          "name": "stderr",
          "text": [
            "<ipython-input-50-61c312707c31>:1: DeprecationWarning: Call to deprecated function (or staticmethod) download_loader. (`download_loader()` is deprecated. Please install tool using pip install directly instead.)\n",
            "  PDFReader = download_loader(\"PDFReader\")\n"
          ]
        }
      ]
    },
    {
      "cell_type": "code",
      "source": [
        "node_parser = SentenceSplitter(chunk_size=256)\n",
        "nodes = node_parser.get_nodes_from_documents(docs)"
      ],
      "metadata": {
        "id": "x-qiEZbUnp_d"
      },
      "id": "x-qiEZbUnp_d",
      "execution_count": 51,
      "outputs": []
    },
    {
      "cell_type": "code",
      "source": [
        "len(nodes)"
      ],
      "metadata": {
        "colab": {
          "base_uri": "https://localhost:8080/"
        },
        "id": "H8FbC0yynt8-",
        "outputId": "f3eee639-184a-40fd-b7fc-34979bc53117"
      },
      "id": "H8FbC0yynt8-",
      "execution_count": 52,
      "outputs": [
        {
          "output_type": "execute_result",
          "data": {
            "text/plain": [
              "1479"
            ]
          },
          "metadata": {},
          "execution_count": 52
        }
      ]
    },
    {
      "cell_type": "code",
      "source": [
        "# from google.colab import userdata\n",
        "\n",
        "# # huggingface api token\n",
        "# hf_token = userdata.get('hf_token')\n",
        "\n",
        "# quantization_config = BitsAndBytesConfig(\n",
        "#     load_in_4bit=True,\n",
        "#     bnb_4bit_compute_dtype=torch.float16,\n",
        "#     bnb_4bit_quant_type=\"nf4\",\n",
        "#     bnb_4bit_use_double_quant=True,\n",
        "# )\n",
        "\n",
        "\n",
        "# def messages_to_prompt(messages):\n",
        "#   prompt = \"\"\n",
        "#   for message in messages:\n",
        "#     if message.role == 'system':\n",
        "#       prompt += f\"<|system|>\\n{message.content}</s>\\n\"\n",
        "#     elif message.role == 'user':\n",
        "#       prompt += f\"<|user|>\\n{message.content}</s>\\n\"\n",
        "#     elif message.role == 'assistant':\n",
        "#       prompt += f\"<|assistant|>\\n{message.content}</s>\\n\"\n",
        "\n",
        "#   # ensure we start with a system prompt, insert blank if needed\n",
        "#   if not prompt.startswith(\"<|system|>\\n\"):\n",
        "#     prompt = \"<|system|>\\n</s>\\n\" + prompt\n",
        "\n",
        "#   # add final assistant prompt\n",
        "#   prompt = prompt + \"<|assistant|>\\n\"\n",
        "\n",
        "#   return prompt\n",
        "\n",
        "\n",
        "# llm = HuggingFaceLLM(\n",
        "#     model_name=\"HuggingFaceH4/zephyr-7b-alpha\",\n",
        "#     tokenizer_name=\"HuggingFaceH4/zephyr-7b-alpha\",\n",
        "#     query_wrapper_prompt=PromptTemplate(\"<|system|>\\n</s>\\n<|user|>\\n{query_str}</s>\\n<|assistant|>\\n\"),\n",
        "#     context_window=3900,\n",
        "#     max_new_tokens=256,\n",
        "#     model_kwargs={\"quantization_config\": quantization_config},\n",
        "#     # tokenizer_kwargs={},\n",
        "#     generate_kwargs={\"temperature\": 0.7, \"top_k\": 50, \"top_p\": 0.95, \"do_sample\":True},\n",
        "#     messages_to_prompt=messages_to_prompt,\n",
        "#     device_map=\"auto\",\n",
        "# )"
      ],
      "metadata": {
        "id": "gaR6D8j_nu8o"
      },
      "id": "gaR6D8j_nu8o",
      "execution_count": 53,
      "outputs": []
    },
    {
      "cell_type": "code",
      "source": [
        "# from langchain_community.embeddings import HuggingFaceInstructEmbeddings\n",
        "\n",
        "# embed_model = HuggingFaceInstructEmbeddings(model_name=\"BAAI/bge-large-en-v1.5\")"
      ],
      "metadata": {
        "id": "wFOTZrRWn096"
      },
      "id": "wFOTZrRWn096",
      "execution_count": 54,
      "outputs": []
    },
    {
      "cell_type": "code",
      "source": [
        "# ServiceContext\n",
        "service_context = ServiceContext.from_defaults(llm=llm,\n",
        "                                               embed_model=embed_model\n",
        "                                               )\n",
        "\n",
        "# index\n",
        "vector_index = VectorStoreIndex(\n",
        "    nodes, service_context=service_context\n",
        ")"
      ],
      "metadata": {
        "id": "-wbppJien1hc",
        "colab": {
          "base_uri": "https://localhost:8080/"
        },
        "outputId": "21f955e1-8cd7-4630-b589-34b9fb10fb50"
      },
      "id": "-wbppJien1hc",
      "execution_count": 55,
      "outputs": [
        {
          "output_type": "stream",
          "name": "stderr",
          "text": [
            "<ipython-input-55-f64843cb710e>:2: DeprecationWarning: Call to deprecated class method from_defaults. (ServiceContext is deprecated, please use `llama_index.settings.Settings` instead.) -- Deprecated since version 0.10.0.\n",
            "  service_context = ServiceContext.from_defaults(llm=llm,\n"
          ]
        }
      ]
    },
    {
      "cell_type": "code",
      "source": [],
      "metadata": {
        "id": "f5WWwqwMvM2m"
      },
      "id": "f5WWwqwMvM2m",
      "execution_count": 55,
      "outputs": []
    },
    {
      "cell_type": "markdown",
      "source": [
        "## 3. HyDE Query Transformation"
      ],
      "metadata": {
        "id": "QVBwcTsgZMvY"
      },
      "id": "QVBwcTsgZMvY"
    },
    {
      "cell_type": "code",
      "source": [
        "#What locations does dexcom have a presence in?\n",
        "query_str = \"What locations does dexcom have a presence in?\""
      ],
      "metadata": {
        "id": "XhhnT0LBn4uJ"
      },
      "id": "XhhnT0LBn4uJ",
      "execution_count": 56,
      "outputs": []
    },
    {
      "cell_type": "code",
      "source": [
        "query_engine = vector_index.as_query_engine()\n",
        "response = query_engine.query(query_str)\n",
        "display(Markdown(f\"<b>{response}</b>\"))"
      ],
      "metadata": {
        "colab": {
          "base_uri": "https://localhost:8080/",
          "height": 65
        },
        "id": "sh0h0t_kn6Vi",
        "outputId": "32b6765d-a821-4939-b8cd-add0002e5e9e"
      },
      "id": "sh0h0t_kn6Vi",
      "execution_count": 57,
      "outputs": [
        {
          "output_type": "stream",
          "name": "stderr",
          "text": [
            "Setting `pad_token_id` to `eos_token_id`:2 for open-end generation.\n"
          ]
        },
        {
          "output_type": "display_data",
          "data": {
            "text/plain": [
              "<IPython.core.display.Markdown object>"
            ],
            "text/markdown": "<b>Dexcom has a presence in San Diego, California, Mesa, Arizona, and Penang, Malaysia.</b>"
          },
          "metadata": {}
        }
      ]
    },
    {
      "cell_type": "code",
      "source": [
        "#What locations does dexcom have a presence in?\n",
        "query_str = \"What is the address of Dexcom's headquarters and the locations where they deliver their components?\"\n",
        "query_engine = vector_index.as_query_engine()\n",
        "response = query_engine.query(query_str)\n",
        "display(Markdown(f\"<b>{response}</b>\"))"
      ],
      "metadata": {
        "colab": {
          "base_uri": "https://localhost:8080/",
          "height": 99
        },
        "id": "hZ-3zQskpR4n",
        "outputId": "a2f74576-c89f-4911-a8af-5ba234552821"
      },
      "id": "hZ-3zQskpR4n",
      "execution_count": 58,
      "outputs": [
        {
          "output_type": "stream",
          "name": "stderr",
          "text": [
            "Setting `pad_token_id` to `eos_token_id`:2 for open-end generation.\n"
          ]
        },
        {
          "output_type": "display_data",
          "data": {
            "text/plain": [
              "<IPython.core.display.Markdown object>"
            ],
            "text/markdown": "<b>The address of Dexcom's headquarters is 634 Sequence Drive, San Diego, CA 92121. The locations where they deliver their components are not explicitly mentioned in the given context information. However, it is mentioned that they have three manufacturing facilities located in San Diego, California, Mesa, Arizona, and Penang, Malaysia.</b>"
          },
          "metadata": {}
        }
      ]
    },
    {
      "cell_type": "code",
      "source": [
        "hyde = HyDEQueryTransform(include_original=True, llm=llm)\n",
        "hyde_query_engine = TransformQueryEngine(query_engine, hyde)\n",
        "response = hyde_query_engine.query(query_str)\n",
        "display(Markdown(f\"<b>{response}</b>\"))"
      ],
      "metadata": {
        "colab": {
          "base_uri": "https://localhost:8080/",
          "height": 83
        },
        "id": "QlCXKrnioBk1",
        "outputId": "ed8046e0-3e39-4ad6-9808-c9154c47286a"
      },
      "id": "QlCXKrnioBk1",
      "execution_count": 59,
      "outputs": [
        {
          "output_type": "stream",
          "name": "stderr",
          "text": [
            "Setting `pad_token_id` to `eos_token_id`:2 for open-end generation.\n",
            "Setting `pad_token_id` to `eos_token_id`:2 for open-end generation.\n"
          ]
        },
        {
          "output_type": "display_data",
          "data": {
            "text/plain": [
              "<IPython.core.display.Markdown object>"
            ],
            "text/markdown": "<b>The provided context information does not include the address of Dexcom's headquarters or the locations where they deliver their components.</b>"
          },
          "metadata": {}
        }
      ]
    },
    {
      "cell_type": "code",
      "source": [
        "# To look at the hyde doc\n",
        "query_bundle = hyde(query_str)\n",
        "hyde_doc = query_bundle.embedding_strs[0]\n",
        "hyde_doc"
      ],
      "metadata": {
        "id": "cHHKMVzrI1LK",
        "colab": {
          "base_uri": "https://localhost:8080/",
          "height": 145
        },
        "outputId": "2a599aa9-8266-40b2-b943-6215435ffee3"
      },
      "id": "cHHKMVzrI1LK",
      "execution_count": 60,
      "outputs": [
        {
          "output_type": "stream",
          "name": "stderr",
          "text": [
            "Setting `pad_token_id` to `eos_token_id`:2 for open-end generation.\n"
          ]
        },
        {
          "output_type": "execute_result",
          "data": {
            "text/plain": [
              "\"Dexcom, a leading manufacturer of continuous glucose monitoring (CGM) systems, has its headquarters located at 100 Dexcom Drive, San Diego, California, USA. The company's components are delivered to various locations worldwide, including the United States, Canada, Europe, Asia, and Australia. Dexcom's products are distributed through a network of authorized distributors and directly to healthcare providers and patients. The company's CGM systems are designed to provide real-time glucose monitoring, enabling individuals with diabetes to better manage their condition and improve their overall health outcomes. Dexcom's headquarters is a state-of-the-art facility that houses research and development, manufacturing, and administrative functions. The company's commitment to innovation and excellence has earned it numerous awards and accolades, including being named one of the fastest-growing companies in the world by Fortune magazine.\""
            ],
            "application/vnd.google.colaboratory.intrinsic+json": {
              "type": "string"
            }
          },
          "metadata": {},
          "execution_count": 60
        }
      ]
    },
    {
      "cell_type": "code",
      "source": [],
      "metadata": {
        "id": "nVhy9IRKUloa"
      },
      "id": "nVhy9IRKUloa",
      "execution_count": 60,
      "outputs": []
    }
  ],
  "metadata": {
    "kernelspec": {
      "display_name": "Python 3",
      "name": "python3"
    },
    "language_info": {
      "codemirror_mode": {
        "name": "ipython",
        "version": 3
      },
      "file_extension": ".py",
      "mimetype": "text/x-python",
      "name": "python",
      "nbconvert_exporter": "python",
      "pygments_lexer": "ipython3"
    },
    "colab": {
      "provenance": [],
      "gpuType": "T4"
    },
    "accelerator": "GPU",
    "widgets": {
      "application/vnd.jupyter.widget-state+json": {
        "39ce8f01e44c492db974973b205d741e": {
          "model_module": "@jupyter-widgets/controls",
          "model_name": "HBoxModel",
          "model_module_version": "1.5.0",
          "state": {
            "_dom_classes": [],
            "_model_module": "@jupyter-widgets/controls",
            "_model_module_version": "1.5.0",
            "_model_name": "HBoxModel",
            "_view_count": null,
            "_view_module": "@jupyter-widgets/controls",
            "_view_module_version": "1.5.0",
            "_view_name": "HBoxView",
            "box_style": "",
            "children": [
              "IPY_MODEL_fca566f56c644f33b54b77224aefbb89",
              "IPY_MODEL_71547ffb109c4355920f7b5eccc0361f",
              "IPY_MODEL_8f2a7e97d3a8453db6c096f9600d5c07"
            ],
            "layout": "IPY_MODEL_0dbb8b5ae08a479f9a8c90cd615a787f"
          }
        },
        "fca566f56c644f33b54b77224aefbb89": {
          "model_module": "@jupyter-widgets/controls",
          "model_name": "HTMLModel",
          "model_module_version": "1.5.0",
          "state": {
            "_dom_classes": [],
            "_model_module": "@jupyter-widgets/controls",
            "_model_module_version": "1.5.0",
            "_model_name": "HTMLModel",
            "_view_count": null,
            "_view_module": "@jupyter-widgets/controls",
            "_view_module_version": "1.5.0",
            "_view_name": "HTMLView",
            "description": "",
            "description_tooltip": null,
            "layout": "IPY_MODEL_18a1aa62e9ff405a80ba607e2533fb00",
            "placeholder": "​",
            "style": "IPY_MODEL_124b9b1f7d8f40ed8c2191b7835f879a",
            "value": "Loading checkpoint shards: 100%"
          }
        },
        "71547ffb109c4355920f7b5eccc0361f": {
          "model_module": "@jupyter-widgets/controls",
          "model_name": "FloatProgressModel",
          "model_module_version": "1.5.0",
          "state": {
            "_dom_classes": [],
            "_model_module": "@jupyter-widgets/controls",
            "_model_module_version": "1.5.0",
            "_model_name": "FloatProgressModel",
            "_view_count": null,
            "_view_module": "@jupyter-widgets/controls",
            "_view_module_version": "1.5.0",
            "_view_name": "ProgressView",
            "bar_style": "success",
            "description": "",
            "description_tooltip": null,
            "layout": "IPY_MODEL_1c1f44e7b2d843f19f5035fd7673f052",
            "max": 8,
            "min": 0,
            "orientation": "horizontal",
            "style": "IPY_MODEL_f0a54e29d7bc41ff81011776a714dad8",
            "value": 8
          }
        },
        "8f2a7e97d3a8453db6c096f9600d5c07": {
          "model_module": "@jupyter-widgets/controls",
          "model_name": "HTMLModel",
          "model_module_version": "1.5.0",
          "state": {
            "_dom_classes": [],
            "_model_module": "@jupyter-widgets/controls",
            "_model_module_version": "1.5.0",
            "_model_name": "HTMLModel",
            "_view_count": null,
            "_view_module": "@jupyter-widgets/controls",
            "_view_module_version": "1.5.0",
            "_view_name": "HTMLView",
            "description": "",
            "description_tooltip": null,
            "layout": "IPY_MODEL_72009299091441ab8902ae545b1d431a",
            "placeholder": "​",
            "style": "IPY_MODEL_947beaa6b0724d3a96bb517513c550ed",
            "value": " 8/8 [01:33&lt;00:00, 10.38s/it]"
          }
        },
        "0dbb8b5ae08a479f9a8c90cd615a787f": {
          "model_module": "@jupyter-widgets/base",
          "model_name": "LayoutModel",
          "model_module_version": "1.2.0",
          "state": {
            "_model_module": "@jupyter-widgets/base",
            "_model_module_version": "1.2.0",
            "_model_name": "LayoutModel",
            "_view_count": null,
            "_view_module": "@jupyter-widgets/base",
            "_view_module_version": "1.2.0",
            "_view_name": "LayoutView",
            "align_content": null,
            "align_items": null,
            "align_self": null,
            "border": null,
            "bottom": null,
            "display": null,
            "flex": null,
            "flex_flow": null,
            "grid_area": null,
            "grid_auto_columns": null,
            "grid_auto_flow": null,
            "grid_auto_rows": null,
            "grid_column": null,
            "grid_gap": null,
            "grid_row": null,
            "grid_template_areas": null,
            "grid_template_columns": null,
            "grid_template_rows": null,
            "height": null,
            "justify_content": null,
            "justify_items": null,
            "left": null,
            "margin": null,
            "max_height": null,
            "max_width": null,
            "min_height": null,
            "min_width": null,
            "object_fit": null,
            "object_position": null,
            "order": null,
            "overflow": null,
            "overflow_x": null,
            "overflow_y": null,
            "padding": null,
            "right": null,
            "top": null,
            "visibility": null,
            "width": null
          }
        },
        "18a1aa62e9ff405a80ba607e2533fb00": {
          "model_module": "@jupyter-widgets/base",
          "model_name": "LayoutModel",
          "model_module_version": "1.2.0",
          "state": {
            "_model_module": "@jupyter-widgets/base",
            "_model_module_version": "1.2.0",
            "_model_name": "LayoutModel",
            "_view_count": null,
            "_view_module": "@jupyter-widgets/base",
            "_view_module_version": "1.2.0",
            "_view_name": "LayoutView",
            "align_content": null,
            "align_items": null,
            "align_self": null,
            "border": null,
            "bottom": null,
            "display": null,
            "flex": null,
            "flex_flow": null,
            "grid_area": null,
            "grid_auto_columns": null,
            "grid_auto_flow": null,
            "grid_auto_rows": null,
            "grid_column": null,
            "grid_gap": null,
            "grid_row": null,
            "grid_template_areas": null,
            "grid_template_columns": null,
            "grid_template_rows": null,
            "height": null,
            "justify_content": null,
            "justify_items": null,
            "left": null,
            "margin": null,
            "max_height": null,
            "max_width": null,
            "min_height": null,
            "min_width": null,
            "object_fit": null,
            "object_position": null,
            "order": null,
            "overflow": null,
            "overflow_x": null,
            "overflow_y": null,
            "padding": null,
            "right": null,
            "top": null,
            "visibility": null,
            "width": null
          }
        },
        "124b9b1f7d8f40ed8c2191b7835f879a": {
          "model_module": "@jupyter-widgets/controls",
          "model_name": "DescriptionStyleModel",
          "model_module_version": "1.5.0",
          "state": {
            "_model_module": "@jupyter-widgets/controls",
            "_model_module_version": "1.5.0",
            "_model_name": "DescriptionStyleModel",
            "_view_count": null,
            "_view_module": "@jupyter-widgets/base",
            "_view_module_version": "1.2.0",
            "_view_name": "StyleView",
            "description_width": ""
          }
        },
        "1c1f44e7b2d843f19f5035fd7673f052": {
          "model_module": "@jupyter-widgets/base",
          "model_name": "LayoutModel",
          "model_module_version": "1.2.0",
          "state": {
            "_model_module": "@jupyter-widgets/base",
            "_model_module_version": "1.2.0",
            "_model_name": "LayoutModel",
            "_view_count": null,
            "_view_module": "@jupyter-widgets/base",
            "_view_module_version": "1.2.0",
            "_view_name": "LayoutView",
            "align_content": null,
            "align_items": null,
            "align_self": null,
            "border": null,
            "bottom": null,
            "display": null,
            "flex": null,
            "flex_flow": null,
            "grid_area": null,
            "grid_auto_columns": null,
            "grid_auto_flow": null,
            "grid_auto_rows": null,
            "grid_column": null,
            "grid_gap": null,
            "grid_row": null,
            "grid_template_areas": null,
            "grid_template_columns": null,
            "grid_template_rows": null,
            "height": null,
            "justify_content": null,
            "justify_items": null,
            "left": null,
            "margin": null,
            "max_height": null,
            "max_width": null,
            "min_height": null,
            "min_width": null,
            "object_fit": null,
            "object_position": null,
            "order": null,
            "overflow": null,
            "overflow_x": null,
            "overflow_y": null,
            "padding": null,
            "right": null,
            "top": null,
            "visibility": null,
            "width": null
          }
        },
        "f0a54e29d7bc41ff81011776a714dad8": {
          "model_module": "@jupyter-widgets/controls",
          "model_name": "ProgressStyleModel",
          "model_module_version": "1.5.0",
          "state": {
            "_model_module": "@jupyter-widgets/controls",
            "_model_module_version": "1.5.0",
            "_model_name": "ProgressStyleModel",
            "_view_count": null,
            "_view_module": "@jupyter-widgets/base",
            "_view_module_version": "1.2.0",
            "_view_name": "StyleView",
            "bar_color": null,
            "description_width": ""
          }
        },
        "72009299091441ab8902ae545b1d431a": {
          "model_module": "@jupyter-widgets/base",
          "model_name": "LayoutModel",
          "model_module_version": "1.2.0",
          "state": {
            "_model_module": "@jupyter-widgets/base",
            "_model_module_version": "1.2.0",
            "_model_name": "LayoutModel",
            "_view_count": null,
            "_view_module": "@jupyter-widgets/base",
            "_view_module_version": "1.2.0",
            "_view_name": "LayoutView",
            "align_content": null,
            "align_items": null,
            "align_self": null,
            "border": null,
            "bottom": null,
            "display": null,
            "flex": null,
            "flex_flow": null,
            "grid_area": null,
            "grid_auto_columns": null,
            "grid_auto_flow": null,
            "grid_auto_rows": null,
            "grid_column": null,
            "grid_gap": null,
            "grid_row": null,
            "grid_template_areas": null,
            "grid_template_columns": null,
            "grid_template_rows": null,
            "height": null,
            "justify_content": null,
            "justify_items": null,
            "left": null,
            "margin": null,
            "max_height": null,
            "max_width": null,
            "min_height": null,
            "min_width": null,
            "object_fit": null,
            "object_position": null,
            "order": null,
            "overflow": null,
            "overflow_x": null,
            "overflow_y": null,
            "padding": null,
            "right": null,
            "top": null,
            "visibility": null,
            "width": null
          }
        },
        "947beaa6b0724d3a96bb517513c550ed": {
          "model_module": "@jupyter-widgets/controls",
          "model_name": "DescriptionStyleModel",
          "model_module_version": "1.5.0",
          "state": {
            "_model_module": "@jupyter-widgets/controls",
            "_model_module_version": "1.5.0",
            "_model_name": "DescriptionStyleModel",
            "_view_count": null,
            "_view_module": "@jupyter-widgets/base",
            "_view_module_version": "1.2.0",
            "_view_name": "StyleView",
            "description_width": ""
          }
        }
      }
    }
  },
  "nbformat": 4,
  "nbformat_minor": 5
}